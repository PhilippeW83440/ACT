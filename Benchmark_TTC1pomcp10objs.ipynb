{
 "cells": [
  {
   "cell_type": "markdown",
   "metadata": {},
   "source": [
    "# SafetyTests for TrajPOMDP"
   ]
  },
  {
   "cell_type": "markdown",
   "metadata": {},
   "source": [
    "An environment for obstacle avoidance tasks  \n",
    "  \n",
    "The basic idea is to have a 2D area with objects moving more or less randomly inside, and the ego vehicle has to drive safely inside.   "
   ]
  },
  {
   "cell_type": "markdown",
   "metadata": {},
   "source": [
    "## POMDP model\n",
    "\n",
    "\n",
    "* **States:** $\\{(x,y,v_x,v_y)_{ego},{(x,y,v_x,v_y)_{obj}}_{1..n}\\}$  \n",
    "* **Actions:** $a_{longitudinal} \\in [-2, -1, 0, 1, 2]$ $m.s^{-2}$ for ego speed increase. $a_{lateral}$ wil be added next\n",
    "* **Observations:** obj observed via a Linear Gaussian Observation sensor model that is discretized.   \n",
    "We can sense objects in a $200\\:m \\times 200\\:m$ area. We will use a $1 \\: m$ and $1 \\: m.s^{-1}$ grids resolution.\n",
    "* **Transitions:** Linear Gaussian Dynamics \n",
    "* **Rewards:** accounts for efficiency, comfort and safety. Discount factor: 0.9  \n",
    "   "
   ]
  },
  {
   "cell_type": "markdown",
   "metadata": {},
   "source": [
    "## How to define a Test Scenario\n",
    "\n",
    "* Provide an initialisation function to setup: N objects and 1 ego vehicle with initial $[x,y,v_x,v_y]$ information. Called in **initialstate_distribution**  \n",
    "* Define level of uncertainties for Transition and Observation Models: $\\Sigma_s,\\Sigma_o$. Called in **initialstate_distribution**  \n",
    "* Define level of uncertainty associated to objects' intent: provide a function that will return a control command (corresponding to accelerations $[a_x, a_y]$). The basic idea is that by default an object moves at some constant speed, and from time to time, accelerate or decelarate during a short period of time. So basically we will sample some numbers: next time we accelerate/decelerate, with which magnitude and for how long. Called in ** \n",
    "generate_s**    \n",
    "  \n",
    "In this test environment, the n objects evolve independantly and we will ignore collisions in between the n objects. We just care about collisions with the ego vehicle.  \n",
    "  \n",
    "\n",
    "The test difficulty will be related to the number of objects and the different level of uncertainties. \n",
    "  \n",
    "Use seeds to make the tests results reproducible.  \n",
    "  \n",
    "For an example: cf **scn1_init()** and **scn1_step()** examples below\n",
    "  "
   ]
  },
  {
   "cell_type": "markdown",
   "metadata": {},
   "source": [
    "## MCTS TreeSearch with BasicPOMCP in experimental_ttc1 mode"
   ]
  },
  {
   "cell_type": "markdown",
   "metadata": {},
   "source": [
    "* Reduced Tree width \n",
    "* Easier analysis  \n",
    "* More consistent and valuable statistics (N is bigger per observation nodes) that should provide better estimates of Q-values\n",
    "* Rollout evaluation still done with legacy or continuous observations"
   ]
  },
  {
   "cell_type": "code",
   "execution_count": null,
   "metadata": {
    "collapsed": false
   },
   "outputs": [],
   "source": [
    "HTML(\"\"\"<img src=\"img/BasicPOMCP-experimental_ttc1.png\"/>\"\"\")"
   ]
  },
  {
   "cell_type": "code",
   "execution_count": 2,
   "metadata": {
    "collapsed": false
   },
   "outputs": [
    {
     "data": {
      "text/html": [
       "<img src=\"img/BasicPomcp-obs_classes.png\"/>"
      ],
      "text/plain": [
       "HTML{String}(\"<img src=\\\"img/BasicPomcp-obs_classes.png\\\"/>\")"
      ]
     },
     "execution_count": 2,
     "metadata": {},
     "output_type": "execute_result"
    }
   ],
   "source": [
    "HTML(\"\"\"<img src=\"img/BasicPomcp-obs_classes.png\"/>\"\"\")"
   ]
  },
  {
   "cell_type": "markdown",
   "metadata": {},
   "source": [
    "## MCTS TreeSearch with BasicPOMCP in default legacy mode"
   ]
  },
  {
   "cell_type": "code",
   "execution_count": 3,
   "metadata": {
    "collapsed": false
   },
   "outputs": [
    {
     "data": {
      "text/html": [
       "<img src=\"img/BasicPOMCP.png\"/>"
      ],
      "text/plain": [
       "HTML{String}(\"<img src=\\\"img/BasicPOMCP.png\\\"/>\")"
      ]
     },
     "execution_count": 3,
     "metadata": {},
     "output_type": "execute_result"
    }
   ],
   "source": [
    "HTML(\"\"\"<img src=\"img/BasicPOMCP.png\"/>\"\"\")"
   ]
  },
  {
   "cell_type": "markdown",
   "metadata": {},
   "source": [
    "## POMCPSolver options"
   ]
  },
  {
   "cell_type": "code",
   "execution_count": 4,
   "metadata": {
    "collapsed": false
   },
   "outputs": [
    {
     "name": "stdout",
     "output_type": "stream",
     "text": [
      "search:\n",
      "\n",
      "Couldn't find \u001b[36mPOMCPSolver\u001b[39m\n",
      "Perhaps you meant mapfoldr\n"
     ]
    },
    {
     "data": {
      "text/latex": [
       "No documentation found.\n",
       "\n",
       "Binding \\texttt{POMCPSolver} does not exist.\n",
       "\n"
      ],
      "text/markdown": [
       "No documentation found.\n",
       "\n",
       "Binding `POMCPSolver` does not exist.\n"
      ],
      "text/plain": [
       "  No documentation found.\n",
       "\n",
       "  Binding \u001b[36mPOMCPSolver\u001b[39m does not exist."
      ]
     },
     "execution_count": 4,
     "metadata": {},
     "output_type": "execute_result"
    }
   ],
   "source": [
    "?POMCPSolver"
   ]
  },
  {
   "cell_type": "markdown",
   "metadata": {},
   "source": [
    "## Ongoing tests: BasicPOMCP modifications"
   ]
  },
  {
   "cell_type": "markdown",
   "metadata": {},
   "source": [
    "We create a set of **observation classes** to make the tree search more efficient and safety aware.  \n",
    "These classes are created with safety considerations in mind.  "
   ]
  },
  {
   "cell_type": "markdown",
   "metadata": {},
   "source": [
    ">import Pkg  \n",
    ">Pkg.dir(\"BasicPOMCP\")  \n",
    "  \n",
    "Enables to locate files  \n",
    "Do local modifications  \n",
    "Kernel restart and clear output\n",
    "\n",
    ">using BasicPOMCP  \n",
    "  \n",
    "Test if it is possible to aggregate observations nodes based on some external criteria  \n",
    "Without changing KF BeliefUpdater which is required unchanged for ROLLOUT evaluation  "
   ]
  },
  {
   "cell_type": "markdown",
   "metadata": {},
   "source": [
    "**Idea is: Reduce the width of the tree by grouping the observation nodes that should correspond to the same Utility so that overall computation is much more efficient .... Do not evaluate N functions if these N functions are expected to provide the same result ...**\n",
    "  \n",
    "Modifs in:\n",
    "* solver.jl  \n",
    "* rollout.jl  \n",
    "* BasicPOMCP.jl  \n",
    "\n",
    "In the tree we want to aggregate observation nodes corresponding to same TTC1 criteria. So basically we would be dealing with just a few observation nodes in the tree. \n",
    "But, during rollout we sample states from the belief which is updated via UpdateBelief(b, a, o) and here we want to deal with the original observation (not aggregated observation)  \n",
    "\n",
    "So every observation, which is already discretized as $N \\times [x,y,v_x,v_y]$ with Int values will be associated to 2 versions:  \n",
    "* The observation in extension, as before, used by KF BeliefUpdater. Used to sample a state.\n",
    "* The observation class, in compact form, to enable observations aggregation in the tree. Used to evaluate a Utility: we want to group all the nodes that should correspond to same Utility. Moreover this aggregation is done in a way to consider mainly pessimistic scenarios w.r.t. observations. We prefer sampling observations that correspond to critical use cases, so typically with a smaller TTC.      \n",
    "  \n",
    "  \n",
    " We create a set of **observation classes** to make the tree search more efficient. These classes are created with safety considerations in mind.  \n",
    "   \n",
    "Benchmark the 2 BasicPOMCP versions: TTC1pomcp (modified) vs REFpomcp (original)"
   ]
  },
  {
   "cell_type": "markdown",
   "metadata": {},
   "source": [
    "## POMDP setup\n",
    "\n",
    "First, we will define the problem with the generative interface - this is all that is needed to use the POMCP Planner."
   ]
  },
  {
   "cell_type": "code",
   "execution_count": 5,
   "metadata": {
    "collapsed": false
   },
   "outputs": [],
   "source": [
    "using POMDPs\n",
    "using Random\n",
    "import POMDPs: initialstate_distribution, actions, n_actions, reward, generate_o, generate_s, discount, isterminal\n",
    "Random.seed!(1);"
   ]
  },
  {
   "cell_type": "code",
   "execution_count": 6,
   "metadata": {
    "collapsed": true
   },
   "outputs": [],
   "source": [
    "using Distributions # for MvNormal\n",
    "using LinearAlgebra\n",
    "using Parameters # for @with_kw"
   ]
  },
  {
   "cell_type": "code",
   "execution_count": 7,
   "metadata": {
    "collapsed": false
   },
   "outputs": [],
   "source": [
    "#rng = Random.GLOBAL_RNG;\n",
    "rng = MersenneTwister(2);"
   ]
  },
  {
   "cell_type": "code",
   "execution_count": 8,
   "metadata": {
    "collapsed": false
   },
   "outputs": [],
   "source": [
    "# Space, Action, Observations\n",
    "# s: vector with 4 coordinates for ego + 4 coordinates for obj\n",
    "# a an Int encoding an acceleration or deceleration step\n",
    "\n",
    "# o : an Int cf get_safety_valued_o which works out an Int between 0 and 11 (TTC based)\n",
    "\n",
    "const VecEgoObj = Array{Float64, 1}\n",
    "abstract type AbstractTraj <: POMDP{VecEgoObj, Int, Vector{Int64}} end"
   ]
  },
  {
   "cell_type": "code",
   "execution_count": 9,
   "metadata": {
    "collapsed": false
   },
   "outputs": [],
   "source": [
    "# Trajectory Planner POMDP\n",
    "@with_kw mutable struct TrajPOMDP <: AbstractTraj\n",
    "    \n",
    "    n_obj::Int = 1 # by default 1 obj in addition to ego vehicle\n",
    "    discount_factor::Float64 = 0.9 # to account for decrasing precision in predictions\n",
    "\n",
    "    # ---------------\n",
    "    # safety related\n",
    "    # ---------------\n",
    "    smallest_TTC::Float64 = Inf # smallest Time To Collision\n",
    "    smallest_TTC_obj::Int = -1 # obj with smallest TTC\n",
    "    dist_collision::Float64 = 10 # We declare collision-event when dist ego-obj is below this threshold\n",
    "    dist_nearest_obj::Float64 = Inf # initially we do not see obj\n",
    "\n",
    "    # --------------\n",
    "    # goals related\n",
    "    # --------------\n",
    "    goal::Vector{Float64} = [100.0, 200.0, 0.0, 0.0] # our goal: target state for ego\n",
    "    # the ratio between the 2 below values measures progress\n",
    "    dist_to_goal::Float64 = Inf # remaining dist to goal\n",
    "    dist_start_to_goal::Float64 = Inf # \n",
    "\n",
    "    # ---------------\n",
    "    # rewards related\n",
    "    # ---------------\n",
    "    r_comfort::Float64 = 0\n",
    "    r_efficiency::Float64 = 0\n",
    "    r_safety::Float64 = 0\n",
    "    \n",
    "    # initialized by initialstate_distribution\n",
    "    σ2_state::Vector{Float64} = Float64[] # TODO this is redundant (stored in MvNormal belief...)\n",
    "    # no need to explicity keep track of state here: we get s from POMDPs core framework\n",
    "end\n",
    "\n",
    "discount(p::TrajPOMDP) = p.discount_factor\n",
    "isterminal(p::TrajPOMDP, s::VecEgoObj) = (get_dist_nearest_obj(p,s) <= p.dist_collision || s[2] >= p.goal[2]);"
   ]
  },
  {
   "cell_type": "code",
   "execution_count": 10,
   "metadata": {
    "collapsed": false
   },
   "outputs": [
    {
     "data": {
      "text/plain": [
       "n_actions (generic function with 1 method)"
      ]
     },
     "execution_count": 10,
     "metadata": {},
     "output_type": "execute_result"
    }
   ],
   "source": [
    "# Aligned settings with UrbanPOMDP\n",
    "\n",
    "actions(::TrajPOMDP) = [-4, -2, 0, 2] # longitudinal acceleration\n",
    "n_actions(::TrajPOMDP) = 4"
   ]
  },
  {
   "cell_type": "markdown",
   "metadata": {},
   "source": [
    "## Transition and Observation Models: Linear-Gaussian\n",
    "\n",
    "Cf DMU book section 6.2.2: same notations used here       "
   ]
  },
  {
   "cell_type": "markdown",
   "metadata": {},
   "source": [
    "### Transition model"
   ]
  },
  {
   "cell_type": "code",
   "execution_count": 11,
   "metadata": {
    "collapsed": false
   },
   "outputs": [
    {
     "data": {
      "text/plain": [
       "Transition_obj (generic function with 1 method)"
      ]
     },
     "execution_count": 11,
     "metadata": {},
     "output_type": "execute_result"
    }
   ],
   "source": [
    "# Aligned settings with UrbanPOMDP\n",
    "#const dt = 0.5 # time step too much ... not realistic\n",
    "\n",
    "const dt = 0.2 # time step\n",
    "\n",
    "# s=[x,y,vx,vy]\n",
    "const Ts = [1.0 0.0 dt  0.0;\n",
    "           0.0 1.0 0.0 dt ;\n",
    "           0.0 0.0 1.0 0.0;\n",
    "           0.0 0.0 0.0 1.0]\n",
    "\n",
    "# a = [ax, ay]\n",
    "const Ta = [0.5*dt^2 0.0     ;\n",
    "            0.0      0.5*dt^2;\n",
    "            dt       0.0     ;\n",
    "            0.0      dt      ]\n",
    "\n",
    "# TODO: Exact values to be refined. So far assume not too stochastic ...\n",
    "const Σs = Matrix(1e-10 * Diagonal{Float64}(I, 4)) # Process noise covariance\n",
    "\n",
    "# Transition models for ego and obj\n",
    "Transition_ego(s::Array{Float64,1}, a::Array{Float64,1}) = Ts*s + Ta*a\n",
    "#Transit_obj(s, a, rng) = Ts*s + Ta*a + rand(rng, MvNormal(Σs))\n",
    "Transition_obj(s, a, rng) = Ts*s + Ta*a # XXX so far ..."
   ]
  },
  {
   "cell_type": "markdown",
   "metadata": {},
   "source": [
    "### Observation model\n",
    "\n",
    "Next, the observation model is defined. $h$ generates an observation (this is only used in the simulation, not in the filter), $g$ returns the relative likelyhood of an observation given the previous state, control, and current state."
   ]
  },
  {
   "cell_type": "code",
   "execution_count": 12,
   "metadata": {
    "collapsed": false
   },
   "outputs": [
    {
     "data": {
      "text/plain": [
       "Observation_obj (generic function with 1 method)"
      ]
     },
     "execution_count": 12,
     "metadata": {},
     "output_type": "execute_result"
    }
   ],
   "source": [
    "# Linear observation model: we assume we observe directly s, so Identity matrix,  but it is noisy that's all...\n",
    "const Os = Matrix(Diagonal{Float64}(I, 4)) # Process noise covariance\n",
    "\n",
    "\n",
    "const Σo = Matrix(3.00 * Diagonal{Float64}(I, 4)) # Measurement noise covariance\n",
    "\n",
    "Observation_obj(s, rng) = rand(rng, MvNormal(Os*s, Σo))\n",
    "#llh_obj(x0, u, x, y) = pdf(MvNormal(x, Σo), y)"
   ]
  },
  {
   "cell_type": "markdown",
   "metadata": {},
   "source": [
    "## Some useful functions"
   ]
  },
  {
   "cell_type": "code",
   "execution_count": 13,
   "metadata": {
    "collapsed": false
   },
   "outputs": [
    {
     "data": {
      "text/plain": [
       "get_dist (generic function with 1 method)"
      ]
     },
     "execution_count": 13,
     "metadata": {},
     "output_type": "execute_result"
    }
   ],
   "source": [
    "function get_dist(obj1::Vector{Float64}, obj2::Vector{Float64})\n",
    "    sqrt((obj1[1]-obj2[1])^2 + (obj1[2]-obj2[2])^2)\n",
    "end"
   ]
  },
  {
   "cell_type": "code",
   "execution_count": 14,
   "metadata": {
    "collapsed": false
   },
   "outputs": [
    {
     "data": {
      "text/plain": [
       "get_dist_nearest_obj (generic function with 1 method)"
      ]
     },
     "execution_count": 14,
     "metadata": {},
     "output_type": "execute_result"
    }
   ],
   "source": [
    "function get_dist_nearest_obj(p::TrajPOMDP, s::VecEgoObj)\n",
    "    ego = s[1:4]\n",
    "    \n",
    "    dist_nearest_obj = Inf\n",
    "    num_nearest_obj = -1\n",
    "    \n",
    "    idx = 5\n",
    "    for n in 1:p.n_obj\n",
    "        obj = s[idx:idx+3]\n",
    "        dist = get_dist(ego, obj)\n",
    "        \n",
    "        if dist < dist_nearest_obj\n",
    "            dist_nearest_obj = dist\n",
    "            num_nearest_obj = n\n",
    "        end\n",
    "        idx += 4\n",
    "    end\n",
    "    \n",
    "    return dist_nearest_obj\n",
    "end"
   ]
  },
  {
   "cell_type": "code",
   "execution_count": 15,
   "metadata": {
    "collapsed": false
   },
   "outputs": [
    {
     "data": {
      "text/plain": [
       "get_dist_to_goal (generic function with 1 method)"
      ]
     },
     "execution_count": 15,
     "metadata": {},
     "output_type": "execute_result"
    }
   ],
   "source": [
    "function get_dist_to_goal(p::TrajPOMDP, s::VecEgoObj)\n",
    "    return get_dist(s[1:4], p.goal)\n",
    "end"
   ]
  },
  {
   "cell_type": "markdown",
   "metadata": {},
   "source": [
    "### Time To Collision\n",
    "\n",
    "We want to find out the TTC between ego and each object objects  \n",
    "This is a key information in the decision making process  "
   ]
  },
  {
   "cell_type": "markdown",
   "metadata": {},
   "source": [
    "For the TTC between 2 objects:  \n",
    "* Compute $t=TTC$ such that distance$(\\begin{bmatrix}x_1+\\dot{x_1}t \\\\ y_1+ \\dot{y_1}t \\end{bmatrix} - \\begin{bmatrix}x_2+\\dot{x_2}t \\\\ y_2+\\dot{y_2}t \\end{bmatrix}) <= R$    \n",
    "* R should be replaced by the delta of the 2 objects' radius... i.e. when they collide...    \n",
    "* That's just a quadratic equation in t  "
   ]
  },
  {
   "cell_type": "markdown",
   "metadata": {},
   "source": [
    "$[(x_1 - x_2) + (\\dot{x}_1 - \\dot{x}_2)t]^2 + [(y_1 - y_2) + (\\dot{y}_1 - \\dot{y}_2)t]^2 \\leq R$"
   ]
  },
  {
   "cell_type": "markdown",
   "metadata": {},
   "source": [
    "$ t^2 [(\\dot{x}_1 - \\dot{x}_2)^2+(\\dot{y}_1 - \\dot{y}_2)^2] + 2t [(x_1 - x_2)(\\dot{x}_1-\\dot{x}_2)+(y_1 - y_2) (\\dot{y}_1 - \\dot{y}_2)] + [(x_1 - x_2)^2 + (y_1 - y_2)^2] \\leq R$"
   ]
  },
  {
   "cell_type": "markdown",
   "metadata": {},
   "source": [
    "Let's find $t=TTC$ s.t.:\n",
    "$$ at^2 + bt + c = 0$$  \n",
    "with:  \n",
    "* $a=[(\\dot{x}_1 - \\dot{x}_2)^2+(\\dot{y}_1 - \\dot{y}_2)^2]$   \n",
    "* $b= 2 [(x_1 - x_2)(\\dot{x}_1 - \\dot{x}_2)+(y_1 - y_2) (\\dot{y}_1 - \\dot{y}_2)]$  \n",
    "* $c=[(x_1 - x_2)^2 + (y_1 - y_2)^2] - R^2$  "
   ]
  },
  {
   "cell_type": "code",
   "execution_count": 16,
   "metadata": {
    "collapsed": false
   },
   "outputs": [],
   "source": [
    "function get_TTC(ego::Vector{Float64}, obj::Vector{Float64}, radius::Float64)\n",
    "        \n",
    "    x1 = ego[1] ; y1 = ego[2]; vx1 = ego[3]; vy1 = ego[4]\n",
    "    x2 = obj[1] ; y2 = obj[2]; vx2 = obj[3]; vy2 = obj[4]\n",
    "            \n",
    "    a = (vx1 - vx2)^2 + (vy1 - vy2)^2\n",
    "    b = 2 * ((x1 - x2) * (vx1 - vx2) + (y1 - y2) * (vy1 - vy2))\n",
    "    c = (x1 - x2)^2 + (y1 - y2)^2 - radius^2 # TODO remove harcoded value\n",
    "        \n",
    "    if a == 0 && b == 0\n",
    "        if c == 0\n",
    "            return 0\n",
    "        else\n",
    "            return Inf\n",
    "        end\n",
    "    end\n",
    "    \n",
    "    if a == 0 && b != 0\n",
    "        t = -c/b\n",
    "        if t < 0\n",
    "            return Inf\n",
    "        else\n",
    "            return t\n",
    "        end\n",
    "    end\n",
    "    \n",
    "    Δ = b^2 - 4*a*c\n",
    "    if Δ < 0\n",
    "        return Inf\n",
    "    end\n",
    "    \n",
    "    t1 = (-b-sqrt(Δ))/(2*a)\n",
    "    t2 = (-b+sqrt(Δ))/(2*a)  \n",
    "    if t1 < 0\n",
    "        t1 = Inf\n",
    "    end\n",
    "    \n",
    "    if t2 < 0\n",
    "        t2 = Inf\n",
    "    end\n",
    "    \n",
    "    return min(t1, t2)    \n",
    "end;"
   ]
  },
  {
   "cell_type": "code",
   "execution_count": 17,
   "metadata": {
    "collapsed": false
   },
   "outputs": [
    {
     "data": {
      "text/plain": [
       "get_smallest_TTC (generic function with 1 method)"
      ]
     },
     "execution_count": 17,
     "metadata": {},
     "output_type": "execute_result"
    }
   ],
   "source": [
    "function get_smallest_TTC(s::VecEgoObj)\n",
    "    \n",
    "    radius = 15.0\n",
    "    ego = s[1:4]\n",
    "    \n",
    "    \n",
    "    smallest_TTC = Inf\n",
    "    smallest_TTC_obj = -1\n",
    "    \n",
    "    idx = 5\n",
    "    for n in 1:Int64((length(s)-4)/4)\n",
    "        obj = s[idx:idx+3]\n",
    "        TTC = get_TTC(ego, obj, radius)\n",
    "        \n",
    "        if TTC < smallest_TTC\n",
    "            smallest_TTC = TTC\n",
    "            smallest_TTC_obj = n\n",
    "        end\n",
    "        idx += 4\n",
    "    end\n",
    "    \n",
    "    return smallest_TTC, smallest_TTC_obj\n",
    "end"
   ]
  },
  {
   "cell_type": "code",
   "execution_count": 18,
   "metadata": {
    "collapsed": false
   },
   "outputs": [
    {
     "name": "stdout",
     "output_type": "stream",
     "text": [
      "dist: 141.4213562373095\n",
      "TTC: 4.4696699141100895\n"
     ]
    }
   ],
   "source": [
    "# just checking\n",
    "obj1=[0.0, 100, 20, 0]\n",
    "obj2=[100, 0.0, 0, 20]\n",
    "println(\"dist: \", get_dist(obj1, obj2))\n",
    "println(\"TTC: \", get_TTC(obj1, obj2, 15.0))"
   ]
  },
  {
   "cell_type": "markdown",
   "metadata": {},
   "source": [
    "## Generative models for POMCP"
   ]
  },
  {
   "cell_type": "code",
   "execution_count": 19,
   "metadata": {
    "collapsed": false
   },
   "outputs": [
    {
     "data": {
      "text/plain": [
       "generate_s (generic function with 2 methods)"
      ]
     },
     "execution_count": 19,
     "metadata": {},
     "output_type": "execute_result"
    }
   ],
   "source": [
    "function generate_s(p::TrajPOMDP, s::Array{Float64,1}, a::Int, rng::AbstractRNG)    \n",
    "    s_ego = s[1:4]\n",
    "    a_ego = [0.0, a]\n",
    "    sp_ego = Transition_ego(s_ego, a_ego)\n",
    "    \n",
    "    sp = sp_ego\n",
    "    \n",
    "    idx = 5\n",
    "    for n in 1:p.n_obj\n",
    "        s_obj = s[idx:idx+3]\n",
    "        #a_obj = scn1_step(s, n) # [0.0 , 0.0] # XXX for now on ...\n",
    "        a_obj = scn2_step(s, n) # [0.0 , 0.0] # XXX for now on ...\n",
    "        sp_obj = Transition_obj(s_obj, a_obj, rng)\n",
    "        sp = vcat(sp, sp_obj)\n",
    "        idx += 4\n",
    "    end\n",
    "    \n",
    "    return sp\n",
    "end"
   ]
  },
  {
   "cell_type": "code",
   "execution_count": 20,
   "metadata": {
    "collapsed": false
   },
   "outputs": [],
   "source": [
    "# TODO: The farther away the bigger the sensor error will be \n",
    "#obs_std(ego::Vec2, obj::Vec2) = sqrt(0.5*((ego[1]-obj[1])^2 + (ego[2]-obj[2])^2))\n"
   ]
  },
  {
   "cell_type": "code",
   "execution_count": 21,
   "metadata": {
    "collapsed": false
   },
   "outputs": [
    {
     "data": {
      "text/plain": [
       "get_safety_valued_o (generic function with 1 method)"
      ]
     },
     "execution_count": 21,
     "metadata": {},
     "output_type": "execute_result"
    }
   ],
   "source": [
    "\n",
    "function get_safety_valued_o(s_ego::Vector{Float64}, o::Vector{Int})\n",
    "    smallest_TTC, smallest_TTC_obj = get_smallest_TTC(vcat(s_ego, Float64.(o)))\n",
    "    smallest_TTC = min(smallest_TTC, 11)\n",
    "    smallest_TTC = trunc(Int, smallest_TTC)\n",
    "    return (smallest_TTC)\n",
    "end"
   ]
  },
  {
   "cell_type": "code",
   "execution_count": 22,
   "metadata": {
    "collapsed": false
   },
   "outputs": [
    {
     "data": {
      "text/plain": [
       "generate_o (generic function with 2 methods)"
      ]
     },
     "execution_count": 22,
     "metadata": {},
     "output_type": "execute_result"
    }
   ],
   "source": [
    "# we return a discrete observation (out of a continuous distribution...)\n",
    "function generate_o(p::TrajPOMDP, s::VecEgoObj, a::Int, sp::VecEgoObj, rng::AbstractRNG)\n",
    "    \n",
    "    ### !!! Reduce the number of observations per action to constraint tree search size !!!\n",
    "    #mu_o = sp[3]\n",
    "    #std_o = 1\n",
    "    #observations = [mu_o - std_o, mu_o, mu_o + std_o]\n",
    "    #o = observations[ rand(1:3) ]\n",
    "    #x_o = min(round(o), 199)\n",
    "    #y_o = round(sp[4])\n",
    "    #return Int64(200 * y_o + x_o)\n",
    "    \n",
    "    #o = rand(rng, MvNormal(sp, diagm(0 => [1e-10, 1e-10, 1e-10, 1e-10, 1, 1, 1, 1]) ))\n",
    "    \n",
    "    # NB: with BasicPOMCP experimental_ttc1 we can use continuous observations as well\n",
    "    # without side effects\n",
    "    \n",
    "    o = Int64[]\n",
    "    idx = 5\n",
    "    for n in 1:p.n_obj\n",
    "        o_obj = Observation_obj(sp[idx:idx+3], rng) # vector with 4 continuous components\n",
    "        o = vcat(o, round.(Int64, o_obj)) # Discretized observation\n",
    "        idx += 4\n",
    "    end\n",
    "    \n",
    "    # Integer between 0 and 11\n",
    "    #safety_valued_o = get_safety_valued_o(sp[1:4], o)\n",
    "    #return safety_valued_o\n",
    "    \n",
    "    return o\n",
    "end"
   ]
  },
  {
   "cell_type": "code",
   "execution_count": 24,
   "metadata": {
    "collapsed": false
   },
   "outputs": [],
   "source": [
    "function reward(p::TrajPOMDP, s::VecEgoObj, a::Int, sp::VecEgoObj)\n",
    "    \n",
    "    # Keep track for visualization, plots ...\n",
    "    p.dist_to_goal = get_dist_to_goal(p, sp)\n",
    "    p.dist_nearest_obj = get_dist_nearest_obj(p, sp)\n",
    "    p.smallest_TTC, p.smallest_TTC_obj = get_smallest_TTC(sp)\n",
    "    \n",
    "    # We are dealiong with 3 types of objectives:\n",
    "    # - COMFORT (weiht 1)\n",
    "    # - EFFICIENCY (weight 10)\n",
    "    # - SAFETY (weight 100)\n",
    "    \n",
    "    r_comfort = r_efficiency = r_safety = 0\n",
    "        \n",
    "    if p.smallest_TTC <= 10.0\n",
    "        r_safety += -10 - (10 - p.smallest_TTC) * 10 # between [-100, 0]\n",
    "    end\n",
    "    \n",
    "    # SAFETY related + terminal state (overwrite)\n",
    "    if p.dist_nearest_obj <= p.dist_collision\n",
    "        r_safety += -1000\n",
    "    end\n",
    "    \n",
    "    # The faster we go in this test setup\n",
    "    r_efficiency += a\n",
    "    \n",
    "    if a < -2\n",
    "        r_comfort += -1\n",
    "    end\n",
    "    \n",
    "    # Keep track for visualization, plots ...\n",
    "    p.r_comfort = r_comfort\n",
    "    p.r_efficiency = r_efficiency\n",
    "    p.r_safety = r_safety\n",
    "    \n",
    "    return r_comfort + r_efficiency + r_safety\n",
    "end;"
   ]
  },
  {
   "cell_type": "code",
   "execution_count": 25,
   "metadata": {
    "collapsed": true
   },
   "outputs": [],
   "source": [
    "# function initialstate_distribution(p::TrajPOMDP)\n",
    "#     println(\"initialstate_distribution\")\n",
    "#     # s = [x, y, vx, vy]\n",
    "    \n",
    "#     p.n_obj = 10 # XXXX\n",
    "    \n",
    "#     ego = [100.0,   0.0,  0.0,  20.0] # moves along y-axis from 0 to 200\n",
    "#     σ2_ego = [1e-10, 1e-10, 1e-10, 1e-10]\n",
    "    \n",
    "#     p.goal = [100.0, 200.0, 0.0, 0.0] # our goal: target state for ego\n",
    "#     p.dist_start_to_goal = get_dist(ego, p.goal)\n",
    "    \n",
    "#     obj = [0.0,   100.0, 20.0,   0.0] # moves along x-axis\n",
    "#     σ2_obj = [1.0, 1, 1, 1]\n",
    "    \n",
    "#     state = vcat(ego, obj)\n",
    "#     p.σ2_state = vcat(σ2_ego, σ2_obj)\n",
    "    \n",
    "#     for n in 2:p.n_obj\n",
    "#         # TODO randomize some more things\n",
    "#         obj[2] += 9 # space out objects\n",
    "#         state = vcat(state, obj)\n",
    "#         p.σ2_state = vcat(p.σ2_state, σ2_obj)\n",
    "#     end\n",
    "    \n",
    "#     println(typeof(state))\n",
    "#     return MvNormal(state, diagm(0 => p.σ2_state))\n",
    "# end;"
   ]
  },
  {
   "cell_type": "code",
   "execution_count": 26,
   "metadata": {
    "collapsed": false
   },
   "outputs": [
    {
     "data": {
      "text/plain": [
       "randomize_initialstate (generic function with 1 method)"
      ]
     },
     "execution_count": 26,
     "metadata": {},
     "output_type": "execute_result"
    }
   ],
   "source": [
    "function randomize_initialstate()\n",
    "    μ, vector_σ2 = scn2_init(TrajPOMDP())\n",
    "    global tested_initialstate = MvNormal(μ, diagm(0 => vector_σ2))\n",
    "end"
   ]
  },
  {
   "cell_type": "code",
   "execution_count": 27,
   "metadata": {
    "collapsed": false
   },
   "outputs": [
    {
     "ename": "UndefVarError",
     "evalue": "UndefVarError: scn2_init not defined",
     "output_type": "error",
     "traceback": [
      "UndefVarError: scn2_init not defined",
      "",
      "Stacktrace:",
      " [1] randomize_initialstate() at ./In[26]:2",
      " [2] top-level scope at In[27]:1"
     ]
    }
   ],
   "source": [
    "randomize_initialstate()"
   ]
  },
  {
   "cell_type": "code",
   "execution_count": 28,
   "metadata": {
    "collapsed": false
   },
   "outputs": [],
   "source": [
    "# To make tests reproducible\n",
    "\n",
    "function initialstate_distribution(p::TrajPOMDP)\n",
    "    println(\"initialstate_distribution\")\n",
    "    \n",
    "    #μ, vector_σ2 = scn1_init(p)\n",
    "    μ, vector_σ2 = scn2_init(p)\n",
    "    global tested_initialstate = MvNormal(μ, diagm(0 => vector_σ2)) \n",
    "    return tested_initialstate\n",
    "end;"
   ]
  },
  {
   "cell_type": "markdown",
   "metadata": {},
   "source": [
    "## Defining Test Scenarios"
   ]
  },
  {
   "cell_type": "markdown",
   "metadata": {},
   "source": [
    "### How to define a Test Scenario\n",
    "\n",
    "* Provide an initialisation function to setup: N objects and 1 ego vehicle with initial $[x,y,v_x,v_y]$ information. Called in **initialstate_distribution**  \n",
    "* Define level of uncertainties for Transition and Observation Models: $\\Sigma_s,\\Sigma_o$. Called in **initialstate_distribution**  \n",
    "* Define level of uncertainty associated to objects' intent: provide a function that will return a control command (corresponding to accelerations $[a_x, a_y]$). The basic idea is that by default an object moves at some constant speed, and from time to time, accelerate or decelarate during a short period of time. So basically we will sample some numbers: next time we accelerate/decelerate, with which magnitude and for how long. Called in ** \n",
    "generate_s**    "
   ]
  },
  {
   "cell_type": "code",
   "execution_count": 29,
   "metadata": {
    "collapsed": false
   },
   "outputs": [
    {
     "data": {
      "text/plain": [
       "TestSCN"
      ]
     },
     "execution_count": 29,
     "metadata": {},
     "output_type": "execute_result"
    }
   ],
   "source": [
    "# Trajectory Planner SCENARIO\n",
    "\n",
    "# For every object\n",
    "@with_kw mutable struct objSCN\n",
    "    # ---------------------------\n",
    "    # so far we do not change ay\n",
    "    # ---------------------------\n",
    "    state::Symbol = :sinit # :sinit :sconstant_speed :saccel_decel\n",
    "    next_trigger_ax::Float64 = 30.0 # in 25..35 meters random uniform\n",
    "    ax_cmd::Int64 = 0 # -1 0 1 random uniform on ax\n",
    "    ay_cmd::Int64 = 0 # -1 0 1 random uniform on ax\n",
    "    ax_duration::Int64 = 3 # 1 2 3 random uniform\n",
    "end\n",
    "\n",
    "@with_kw mutable struct TestSCN\n",
    "    # Covariance matrix for Transition Model\n",
    "    Σs::Array{Float64,2} = Matrix(1e-10 * Diagonal{Float64}(I, 4))\n",
    "    # Covariance matrix for Motion Model\n",
    "    Σo::Array{Float64,2} = Matrix(1.00 * Diagonal{Float64}(I, 4))\n",
    "    \n",
    "    n_obj::Int = 3 # by default 3 obj in addition to ego vehicle\n",
    "    obj::Vector{objSCN} = objSCN[]\n",
    "end"
   ]
  },
  {
   "cell_type": "code",
   "execution_count": 30,
   "metadata": {
    "collapsed": false
   },
   "outputs": [
    {
     "data": {
      "text/plain": [
       "TestSCN\n",
       "  Σs: Array{Float64}((4, 4)) [1.0e-10 0.0 0.0 0.0; 0.0 1.0e-10 0.0 0.0; 0.0 0.0 1.0e-10 0.0; 0.0 0.0 0.0 1.0e-10]\n",
       "  Σo: Array{Float64}((4, 4)) [1.0 0.0 0.0 0.0; 0.0 1.0 0.0 0.0; 0.0 0.0 1.0 0.0; 0.0 0.0 0.0 1.0]\n",
       "  n_obj: Int64 3\n",
       "  obj: Array{objSCN}((0,))\n"
      ]
     },
     "execution_count": 30,
     "metadata": {},
     "output_type": "execute_result"
    }
   ],
   "source": [
    "testscn = TestSCN() # THE ONLY GLOBAL VARIABLE HERE ... with rng !!!! TODO CHECK THAT ...."
   ]
  },
  {
   "cell_type": "code",
   "execution_count": 31,
   "metadata": {
    "collapsed": false
   },
   "outputs": [
    {
     "data": {
      "text/plain": [
       "1.0"
      ]
     },
     "execution_count": 31,
     "metadata": {},
     "output_type": "execute_result"
    }
   ],
   "source": [
    "Float64(rand(rng, -1:1))"
   ]
  },
  {
   "cell_type": "code",
   "execution_count": 32,
   "metadata": {
    "collapsed": false
   },
   "outputs": [
    {
     "data": {
      "text/plain": [
       "scn1_step (generic function with 1 method)"
      ]
     },
     "execution_count": 32,
     "metadata": {},
     "output_type": "execute_result"
    }
   ],
   "source": [
    "# ------------------------------------------------------\n",
    "# From 1 scenario to the other:\n",
    "# to change LEVEL OF UNCERTAINTIES => change rand RANGES\n",
    "# ------------------------------------------------------\n",
    "\n",
    "function scn1_step(s::VecEgoObj, num_obj::Int)\n",
    "    #return [0.0 , 0.0] # XXX TODO by default (remove that)\n",
    "    \n",
    "    #return [0.0 , -1.0]\n",
    "    \n",
    "    obj_x = s[5+(num_obj-1)*4]\n",
    "    obj_ax = 0\n",
    "    obj_ay = 0\n",
    "    \n",
    "    obj = testscn.obj[num_obj]\n",
    "        \n",
    "    if obj.state == :sinit\n",
    "        \n",
    "        obj.next_trigger_ax = obj_x + Float64(rand(rng, 20:30)) # XXX RAND\n",
    "        obj.state = :sconstant_speed\n",
    "        \n",
    "    elseif obj.state == :sconstant_speed\n",
    "        \n",
    "        if obj_x >= obj.next_trigger_ax\n",
    "            obj.ax_cmd = rand(rng, -1:1) # XXX RAND\n",
    "            obj.ay_cmd = rand(rng, -1:1) # XXX RAND\n",
    "            obj.ax_duration = rand(rng, 1:5) # XXX RAND\n",
    "            obj.state = :saccel_decel\n",
    "        end\n",
    "        \n",
    "    elseif obj.state == :saccel_decel\n",
    "        obj_ax = obj.ax_cmd\n",
    "        obj_ay = obj.ay_cmd\n",
    "        obj.ax_duration -= 1\n",
    "        if obj.ax_duration <= 0\n",
    "            obj.state = :sinit\n",
    "        end\n",
    "    end\n",
    "    \n",
    "    return [obj_ax, obj_ay]\n",
    "end"
   ]
  },
  {
   "cell_type": "code",
   "execution_count": 33,
   "metadata": {
    "collapsed": false
   },
   "outputs": [
    {
     "data": {
      "text/plain": [
       "scn1_init (generic function with 1 method)"
      ]
     },
     "execution_count": 33,
     "metadata": {},
     "output_type": "execute_result"
    }
   ],
   "source": [
    "# ------------------------------------------------------\n",
    "# From 1 scenario to the other:\n",
    "# change n_obj and INIT vallues\n",
    "# ------------------------------------------------------\n",
    "\n",
    "function scn1_init(p::TrajPOMDP)\n",
    "    p.n_obj = 10 # XXX INIT\n",
    "    \n",
    "    for n in 1:p.n_obj\n",
    "        obj = objSCN()\n",
    "        push!(testscn.obj, obj)\n",
    "    end\n",
    "    \n",
    "    ego = [100.0,   0.0,  0.0,  20.0] # moves along y-axis from 0 to 200\n",
    "    σ2_ego = [1e-10, 1e-10, 1e-10, 1e-10]\n",
    "    \n",
    "    p.goal = [100.0, 200.0, 0.0, 0.0] # our goal: target state for ego\n",
    "    p.dist_start_to_goal = get_dist(ego, p.goal)\n",
    "    \n",
    "    obj = [0.0,   100.0, 20.0,   0.0] # moves along x-axis XXX INIT\n",
    "    σ2_obj = [1.0, 1, 1, 1]\n",
    "    \n",
    "    state = vcat(ego, obj)\n",
    "    σ2_state = vcat(σ2_ego, σ2_obj)\n",
    "    \n",
    "    for n in 2:p.n_obj\n",
    "        obj[2] += 9 # space out objects  XXX INIT\n",
    "        state = vcat(state, obj)\n",
    "        σ2_state = vcat(σ2_state, σ2_obj)\n",
    "    end\n",
    "    \n",
    "    p.σ2_state = σ2_state\n",
    "    \n",
    "    return state, σ2_state\n",
    "end"
   ]
  },
  {
   "cell_type": "code",
   "execution_count": 34,
   "metadata": {
    "collapsed": false
   },
   "outputs": [
    {
     "data": {
      "text/plain": [
       "scn2_init (generic function with 1 method)"
      ]
     },
     "execution_count": 34,
     "metadata": {},
     "output_type": "execute_result"
    }
   ],
   "source": [
    "# ------------------------------------------------------\n",
    "# From 1 scenario to the other:\n",
    "# change n_obj and INIT vallues\n",
    "# ------------------------------------------------------\n",
    "\n",
    "# Randomize moving objects on the test scene\n",
    "\n",
    "function scn2_init(p::TrajPOMDP)\n",
    "    n1 = 5\n",
    "    n2 = 5\n",
    "    \n",
    "    p.n_obj = n1 + n2 # XXX INIT\n",
    "    \n",
    "    for n in 1:p.n_obj\n",
    "        obj = objSCN()\n",
    "        push!(testscn.obj, obj)\n",
    "    end\n",
    "    \n",
    "    ego = [100.0,   0.0,  0.0,  20.0] # moves along y-axis from 0 to 200\n",
    "    σ2_ego = [1e-10, 1e-10, 1e-10, 1e-10]\n",
    "    \n",
    "    p.goal = [100.0, 200.0, 0.0, 0.0] # our goal: target state for ego\n",
    "    p.dist_start_to_goal = get_dist(ego, p.goal)\n",
    "    \n",
    "    obj = [0.0,   100.0, 20.0,   0.0] # moves along x-axis XXX INIT\n",
    "    σ2_obj = [1.0, 1, 1, 1]\n",
    "    \n",
    "    state = vcat(ego, obj)\n",
    "    σ2_state = vcat(σ2_ego, σ2_obj)\n",
    "    \n",
    "    for n in 1:n1\n",
    "        x = rand(rng, 0:50)\n",
    "        y = rand(rng, 25:190)\n",
    "        vx = rand(rng, 10:25)\n",
    "        vy = rand(rng, 0:5)\n",
    "        obj = Float64.([x, y, vx, vy])\n",
    "        state = vcat(state, obj)\n",
    "        σ2_state = vcat(σ2_state, σ2_obj)\n",
    "    end\n",
    "\n",
    "    for n in 1:n2\n",
    "        x = rand(rng, 150:200)\n",
    "        y = rand(rng, 25:190)\n",
    "        vx = -rand(rng, 10:25)\n",
    "        vy = -rand(rng, 0:5)\n",
    "        obj = Float64.([x, y, vx, vy])\n",
    "        state = vcat(state, obj)\n",
    "        σ2_state = vcat(σ2_state, σ2_obj)\n",
    "    end\n",
    "    \n",
    "    p.σ2_state = σ2_state\n",
    "    \n",
    "    return state, σ2_state\n",
    "end"
   ]
  },
  {
   "cell_type": "code",
   "execution_count": 35,
   "metadata": {
    "collapsed": false
   },
   "outputs": [
    {
     "data": {
      "text/plain": [
       "scn2_step (generic function with 1 method)"
      ]
     },
     "execution_count": 35,
     "metadata": {},
     "output_type": "execute_result"
    }
   ],
   "source": [
    "# ------------------------------------------------------\n",
    "# From 1 scenario to the other:\n",
    "# to change LEVEL OF UNCERTAINTIES => change rand RANGES\n",
    "# ------------------------------------------------------\n",
    "\n",
    "# Constant speed tests\n",
    "# As acceleration is not captured neither in state nor in obs in these tests\n",
    "\n",
    "function scn2_step(s::VecEgoObj, num_obj::Int)\n",
    "    return [0.0 , 0.0]\n",
    "end"
   ]
  },
  {
   "cell_type": "markdown",
   "metadata": {},
   "source": [
    "## Kalman Filter"
   ]
  },
  {
   "cell_type": "markdown",
   "metadata": {},
   "source": [
    "## Implementing a Kalman Filter Belief Updater"
   ]
  },
  {
   "cell_type": "code",
   "execution_count": 36,
   "metadata": {
    "collapsed": false
   },
   "outputs": [
    {
     "name": "stdout",
     "output_type": "stream",
     "text": [
      "initialstate_distribution\n"
     ]
    },
    {
     "data": {
      "text/plain": [
       "FullNormal(\n",
       "dim: 48\n",
       "μ: [100.0, 0.0, 0.0, 20.0, 0.0, 100.0, 20.0, 0.0, 31.0, 170.0  …  -15.0, -4.0, 193.0, 187.0, -19.0, -4.0, 172.0, 174.0, -24.0, -1.0]\n",
       "Σ: [1.0e-10 0.0 … 0.0 0.0; 0.0 1.0e-10 … 0.0 0.0; … ; 0.0 0.0 … 1.0 0.0; 0.0 0.0 … 0.0 1.0]\n",
       ")\n"
      ]
     },
     "execution_count": 36,
     "metadata": {},
     "output_type": "execute_result"
    }
   ],
   "source": [
    "pomdp = TrajPOMDP()\n",
    "b = initialstate_distribution(pomdp)"
   ]
  },
  {
   "cell_type": "markdown",
   "metadata": {},
   "source": [
    "Notations notes de Simon  \n",
    "\n",
    "**Algorithm Kalman_filter$(\\mu_{t−1} , \\Sigma_{t−1} , u_t , z_t)$:**  \n",
    "  \n",
    "Motion update:  \n",
    "* $\\mu'_t = A_t μ_{t−1} + B_t u_t$\n",
    "* $\\Sigma'_t = A_t \\: \\Sigma_{t−1} \\: A_t^T + R_t$  \n",
    "  \n",
    "Measurement update:  \n",
    "* $S = C_t \\: \\Sigma'_t \\: C_t^T + Q_t$\n",
    "* $K_t = \\Sigma'_t \\: C_t^T \\: S^{−1}$\n",
    "* $\\mu_t = \\mu'_t + K_t \\: (z_t − C_t \\: \\mu'_t )$\n",
    "* $\\Sigma_t = (I − K_t \\: C_t) \\: \\Sigma'_t$\n",
    "* return  $\\: \\mu_t , \\Sigma_t$"
   ]
  },
  {
   "cell_type": "code",
   "execution_count": 37,
   "metadata": {
    "collapsed": false
   },
   "outputs": [
    {
     "data": {
      "text/plain": [
       "TrajPOMDPKalman"
      ]
     },
     "execution_count": 37,
     "metadata": {},
     "output_type": "execute_result"
    }
   ],
   "source": [
    "struct TrajPOMDPKalman <: Updater\n",
    "    pomdp::TrajPOMDP\n",
    "    # Transition model\n",
    "    A::Array{Float64,2}\n",
    "    B::Array{Float64,2}\n",
    "    R::Array{Float64,2}\n",
    "    # Observation model\n",
    "    C::Array{Float64,2}\n",
    "    Q::Array{Float64,2}\n",
    "end\n",
    "TrajPOMDPKalman(pomdp::TrajPOMDP) = TrajPOMDPKalman(pomdp, Ts, Ta, Σs, Os, Σo)"
   ]
  },
  {
   "cell_type": "markdown",
   "metadata": {},
   "source": [
    "Notations for Prediction update:\n",
    "* position: $\\mathcal{N}(x,P)$  \n",
    "* linear motion model F where we apply a motion control: $\\mathcal{N}(u,Q)$  \n",
    "  \n",
    "Prediction update rules:\n",
    "* $x'=Fx+u$  \n",
    "* $P'=FPF^T + Q$  \n",
    "  \n",
    "Notations for Motion update:\n",
    "* linear observation model H with an observation cocariance matrix R  \n",
    "  \n",
    "Motion update rules:  \n",
    "* $y=o-Hx'$  \n",
    "* $S=HP'H^T + R$\n",
    "* $K=P'H^TS^{-1}$  : Kalman FIlter Gain\n",
    "  \n",
    "* $x=x'+Ky$ : new mean for the position\n",
    "* $P=(I-KH)P'$: new covariance matrix for the position"
   ]
  },
  {
   "cell_type": "markdown",
   "metadata": {},
   "source": [
    "**Algorithm Kalman_filter$(\\mu_{t−1} , \\Sigma_{t−1} , u_t , z_t)$:**  \n",
    "  \n",
    "Motion update:  \n",
    "* $\\mu'_t = A_t μ_{t−1} + B_t u_t$\n",
    "* $\\Sigma'_t = A_t \\: \\Sigma_{t−1} \\: A_t^T + R_t$  \n",
    "  \n",
    "Measurement update:  \n",
    "* $S = C_t \\: \\Sigma'_t \\: C_t^T + Q_t$\n",
    "* $K_t = \\Sigma'_t \\: C_t^T \\: S^{−1}$\n",
    "* $\\mu_t = \\mu'_t + K_t \\: (z_t − C_t \\: \\mu'_t )$\n",
    "* $\\Sigma_t = (I − K_t \\: C_t) \\: \\Sigma'_t$\n",
    "* return  $\\: \\mu_t , \\Sigma_t$"
   ]
  },
  {
   "cell_type": "code",
   "execution_count": 38,
   "metadata": {
    "collapsed": false
   },
   "outputs": [],
   "source": [
    "function POMDPs.update(kf::TrajPOMDPKalman, b::MvNormal, a::Int, o::Vector{Int})\n",
    "    # For Transition update\n",
    "    A = kf.A; B = kf.B; R = kf.R\n",
    "    # For Measurement update\n",
    "    C = kf.C; Q = kf.Q\n",
    "    \n",
    "    # ----------\n",
    "    # Handle ego \n",
    "    # ----------\n",
    "    s = b.μ[1:4]\n",
    "    u = [0.0, a]\n",
    "    sp = A * s + B * u\n",
    "    \n",
    "    new_b = sp\n",
    "    # no uncertainty change for ego\n",
    "    new_σ2 = kf.pomdp.σ2_state[1:4] #  [1e-10, 1e-10, 1e-10, 1e-10 ]\n",
    "\n",
    "    idx = 5\n",
    "    for n in 1:kf.pomdp.n_obj\n",
    "        # ----------\n",
    "        # Handle obj (single obj so far)\n",
    "        # ----------\n",
    "        # KF prediction step\n",
    "        μ = b.μ[idx:idx+3] # x,y,vx,vy\n",
    "        Σ = diagm(0 => kf.pomdp.σ2_state[idx:idx+3])\n",
    "        u = [0.0, 0.0] # TODO assume so far that we have no info on obj accelerations\n",
    "    \n",
    "        μp = A * μ + B * u\n",
    "        Σp = A * Σ * transpose(A) + R\n",
    "    \n",
    "        # KF measurement step\n",
    "        S = C * Σp * transpose(C) + Q\n",
    "        K = Σp * transpose(C) * inv(S)\n",
    "    \n",
    "        z = o[idx-4:idx-1]\n",
    "        μ = μp + K * (z - C * μp)\n",
    "        Σ = (I - K * C) * Σp\n",
    "        \n",
    "        new_b = vcat(new_b, μ)\n",
    "        new_σ2 = vcat(new_σ2, diag(Σ))        \n",
    "        idx += 4\n",
    "    end\n",
    "    kf.pomdp.σ2_state = new_σ2\n",
    "        \n",
    "    #new_b_mean = [sp, μ]\n",
    "    #new_sigma2 = [ [1e-10, 1e-10, 1e-10, 1e-10], diag(Σ)]\n",
    "    \n",
    "    #println(\"update: new_b=$new_b\")    \n",
    "    return MvNormal(new_b, diagm(0 => new_σ2))\n",
    "end"
   ]
  },
  {
   "cell_type": "code",
   "execution_count": 39,
   "metadata": {
    "collapsed": false
   },
   "outputs": [
    {
     "data": {
      "text/plain": [
       "TrajPOMDPKalman(TrajPOMDP\n",
       "  n_obj: Int64 10\n",
       "  discount_factor: Float64 0.9\n",
       "  smallest_TTC: Float64 Inf\n",
       "  smallest_TTC_obj: Int64 -1\n",
       "  dist_collision: Float64 10.0\n",
       "  dist_nearest_obj: Float64 Inf\n",
       "  goal: Array{Float64}((4,)) [100.0, 200.0, 0.0, 0.0]\n",
       "  dist_to_goal: Float64 Inf\n",
       "  dist_start_to_goal: Float64 200.0\n",
       "  r_comfort: Float64 0.0\n",
       "  r_efficiency: Float64 0.0\n",
       "  r_safety: Float64 0.0\n",
       "  σ2_state: Array{Float64}((48,)) [1.0e-10, 1.0e-10, 1.0e-10, 1.0e-10, 1.0, 1.0, 1.0, 1.0, 1.0, 1.0  …  1.0, 1.0, 1.0, 1.0, 1.0, 1.0, 1.0, 1.0, 1.0, 1.0]\n",
       ", [1.0 0.0 0.2 0.0; 0.0 1.0 0.0 0.2; 0.0 0.0 1.0 0.0; 0.0 0.0 0.0 1.0], [0.02 0.0; 0.0 0.02; 0.2 0.0; 0.0 0.2], [1.0e-10 0.0 0.0 0.0; 0.0 1.0e-10 0.0 0.0; 0.0 0.0 1.0e-10 0.0; 0.0 0.0 0.0 1.0e-10], [1.0 0.0 0.0 0.0; 0.0 1.0 0.0 0.0; 0.0 0.0 1.0 0.0; 0.0 0.0 0.0 1.0], [3.0 0.0 0.0 0.0; 0.0 3.0 0.0 0.0; 0.0 0.0 3.0 0.0; 0.0 0.0 0.0 3.0])"
      ]
     },
     "execution_count": 39,
     "metadata": {},
     "output_type": "execute_result"
    }
   ],
   "source": [
    "up = TrajPOMDPKalman(pomdp)"
   ]
  },
  {
   "cell_type": "markdown",
   "metadata": {},
   "source": [
    "## Random policy tests"
   ]
  },
  {
   "cell_type": "code",
   "execution_count": 40,
   "metadata": {
    "collapsed": false
   },
   "outputs": [],
   "source": [
    "using POMDPPolicies\n",
    "using POMDPSimulators\n",
    "\n",
    "pomdp = TrajPOMDP()\n",
    "rand_policy = RandomPolicy(pomdp);"
   ]
  },
  {
   "cell_type": "code",
   "execution_count": 41,
   "metadata": {
    "collapsed": false
   },
   "outputs": [
    {
     "name": "stdout",
     "output_type": "stream",
     "text": [
      "initialstate_distribution\n",
      "    POMCP Recommends action 0 for belief FullNormal(\n",
      "dim: 48\n",
      "μ: [100.0, 0.0, 0.0, 20.0, 0.0, 100.0, 20.0, 0.0, 40.0, 111.0, 17.0, 0.0, 22.0, 48.0, 17.0, 4.0, 24.0, 182.0, 10.0, 1.0, 1.0, 29.0, 15.0, 3.0, 7.0, 36.0, 11.0, 1.0, 181.0, 35.0, -10.0, 0.0, 167.0, 67.0, -17.0, -3.0, 188.0, 85.0, -25.0, -4.0, 184.0, 41.0, -22.0, 0.0, 184.0, 159.0, -10.0, -2.0]\n",
      "Σ: [1.0e-10 0.0 0.0 0.0 0.0 0.0 0.0 0.0 0.0 0.0 0.0 0.0 0.0 0.0 0.0 0.0 0.0 0.0 0.0 0.0 0.0 0.0 0.0 0.0 0.0 0.0 0.0 0.0 0.0 0.0 0.0 0.0 0.0 0.0 0.0 0.0 0.0 0.0 0.0 0.0 0.0 0.0 0.0 0.0 0.0 0.0 0.0 0.0; 0.0 1.0e-10 0.0 0.0 0.0 0.0 0.0 0.0 0.0 0.0 0.0 0.0 0.0 0.0 0.0 0.0 0.0 0.0 0.0 0.0 0.0 0.0 0.0 0.0 0.0 0.0 0.0 0.0 0.0 0.0 0.0 0.0 0.0 0.0 0.0 0.0 0.0 0.0 0.0 0.0 0.0 0.0 0.0 0.0 0.0 0.0 0.0 0.0; 0.0 0.0 1.0e-10 0.0 0.0 0.0 0.0 0.0 0.0 0.0 0.0 0.0 0.0 0.0 0.0 0.0 0.0 0.0 0.0 0.0 0.0 0.0 0.0 0.0 0.0 0.0 0.0 0.0 0.0 0.0 0.0 0.0 0.0 0.0 0.0 0.0 0.0 0.0 0.0 0.0 0.0 0.0 0.0 0.0 0.0 0.0 0.0 0.0; 0.0 0.0 0.0 1.0e-10 0.0 0.0 0.0 0.0 0.0 0.0 0.0 0.0 0.0 0.0 0.0 0.0 0.0 0.0 0.0 0.0 0.0 0.0 0.0 0.0 0.0 0.0 0.0 0.0 0.0 0.0 0.0 0.0 0.0 0.0 0.0 0.0 0.0 0.0 0.0 0.0 0.0 0.0 0.0 0.0 0.0 0.0 0.0 0.0; 0.0 0.0 0.0 0.0 1.0 0.0 0.0 0.0 0.0 0.0 0.0 0.0 0.0 0.0 0.0 0.0 0.0 0.0 0.0 0.0 0.0 0.0 0.0 0.0 0.0 0.0 0.0 0.0 0.0 0.0 0.0 0.0 0.0 0.0 0.0 0.0 0.0 0.0 0.0 0.0 0.0 0.0 0.0 0.0 0.0 0.0 0.0 0.0; 0.0 0.0 0.0 0.0 0.0 1.0 0.0 0.0 0.0 0.0 0.0 0.0 0.0 0.0 0.0 0.0 0.0 0.0 0.0 0.0 0.0 0.0 0.0 0.0 0.0 0.0 0.0 0.0 0.0 0.0 0.0 0.0 0.0 0.0 0.0 0.0 0.0 0.0 0.0 0.0 0.0 0.0 0.0 0.0 0.0 0.0 0.0 0.0; 0.0 0.0 0.0 0.0 0.0 0.0 1.0 0.0 0.0 0.0 0.0 0.0 0.0 0.0 0.0 0.0 0.0 0.0 0.0 0.0 0.0 0.0 0.0 0.0 0.0 0.0 0.0 0.0 0.0 0.0 0.0 0.0 0.0 0.0 0.0 0.0 0.0 0.0 0.0 0.0 0.0 0.0 0.0 0.0 0.0 0.0 0.0 0.0; 0.0 0.0 0.0 0.0 0.0 0.0 0.0 1.0 0.0 0.0 0.0 0.0 0.0 0.0 0.0 0.0 0.0 0.0 0.0 0.0 0.0 0.0 0.0 0.0 0.0 0.0 0.0 0.0 0.0 0.0 0.0 0.0 0.0 0.0 0.0 0.0 0.0 0.0 0.0 0.0 0.0 0.0 0.0 0.0 0.0 0.0 0.0 0.0; 0.0 0.0 0.0 0.0 0.0 0.0 0.0 0.0 1.0 0.0 0.0 0.0 0.0 0.0 0.0 0.0 0.0 0.0 0.0 0.0 0.0 0.0 0.0 0.0 0.0 0.0 0.0 0.0 0.0 0.0 0.0 0.0 0.0 0.0 0.0 0.0 0.0 0.0 0.0 0.0 0.0 0.0 0.0 0.0 0.0 0.0 0.0 0.0; 0.0 0.0 0.0 0.0 0.0 0.0 0.0 0.0 0.0 1.0 0.0 0.0 0.0 0.0 0.0 0.0 0.0 0.0 0.0 0.0 0.0 0.0 0.0 0.0 0.0 0.0 0.0 0.0 0.0 0.0 0.0 0.0 0.0 0.0 0.0 0.0 0.0 0.0 0.0 0.0 0.0 0.0 0.0 0.0 0.0 0.0 0.0 0.0; 0.0 0.0 0.0 0.0 0.0 0.0 0.0 0.0 0.0 0.0 1.0 0.0 0.0 0.0 0.0 0.0 0.0 0.0 0.0 0.0 0.0 0.0 0.0 0.0 0.0 0.0 0.0 0.0 0.0 0.0 0.0 0.0 0.0 0.0 0.0 0.0 0.0 0.0 0.0 0.0 0.0 0.0 0.0 0.0 0.0 0.0 0.0 0.0; 0.0 0.0 0.0 0.0 0.0 0.0 0.0 0.0 0.0 0.0 0.0 1.0 0.0 0.0 0.0 0.0 0.0 0.0 0.0 0.0 0.0 0.0 0.0 0.0 0.0 0.0 0.0 0.0 0.0 0.0 0.0 0.0 0.0 0.0 0.0 0.0 0.0 0.0 0.0 0.0 0.0 0.0 0.0 0.0 0.0 0.0 0.0 0.0; 0.0 0.0 0.0 0.0 0.0 0.0 0.0 0.0 0.0 0.0 0.0 0.0 1.0 0.0 0.0 0.0 0.0 0.0 0.0 0.0 0.0 0.0 0.0 0.0 0.0 0.0 0.0 0.0 0.0 0.0 0.0 0.0 0.0 0.0 0.0 0.0 0.0 0.0 0.0 0.0 0.0 0.0 0.0 0.0 0.0 0.0 0.0 0.0; 0.0 0.0 0.0 0.0 0.0 0.0 0.0 0.0 0.0 0.0 0.0 0.0 0.0 1.0 0.0 0.0 0.0 0.0 0.0 0.0 0.0 0.0 0.0 0.0 0.0 0.0 0.0 0.0 0.0 0.0 0.0 0.0 0.0 0.0 0.0 0.0 0.0 0.0 0.0 0.0 0.0 0.0 0.0 0.0 0.0 0.0 0.0 0.0; 0.0 0.0 0.0 0.0 0.0 0.0 0.0 0.0 0.0 0.0 0.0 0.0 0.0 0.0 1.0 0.0 0.0 0.0 0.0 0.0 0.0 0.0 0.0 0.0 0.0 0.0 0.0 0.0 0.0 0.0 0.0 0.0 0.0 0.0 0.0 0.0 0.0 0.0 0.0 0.0 0.0 0.0 0.0 0.0 0.0 0.0 0.0 0.0; 0.0 0.0 0.0 0.0 0.0 0.0 0.0 0.0 0.0 0.0 0.0 0.0 0.0 0.0 0.0 1.0 0.0 0.0 0.0 0.0 0.0 0.0 0.0 0.0 0.0 0.0 0.0 0.0 0.0 0.0 0.0 0.0 0.0 0.0 0.0 0.0 0.0 0.0 0.0 0.0 0.0 0.0 0.0 0.0 0.0 0.0 0.0 0.0; 0.0 0.0 0.0 0.0 0.0 0.0 0.0 0.0 0.0 0.0 0.0 0.0 0.0 0.0 0.0 0.0 1.0 0.0 0.0 0.0 0.0 0.0 0.0 0.0 0.0 0.0 0.0 0.0 0.0 0.0 0.0 0.0 0.0 0.0 0.0 0.0 0.0 0.0 0.0 0.0 0.0 0.0 0.0 0.0 0.0 0.0 0.0 0.0; 0.0 0.0 0.0 0.0 0.0 0.0 0.0 0.0 0.0 0.0 0.0 0.0 0.0 0.0 0.0 0.0 0.0 1.0 0.0 0.0 0.0 0.0 0.0 0.0 0.0 0.0 0.0 0.0 0.0 0.0 0.0 0.0 0.0 0.0 0.0 0.0 0.0 0.0 0.0 0.0 0.0 0.0 0.0 0.0 0.0 0.0 0.0 0.0; 0.0 0.0 0.0 0.0 0.0 0.0 0.0 0.0 0.0 0.0 0.0 0.0 0.0 0.0 0.0 0.0 0.0 0.0 1.0 0.0 0.0 0.0 0.0 0.0 0.0 0.0 0.0 0.0 0.0 0.0 0.0 0.0 0.0 0.0 0.0 0.0 0.0 0.0 0.0 0.0 0.0 0.0 0.0 0.0 0.0 0.0 0.0 0.0; 0.0 0.0 0.0 0.0 0.0 0.0 0.0 0.0 0.0 0.0 0.0 0.0 0.0 0.0 0.0 0.0 0.0 0.0 0.0 1.0 0.0 0.0 0.0 0.0 0.0 0.0 0.0 0.0 0.0 0.0 0.0 0.0 0.0 0.0 0.0 0.0 0.0 0.0 0.0 0.0 0.0 0.0 0.0 0.0 0.0 0.0 0.0 0.0; 0.0 0.0 0.0 0.0 0.0 0.0 0.0 0.0 0.0 0.0 0.0 0.0 0.0 0.0 0.0 0.0 0.0 0.0 0.0 0.0 1.0 0.0 0.0 0.0 0.0 0.0 0.0 0.0 0.0 0.0 0.0 0.0 0.0 0.0 0.0 0.0 0.0 0.0 0.0 0.0 0.0 0.0 0.0 0.0 0.0 0.0 0.0 0.0; 0.0 0.0 0.0 0.0 0.0 0.0 0.0 0.0 0.0 0.0 0.0 0.0 0.0 0.0 0.0 0.0 0.0 0.0 0.0 0.0 0.0 1.0 0.0 0.0 0.0 0.0 0.0 0.0 0.0 0.0 0.0 0.0 0.0 0.0 0.0 0.0 0.0 0.0 0.0 0.0 0.0 0.0 0.0 0.0 0.0 0.0 0.0 0.0; 0.0 0.0 0.0 0.0 0.0 0.0 0.0 0.0 0.0 0.0 0.0 0.0 0.0 0.0 0.0 0.0 0.0 0.0 0.0 0.0 0.0 0.0 1.0 0.0 0.0 0.0 0.0 0.0 0.0 0.0 0.0 0.0 0.0 0.0 0.0 0.0 0.0 0.0 0.0 0.0 0.0 0.0 0.0 0.0 0.0 0.0 0.0 0.0; 0.0 0.0 0.0 0.0 0.0 0.0 0.0 0.0 0.0 0.0 0.0 0.0 0.0 0.0 0.0 0.0 0.0 0.0 0.0 0.0 0.0 0.0 0.0 1.0 0.0 0.0 0.0 0.0 0.0 0.0 0.0 0.0 0.0 0.0 0.0 0.0 0.0 0.0 0.0 0.0 0.0 0.0 0.0 0.0 0.0 0.0 0.0 0.0; 0.0 0.0 0.0 0.0 0.0 0.0 0.0 0.0 0.0 0.0 0.0 0.0 0.0 0.0 0.0 0.0 0.0 0.0 0.0 0.0 0.0 0.0 0.0 0.0 1.0 0.0 0.0 0.0 0.0 0.0 0.0 0.0 0.0 0.0 0.0 0.0 0.0 0.0 0.0 0.0 0.0 0.0 0.0 0.0 0.0 0.0 0.0 0.0; 0.0 0.0 0.0 0.0 0.0 0.0 0.0 0.0 0.0 0.0 0.0 0.0 0.0 0.0 0.0 0.0 0.0 0.0 0.0 0.0 0.0 0.0 0.0 0.0 0.0 1.0 0.0 0.0 0.0 0.0 0.0 0.0 0.0 0.0 0.0 0.0 0.0 0.0 0.0 0.0 0.0 0.0 0.0 0.0 0.0 0.0 0.0 0.0; 0.0 0.0 0.0 0.0 0.0 0.0 0.0 0.0 0.0 0.0 0.0 0.0 0.0 0.0 0.0 0.0 0.0 0.0 0.0 0.0 0.0 0.0 0.0 0.0 0.0 0.0 1.0 0.0 0.0 0.0 0.0 0.0 0.0 0.0 0.0 0.0 0.0 0.0 0.0 0.0 0.0 0.0 0.0 0.0 0.0 0.0 0.0 0.0; 0.0 0.0 0.0 0.0 0.0 0.0 0.0 0.0 0.0 0.0 0.0 0.0 0.0 0.0 0.0 0.0 0.0 0.0 0.0 0.0 0.0 0.0 0.0 0.0 0.0 0.0 0.0 1.0 0.0 0.0 0.0 0.0 0.0 0.0 0.0 0.0 0.0 0.0 0.0 0.0 0.0 0.0 0.0 0.0 0.0 0.0 0.0 0.0; 0.0 0.0 0.0 0.0 0.0 0.0 0.0 0.0 0.0 0.0 0.0 0.0 0.0 0.0 0.0 0.0 0.0 0.0 0.0 0.0 0.0 0.0 0.0 0.0 0.0 0.0 0.0 0.0 1.0 0.0 0.0 0.0 0.0 0.0 0.0 0.0 0.0 0.0 0.0 0.0 0.0 0.0 0.0 0.0 0.0 0.0 0.0 0.0; 0.0 0.0 0.0 0.0 0.0 0.0 0.0 0.0 0.0 0.0 0.0 0.0 0.0 0.0 0.0 0.0 0.0 0.0 0.0 0.0 0.0 0.0 0.0 0.0 0.0 0.0 0.0 0.0 0.0 1.0 0.0 0.0 0.0 0.0 0.0 0.0 0.0 0.0 0.0 0.0 0.0 0.0 0.0 0.0 0.0 0.0 0.0 0.0; 0.0 0.0 0.0 0.0 0.0 0.0 0.0 0.0 0.0 0.0 0.0 0.0 0.0 0.0 0.0 0.0 0.0 0.0 0.0 0.0 0.0 0.0 0.0 0.0 0.0 0.0 0.0 0.0 0.0 0.0 1.0 0.0 0.0 0.0 0.0 0.0 0.0 0.0 0.0 0.0 0.0 0.0 0.0 0.0 0.0 0.0 0.0 0.0; 0.0 0.0 0.0 0.0 0.0 0.0 0.0 0.0 0.0 0.0 0.0 0.0 0.0 0.0 0.0 0.0 0.0 0.0 0.0 0.0 0.0 0.0 0.0 0.0 0.0 0.0 0.0 0.0 0.0 0.0 0.0 1.0 0.0 0.0 0.0 0.0 0.0 0.0 0.0 0.0 0.0 0.0 0.0 0.0 0.0 0.0 0.0 0.0; 0.0 0.0 0.0 0.0 0.0 0.0 0.0 0.0 0.0 0.0 0.0 0.0 0.0 0.0 0.0 0.0 0.0 0.0 0.0 0.0 0.0 0.0 0.0 0.0 0.0 0.0 0.0 0.0 0.0 0.0 0.0 0.0 1.0 0.0 0.0 0.0 0.0 0.0 0.0 0.0 0.0 0.0 0.0 0.0 0.0 0.0 0.0 0.0; 0.0 0.0 0.0 0.0 0.0 0.0 0.0 0.0 0.0 0.0 0.0 0.0 0.0 0.0 0.0 0.0 0.0 0.0 0.0 0.0 0.0 0.0 0.0 0.0 0.0 0.0 0.0 0.0 0.0 0.0 0.0 0.0 0.0 1.0 0.0 0.0 0.0 0.0 0.0 0.0 0.0 0.0 0.0 0.0 0.0 0.0 0.0 0.0; 0.0 0.0 0.0 0.0 0.0 0.0 0.0 0.0 0.0 0.0 0.0 0.0 0.0 0.0 0.0 0.0 0.0 0.0 0.0 0.0 0.0 0.0 0.0 0.0 0.0 0.0 0.0 0.0 0.0 0.0 0.0 0.0 0.0 0.0 1.0 0.0 0.0 0.0 0.0 0.0 0.0 0.0 0.0 0.0 0.0 0.0 0.0 0.0; 0.0 0.0 0.0 0.0 0.0 0.0 0.0 0.0 0.0 0.0 0.0 0.0 0.0 0.0 0.0 0.0 0.0 0.0 0.0 0.0 0.0 0.0 0.0 0.0 0.0 0.0 0.0 0.0 0.0 0.0 0.0 0.0 0.0 0.0 0.0 1.0 0.0 0.0 0.0 0.0 0.0 0.0 0.0 0.0 0.0 0.0 0.0 0.0; 0.0 0.0 0.0 0.0 0.0 0.0 0.0 0.0 0.0 0.0 0.0 0.0 0.0 0.0 0.0 0.0 0.0 0.0 0.0 0.0 0.0 0.0 0.0 0.0 0.0 0.0 0.0 0.0 0.0 0.0 0.0 0.0 0.0 0.0 0.0 0.0 1.0 0.0 0.0 0.0 0.0 0.0 0.0 0.0 0.0 0.0 0.0 0.0; 0.0 0.0 0.0 0.0 0.0 0.0 0.0 0.0 0.0 0.0 0.0 0.0 0.0 0.0 0.0 0.0 0.0 0.0 0.0 0.0 0.0 0.0 0.0 0.0 0.0 0.0 0.0 0.0 0.0 0.0 0.0 0.0 0.0 0.0 0.0 0.0 0.0 1.0 0.0 0.0 0.0 0.0 0.0 0.0 0.0 0.0 0.0 0.0; 0.0 0.0 0.0 0.0 0.0 0.0 0.0 0.0 0.0 0.0 0.0 0.0 0.0 0.0 0.0 0.0 0.0 0.0 0.0 0.0 0.0 0.0 0.0 0.0 0.0 0.0 0.0 0.0 0.0 0.0 0.0 0.0 0.0 0.0 0.0 0.0 0.0 0.0 1.0 0.0 0.0 0.0 0.0 0.0 0.0 0.0 0.0 0.0; 0.0 0.0 0.0 0.0 0.0 0.0 0.0 0.0 0.0 0.0 0.0 0.0 0.0 0.0 0.0 0.0 0.0 0.0 0.0 0.0 0.0 0.0 0.0 0.0 0.0 0.0 0.0 0.0 0.0 0.0 0.0 0.0 0.0 0.0 0.0 0.0 0.0 0.0 0.0 1.0 0.0 0.0 0.0 0.0 0.0 0.0 0.0 0.0; 0.0 0.0 0.0 0.0 0.0 0.0 0.0 0.0 0.0 0.0 0.0 0.0 0.0 0.0 0.0 0.0 0.0 0.0 0.0 0.0 0.0 0.0 0.0 0.0 0.0 0.0 0.0 0.0 0.0 0.0 0.0 0.0 0.0 0.0 0.0 0.0 0.0 0.0 0.0 0.0 1.0 0.0 0.0 0.0 0.0 0.0 0.0 0.0; 0.0 0.0 0.0 0.0 0.0 0.0 0.0 0.0 0.0 0.0 0.0 0.0 0.0 0.0 0.0 0.0 0.0 0.0 0.0 0.0 0.0 0.0 0.0 0.0 0.0 0.0 0.0 0.0 0.0 0.0 0.0 0.0 0.0 0.0 0.0 0.0 0.0 0.0 0.0 0.0 0.0 1.0 0.0 0.0 0.0 0.0 0.0 0.0; 0.0 0.0 0.0 0.0 0.0 0.0 0.0 0.0 0.0 0.0 0.0 0.0 0.0 0.0 0.0 0.0 0.0 0.0 0.0 0.0 0.0 0.0 0.0 0.0 0.0 0.0 0.0 0.0 0.0 0.0 0.0 0.0 0.0 0.0 0.0 0.0 0.0 0.0 0.0 0.0 0.0 0.0 1.0 0.0 0.0 0.0 0.0 0.0; 0.0 0.0 0.0 0.0 0.0 0.0 0.0 0.0 0.0 0.0 0.0 0.0 0.0 0.0 0.0 0.0 0.0 0.0 0.0 0.0 0.0 0.0 0.0 0.0 0.0 0.0 0.0 0.0 0.0 0.0 0.0 0.0 0.0 0.0 0.0 0.0 0.0 0.0 0.0 0.0 0.0 0.0 0.0 1.0 0.0 0.0 0.0 0.0; 0.0 0.0 0.0 0.0 0.0 0.0 0.0 0.0 0.0 0.0 0.0 0.0 0.0 0.0 0.0 0.0 0.0 0.0 0.0 0.0 0.0 0.0 0.0 0.0 0.0 0.0 0.0 0.0 0.0 0.0 0.0 0.0 0.0 0.0 0.0 0.0 0.0 0.0 0.0 0.0 0.0 0.0 0.0 0.0 1.0 0.0 0.0 0.0; 0.0 0.0 0.0 0.0 0.0 0.0 0.0 0.0 0.0 0.0 0.0 0.0 0.0 0.0 0.0 0.0 0.0 0.0 0.0 0.0 0.0 0.0 0.0 0.0 0.0 0.0 0.0 0.0 0.0 0.0 0.0 0.0 0.0 0.0 0.0 0.0 0.0 0.0 0.0 0.0 0.0 0.0 0.0 0.0 0.0 1.0 0.0 0.0; 0.0 0.0 0.0 0.0 0.0 0.0 0.0 0.0 0.0 0.0 0.0 0.0 0.0 0.0 0.0 0.0 0.0 0.0 0.0 0.0 0.0 0.0 0.0 0.0 0.0 0.0 0.0 0.0 0.0 0.0 0.0 0.0 0.0 0.0 0.0 0.0 0.0 0.0 0.0 0.0 0.0 0.0 0.0 0.0 0.0 0.0 1.0 0.0; 0.0 0.0 0.0 0.0 0.0 0.0 0.0 0.0 0.0 0.0 0.0 0.0 0.0 0.0 0.0 0.0 0.0 0.0 0.0 0.0 0.0 0.0 0.0 0.0 0.0 0.0 0.0 0.0 0.0 0.0 0.0 0.0 0.0 0.0 0.0 0.0 0.0 0.0 0.0 0.0 0.0 0.0 0.0 0.0 0.0 0.0 0.0 1.0]\n",
      ")\n",
      ".\n",
      "\n",
      "(this may be a bad choice because ... it is random...)\n",
      "\n"
     ]
    }
   ],
   "source": [
    "b = initialstate_distribution(pomdp);\n",
    "a = action(rand_policy, b);\n",
    "println(\"\"\"\n",
    "    POMCP Recommends action $a for belief $b.\n",
    "\n",
    "(this may be a bad choice because ... it is random...)\n",
    "\"\"\")"
   ]
  },
  {
   "cell_type": "code",
   "execution_count": 42,
   "metadata": {
    "collapsed": false
   },
   "outputs": [
    {
     "data": {
      "text/plain": [
       "FullNormal(\n",
       "dim: 48\n",
       "μ: [100.0, 0.0, 0.0, 20.0, 0.0, 100.0, 20.0, 0.0, 40.0, 111.0  …  -25.0, -4.0, 184.0, 41.0, -22.0, 0.0, 184.0, 159.0, -10.0, -2.0]\n",
       "Σ: [1.0e-10 0.0 … 0.0 0.0; 0.0 1.0e-10 … 0.0 0.0; … ; 0.0 0.0 … 1.0 0.0; 0.0 0.0 … 0.0 1.0]\n",
       ")\n"
      ]
     },
     "execution_count": 42,
     "metadata": {},
     "output_type": "execute_result"
    }
   ],
   "source": [
    "tested_initialstate"
   ]
  },
  {
   "cell_type": "code",
   "execution_count": 43,
   "metadata": {
    "collapsed": false
   },
   "outputs": [
    {
     "name": "stdout",
     "output_type": "stream",
     "text": [
      "initialstate_distribution\n",
      "(a, r, o) = (0, -89.07468656655911, [2, 105, 18, 2, 33, 180, 7, 0, 5, 82, 8, 1, 38, 33, 12, 2, 40, 53, 21, 2, 6, 101, 13, -3, 193, 169, -20, -2, 168, 78, -19, -5, 164, 71, -22, -5, 166, 53, -12, -3])\n",
      "(a, r, o) = (-4, -95.54510031039464, [8, 103, 20, 3, 35, 181, 10, -2, 11, 79, 10, 0, 39, 39, 12, 5, 45, 53, 22, 4, 8, 99, 13, 1, 189, 167, -22, -8, 161, 77, -24, -7, 161, 63, -24, -7, 160, 51, -15, -1])\n",
      "(a, r, o) = (-2, -94.27681335536158, [12, 104, 15, -1, 38, 181, 13, 5, 11, 79, 8, 5, 43, 35, 11, 3, 53, 55, 23, 3, 13, 98, 9, 1, 187, 167, -18, -4, 154, 78, -21, -5, 155, 68, -26, -4, 162, 53, -12, -3])\n",
      "(a, r, o) = (-2, -96.01757310194733, [14, 105, 19, 1, 40, 184, 9, 2, 14, 81, 13, 3, 49, 39, 16, 4, 55, 56, 23, 4, 15, 100, 9, -1, 180, 168, -19, -8, 152, 77, -21, -6, 151, 62, -25, -6, 156, 52, -16, -4])\n",
      "(a, r, o) = (2, -94.24691800194482, [14, 105, 18, 2, 42, 183, 12, -1, 17, 81, 9, 3, 48, 38, 11, 4, 63, 52, 25, 1, 17, 97, 12, -2, 175, 165, -23, -3, 145, 76, -24, -4, 147, 65, -23, -9, 155, 50, -12, -3])\n",
      "(a, r, o) = (2, -96.43208447554338, [18, 102, 16, -6, 45, 183, 10, 2, 17, 84, 8, 3, 50, 41, 11, 3, 66, 58, 26, 3, 19, 97, 12, 2, 175, 164, -22, -8, 145, 74, -20, -4, 141, 63, -23, -5, 155, 51, -12, -1])\n",
      "(a, r, o) = (2, -98.57884184445507, [29, 107, 21, 0, 45, 183, 13, 3, 23, 79, 9, 3, 55, 42, 13, 3, 65, 54, 24, 3, 17, 101, 11, -2, 165, 161, -25, -6, 140, 77, -22, -4, 133, 65, -22, -4, 151, 50, -15, -4])\n",
      "(a, r, o) = (2, -100.69150401950533, [31, 104, 16, 1, 47, 183, 8, -2, 21, 85, 11, 1, 56, 40, 14, 4, 75, 58, 24, 2, 21, 101, 12, 1, 164, 163, -23, -5, 135, 73, -23, -3, 133, 63, -25, -5, 152, 46, -14, -5])\n",
      "(a, r, o) = (2, -102.77333339563125, [32, 100, 17, 3, 51, 179, 14, 1, 25, 83, 10, 5, 59, 41, 12, 5, 80, 57, 25, 5, 24, 96, 12, -4, 160, 163, -21, -6, 130, 74, -22, -4, 127, 62, -24, -3, 149, 46, -13, 1])\n",
      "(a, r, o) = (-2, -108.71792257650937, [36, 105, 19, 0, 54, 183, 15, 6, 28, 83, 12, 1, 63, 43, 11, 3, 83, 55, 20, 1, 27, 99, 9, 3, 157, 160, -21, -4, 128, 72, -24, -7, 121, 64, -26, -5, 143, 44, -12, -2])\n"
     ]
    }
   ],
   "source": [
    "for (s,a,r,sp,o) in stepthrough(pomdp, rand_policy, \"sarspo\", max_steps=10)\n",
    "    #@show (s,a,r,sp,o)\n",
    "    @show (a,r,o)\n",
    "end"
   ]
  },
  {
   "cell_type": "markdown",
   "metadata": {
    "collapsed": true
   },
   "source": [
    "## Using the POMCP Planner"
   ]
  },
  {
   "cell_type": "code",
   "execution_count": 44,
   "metadata": {
    "collapsed": false
   },
   "outputs": [],
   "source": [
    "using BasicPOMCP"
   ]
  },
  {
   "cell_type": "code",
   "execution_count": 45,
   "metadata": {
    "collapsed": false
   },
   "outputs": [
    {
     "name": "stdout",
     "output_type": "stream",
     "text": [
      "search: \u001b[0m\u001b[1mP\u001b[22m\u001b[0m\u001b[1mO\u001b[22m\u001b[0m\u001b[1mM\u001b[22m\u001b[0m\u001b[1mC\u001b[22m\u001b[0m\u001b[1mP\u001b[22m\u001b[0m\u001b[1mS\u001b[22m\u001b[0m\u001b[1mo\u001b[22m\u001b[0m\u001b[1ml\u001b[22m\u001b[0m\u001b[1mv\u001b[22m\u001b[0m\u001b[1me\u001b[22m\u001b[0m\u001b[1mr\u001b[22m Abstract\u001b[0m\u001b[1mP\u001b[22m\u001b[0m\u001b[1mO\u001b[22m\u001b[0m\u001b[1mM\u001b[22m\u001b[0m\u001b[1mC\u001b[22m\u001b[0m\u001b[1mP\u001b[22m\u001b[0m\u001b[1mS\u001b[22m\u001b[0m\u001b[1mo\u001b[22m\u001b[0m\u001b[1ml\u001b[22m\u001b[0m\u001b[1mv\u001b[22m\u001b[0m\u001b[1me\u001b[22m\u001b[0m\u001b[1mr\u001b[22m\n",
      "\n"
     ]
    },
    {
     "data": {
      "text/latex": [
       "\\begin{verbatim}\n",
       "POMCPSolver(#=keyword arguments=#)\n",
       "\\end{verbatim}\n",
       "Partially Observable Monte Carlo Planning Solver.\n",
       "\n",
       "\\subsection{Keyword Arguments}\n",
       "\\begin{itemize}\n",
       "\\item \\texttt{max\\_depth::Int}   Rollouts and tree expension will stop when this depth is reached.   default: \\texttt{20}\n",
       "\n",
       "\n",
       "\\item \\texttt{c::Float64}   UCB exploration constant - specifies how much the solver should explore.   default: \\texttt{1.0}\n",
       "\n",
       "\n",
       "\\item \\texttt{tree\\_queries::Int}   Number of iterations during each action() call.   default: \\texttt{1000}\n",
       "\n",
       "\n",
       "\\item \\texttt{max\\_time::Float64}   Maximum time for planning in each action() call.   default: \\texttt{Inf}\n",
       "\n",
       "\n",
       "\\item \\texttt{tree\\_in\\_info::Bool}   If \\texttt{true}, returns the tree in the info dict when action\\_info is called.   default: \\texttt{false}\n",
       "\n",
       "\n",
       "\\item \\texttt{experimental\\_ttc1::Bool}   If \\texttt{true}, runs BasicPOMCP in experimental ttc1 mode (with observations class nodes)   default: \\texttt{false}\n",
       "\n",
       "\n",
       "\\item \\texttt{dump\\_action\\_vales::Bool}   If \\texttt{true}, dump action values estimated by POMCP   default: \\texttt{false}\n",
       "\n",
       "\n",
       "\\item \\texttt{estimate\\_value::Any}   Function, object, or number used to estimate the value at the leaf nodes.   default: \\texttt{RolloutEstimator(RandomSolver(rng))}\n",
       "\n",
       "\\begin{itemize}\n",
       "\\item If this is a function \\texttt{f}, \\texttt{f(pomdp, s, h::BeliefNode, steps)} will be called to estimate the value.\n",
       "\n",
       "\n",
       "\\item If this is an object \\texttt{o}, \\texttt{estimate\\_value(o, pomdp, s, h::BeliefNode, steps)} will be called.\n",
       "\n",
       "\n",
       "\\item If this is a number, the value will be set to that number\n",
       "\n",
       "\\end{itemize}\n",
       "Note: In many cases, the simplest way to estimate the value is to do a rollout on the fully observable MDP with a policy that is a function of the state. To do this, use \\texttt{FORollout(policy)}.\n",
       "\n",
       "\n",
       "\\item \\texttt{default\\_action::Any}   Function, action, or Policy used to determine the action if POMCP fails with exception \\texttt{ex}.   default: \\texttt{ExceptionRethrow()}\n",
       "\n",
       "\\begin{itemize}\n",
       "\\item If this is a Function \\texttt{f}, \\texttt{f(pomdp, belief, ex)} will be called.\n",
       "\n",
       "\n",
       "\\item If this is a Policy \\texttt{p}, \\texttt{action(p, belief)} will be called.\n",
       "\n",
       "\n",
       "\\item If it is an object \\texttt{a}, \\texttt{default\\_action(a, pomdp, belief, ex)} will be called, and if this method is not implemented, \\texttt{a} will be returned directly.\n",
       "\n",
       "\\end{itemize}\n",
       "\n",
       "\\item \\texttt{rng::AbstractRNG}   Random number generator.   default: \\texttt{Random.GLOBAL\\_RNG}\n",
       "\n",
       "\\end{itemize}\n"
      ],
      "text/markdown": [
       "```\n",
       "POMCPSolver(#=keyword arguments=#)\n",
       "```\n",
       "\n",
       "Partially Observable Monte Carlo Planning Solver.\n",
       "\n",
       "## Keyword Arguments\n",
       "\n",
       "  * `max_depth::Int`   Rollouts and tree expension will stop when this depth is reached.   default: `20`\n",
       "  * `c::Float64`   UCB exploration constant - specifies how much the solver should explore.   default: `1.0`\n",
       "  * `tree_queries::Int`   Number of iterations during each action() call.   default: `1000`\n",
       "  * `max_time::Float64`   Maximum time for planning in each action() call.   default: `Inf`\n",
       "  * `tree_in_info::Bool`   If `true`, returns the tree in the info dict when action_info is called.   default: `false`\n",
       "  * `experimental_ttc1::Bool`   If `true`, runs BasicPOMCP in experimental ttc1 mode (with observations class nodes)   default: `false`\n",
       "  * `dump_action_vales::Bool`   If `true`, dump action values estimated by POMCP   default: `false`\n",
       "  * `estimate_value::Any`   Function, object, or number used to estimate the value at the leaf nodes.   default: `RolloutEstimator(RandomSolver(rng))`\n",
       "\n",
       "      * If this is a function `f`, `f(pomdp, s, h::BeliefNode, steps)` will be called to estimate the value.\n",
       "      * If this is an object `o`, `estimate_value(o, pomdp, s, h::BeliefNode, steps)` will be called.\n",
       "      * If this is a number, the value will be set to that number\n",
       "\n",
       "    Note: In many cases, the simplest way to estimate the value is to do a rollout on the fully observable MDP with a policy that is a function of the state. To do this, use `FORollout(policy)`.\n",
       "  * `default_action::Any`   Function, action, or Policy used to determine the action if POMCP fails with exception `ex`.   default: `ExceptionRethrow()`\n",
       "\n",
       "      * If this is a Function `f`, `f(pomdp, belief, ex)` will be called.\n",
       "      * If this is a Policy `p`, `action(p, belief)` will be called.\n",
       "      * If it is an object `a`, `default_action(a, pomdp, belief, ex)` will be called, and if this method is not implemented, `a` will be returned directly.\n",
       "  * `rng::AbstractRNG`   Random number generator.   default: `Random.GLOBAL_RNG`\n"
      ],
      "text/plain": [
       "\u001b[36m  POMCPSolver(#=keyword arguments=#)\u001b[39m\n",
       "\n",
       "  Partially Observable Monte Carlo Planning Solver.\n",
       "\n",
       "\u001b[1m  Keyword Arguments\u001b[22m\n",
       "\u001b[1m  ===================\u001b[22m\n",
       "\n",
       "    •    \u001b[36mmax_depth::Int\u001b[39m Rollouts and tree expension will stop when this\n",
       "        depth is reached. default: \u001b[36m20\u001b[39m\n",
       "\n",
       "    •    \u001b[36mc::Float64\u001b[39m UCB exploration constant - specifies how much the\n",
       "        solver should explore. default: \u001b[36m1.0\u001b[39m\n",
       "\n",
       "    •    \u001b[36mtree_queries::Int\u001b[39m Number of iterations during each action() call.\n",
       "        default: \u001b[36m1000\u001b[39m\n",
       "\n",
       "    •    \u001b[36mmax_time::Float64\u001b[39m Maximum time for planning in each action() call.\n",
       "        default: \u001b[36mInf\u001b[39m\n",
       "\n",
       "    •    \u001b[36mtree_in_info::Bool\u001b[39m If \u001b[36mtrue\u001b[39m, returns the tree in the info dict when\n",
       "        action_info is called. default: \u001b[36mfalse\u001b[39m\n",
       "\n",
       "    •    \u001b[36mexperimental_ttc1::Bool\u001b[39m If \u001b[36mtrue\u001b[39m, runs BasicPOMCP in experimental\n",
       "        ttc1 mode (with observations class nodes) default: \u001b[36mfalse\u001b[39m\n",
       "\n",
       "    •    \u001b[36mdump_action_vales::Bool\u001b[39m If \u001b[36mtrue\u001b[39m, dump action values estimated by\n",
       "        POMCP default: \u001b[36mfalse\u001b[39m\n",
       "\n",
       "    •    \u001b[36mestimate_value::Any\u001b[39m Function, object, or number used to estimate\n",
       "        the value at the leaf nodes. default:\n",
       "        \u001b[36mRolloutEstimator(RandomSolver(rng))\u001b[39m\n",
       "      \n",
       "          •    If this is a function \u001b[36mf\u001b[39m, \u001b[36mf(pomdp, s, h::BeliefNode,\n",
       "              steps)\u001b[39m will be called to estimate the value.\n",
       "      \n",
       "          •    If this is an object \u001b[36mo\u001b[39m, \u001b[36mestimate_value(o, pomdp, s,\n",
       "              h::BeliefNode, steps)\u001b[39m will be called.\n",
       "      \n",
       "          •    If this is a number, the value will be set to that\n",
       "              number\n",
       "      \n",
       "        Note: In many cases, the simplest way to estimate the value is to\n",
       "        do a rollout on the fully observable MDP with a policy that is a\n",
       "        function of the state. To do this, use \u001b[36mFORollout(policy)\u001b[39m.\n",
       "\n",
       "    •    \u001b[36mdefault_action::Any\u001b[39m Function, action, or Policy used to determine\n",
       "        the action if POMCP fails with exception \u001b[36mex\u001b[39m. default:\n",
       "        \u001b[36mExceptionRethrow()\u001b[39m\n",
       "      \n",
       "          •    If this is a Function \u001b[36mf\u001b[39m, \u001b[36mf(pomdp, belief, ex)\u001b[39m will be\n",
       "              called.\n",
       "      \n",
       "          •    If this is a Policy \u001b[36mp\u001b[39m, \u001b[36maction(p, belief)\u001b[39m will be called.\n",
       "      \n",
       "          •    If it is an object \u001b[36ma\u001b[39m, \u001b[36mdefault_action(a, pomdp, belief,\n",
       "              ex)\u001b[39m will be called, and if this method is not\n",
       "              implemented, \u001b[36ma\u001b[39m will be returned directly.\n",
       "\n",
       "    •    \u001b[36mrng::AbstractRNG\u001b[39m Random number generator. default:\n",
       "        \u001b[36mRandom.GLOBAL_RNG\u001b[39m"
      ]
     },
     "execution_count": 45,
     "metadata": {},
     "output_type": "execute_result"
    }
   ],
   "source": [
    "?POMCPSolver"
   ]
  },
  {
   "cell_type": "code",
   "execution_count": 46,
   "metadata": {
    "collapsed": false
   },
   "outputs": [
    {
     "data": {
      "text/plain": [
       "POMCPSolver\n",
       "  max_depth: Int64 20\n",
       "  c: Float64 10.0\n",
       "  tree_queries: Int64 1000\n",
       "  max_time: Float64 Inf\n",
       "  tree_in_info: Bool false\n",
       "  experimental_ttc1: Bool true\n",
       "  dump_action_values: Bool false\n",
       "  default_action: ExceptionRethrow ExceptionRethrow()\n",
       "  rng: MersenneTwister\n",
       "  estimate_value: RolloutEstimator\n"
      ]
     },
     "execution_count": 46,
     "metadata": {},
     "output_type": "execute_result"
    }
   ],
   "source": [
    "# Using a tree_queries of 10000 provides much better results vs 16 but is much slower\n",
    "# tree_querries = 1000 looks like a reasonable tradeoff\n",
    "\n",
    "\n",
    "# By default we configure with the best settings based on our benchmarks results (cf report)\n",
    "solver = POMCPSolver(tree_queries=1000, c=10, max_depth=20, dump_action_values=false, experimental_ttc1=true)\n",
    "\n",
    "\n"
   ]
  },
  {
   "cell_type": "code",
   "execution_count": 47,
   "metadata": {
    "collapsed": false
   },
   "outputs": [],
   "source": [
    "pomdp = TrajPOMDP()\n",
    "planner = solve(solver, pomdp);"
   ]
  },
  {
   "cell_type": "code",
   "execution_count": 48,
   "metadata": {
    "collapsed": false
   },
   "outputs": [
    {
     "name": "stdout",
     "output_type": "stream",
     "text": [
      "initialstate_distribution\n",
      "    POMCP Recommends action -4 for belief FullNormal(\n",
      "dim: 48\n",
      "μ: [100.0, 0.0, 0.0, 20.0, 0.0, 100.0, 20.0, 0.0, 15.0, 100.0, 10.0, 2.0, 22.0, 84.0, 17.0, 5.0, 2.0, 90.0, 18.0, 0.0, 30.0, 30.0, 20.0, 1.0, 41.0, 182.0, 21.0, 3.0, 182.0, 131.0, -12.0, -2.0, 172.0, 172.0, -24.0, -5.0, 163.0, 164.0, -12.0, -1.0, 167.0, 177.0, -18.0, 0.0, 193.0, 145.0, -20.0, 0.0]\n",
      "Σ: [1.0e-10 0.0 0.0 0.0 0.0 0.0 0.0 0.0 0.0 0.0 0.0 0.0 0.0 0.0 0.0 0.0 0.0 0.0 0.0 0.0 0.0 0.0 0.0 0.0 0.0 0.0 0.0 0.0 0.0 0.0 0.0 0.0 0.0 0.0 0.0 0.0 0.0 0.0 0.0 0.0 0.0 0.0 0.0 0.0 0.0 0.0 0.0 0.0; 0.0 1.0e-10 0.0 0.0 0.0 0.0 0.0 0.0 0.0 0.0 0.0 0.0 0.0 0.0 0.0 0.0 0.0 0.0 0.0 0.0 0.0 0.0 0.0 0.0 0.0 0.0 0.0 0.0 0.0 0.0 0.0 0.0 0.0 0.0 0.0 0.0 0.0 0.0 0.0 0.0 0.0 0.0 0.0 0.0 0.0 0.0 0.0 0.0; 0.0 0.0 1.0e-10 0.0 0.0 0.0 0.0 0.0 0.0 0.0 0.0 0.0 0.0 0.0 0.0 0.0 0.0 0.0 0.0 0.0 0.0 0.0 0.0 0.0 0.0 0.0 0.0 0.0 0.0 0.0 0.0 0.0 0.0 0.0 0.0 0.0 0.0 0.0 0.0 0.0 0.0 0.0 0.0 0.0 0.0 0.0 0.0 0.0; 0.0 0.0 0.0 1.0e-10 0.0 0.0 0.0 0.0 0.0 0.0 0.0 0.0 0.0 0.0 0.0 0.0 0.0 0.0 0.0 0.0 0.0 0.0 0.0 0.0 0.0 0.0 0.0 0.0 0.0 0.0 0.0 0.0 0.0 0.0 0.0 0.0 0.0 0.0 0.0 0.0 0.0 0.0 0.0 0.0 0.0 0.0 0.0 0.0; 0.0 0.0 0.0 0.0 1.0 0.0 0.0 0.0 0.0 0.0 0.0 0.0 0.0 0.0 0.0 0.0 0.0 0.0 0.0 0.0 0.0 0.0 0.0 0.0 0.0 0.0 0.0 0.0 0.0 0.0 0.0 0.0 0.0 0.0 0.0 0.0 0.0 0.0 0.0 0.0 0.0 0.0 0.0 0.0 0.0 0.0 0.0 0.0; 0.0 0.0 0.0 0.0 0.0 1.0 0.0 0.0 0.0 0.0 0.0 0.0 0.0 0.0 0.0 0.0 0.0 0.0 0.0 0.0 0.0 0.0 0.0 0.0 0.0 0.0 0.0 0.0 0.0 0.0 0.0 0.0 0.0 0.0 0.0 0.0 0.0 0.0 0.0 0.0 0.0 0.0 0.0 0.0 0.0 0.0 0.0 0.0; 0.0 0.0 0.0 0.0 0.0 0.0 1.0 0.0 0.0 0.0 0.0 0.0 0.0 0.0 0.0 0.0 0.0 0.0 0.0 0.0 0.0 0.0 0.0 0.0 0.0 0.0 0.0 0.0 0.0 0.0 0.0 0.0 0.0 0.0 0.0 0.0 0.0 0.0 0.0 0.0 0.0 0.0 0.0 0.0 0.0 0.0 0.0 0.0; 0.0 0.0 0.0 0.0 0.0 0.0 0.0 1.0 0.0 0.0 0.0 0.0 0.0 0.0 0.0 0.0 0.0 0.0 0.0 0.0 0.0 0.0 0.0 0.0 0.0 0.0 0.0 0.0 0.0 0.0 0.0 0.0 0.0 0.0 0.0 0.0 0.0 0.0 0.0 0.0 0.0 0.0 0.0 0.0 0.0 0.0 0.0 0.0; 0.0 0.0 0.0 0.0 0.0 0.0 0.0 0.0 1.0 0.0 0.0 0.0 0.0 0.0 0.0 0.0 0.0 0.0 0.0 0.0 0.0 0.0 0.0 0.0 0.0 0.0 0.0 0.0 0.0 0.0 0.0 0.0 0.0 0.0 0.0 0.0 0.0 0.0 0.0 0.0 0.0 0.0 0.0 0.0 0.0 0.0 0.0 0.0; 0.0 0.0 0.0 0.0 0.0 0.0 0.0 0.0 0.0 1.0 0.0 0.0 0.0 0.0 0.0 0.0 0.0 0.0 0.0 0.0 0.0 0.0 0.0 0.0 0.0 0.0 0.0 0.0 0.0 0.0 0.0 0.0 0.0 0.0 0.0 0.0 0.0 0.0 0.0 0.0 0.0 0.0 0.0 0.0 0.0 0.0 0.0 0.0; 0.0 0.0 0.0 0.0 0.0 0.0 0.0 0.0 0.0 0.0 1.0 0.0 0.0 0.0 0.0 0.0 0.0 0.0 0.0 0.0 0.0 0.0 0.0 0.0 0.0 0.0 0.0 0.0 0.0 0.0 0.0 0.0 0.0 0.0 0.0 0.0 0.0 0.0 0.0 0.0 0.0 0.0 0.0 0.0 0.0 0.0 0.0 0.0; 0.0 0.0 0.0 0.0 0.0 0.0 0.0 0.0 0.0 0.0 0.0 1.0 0.0 0.0 0.0 0.0 0.0 0.0 0.0 0.0 0.0 0.0 0.0 0.0 0.0 0.0 0.0 0.0 0.0 0.0 0.0 0.0 0.0 0.0 0.0 0.0 0.0 0.0 0.0 0.0 0.0 0.0 0.0 0.0 0.0 0.0 0.0 0.0; 0.0 0.0 0.0 0.0 0.0 0.0 0.0 0.0 0.0 0.0 0.0 0.0 1.0 0.0 0.0 0.0 0.0 0.0 0.0 0.0 0.0 0.0 0.0 0.0 0.0 0.0 0.0 0.0 0.0 0.0 0.0 0.0 0.0 0.0 0.0 0.0 0.0 0.0 0.0 0.0 0.0 0.0 0.0 0.0 0.0 0.0 0.0 0.0; 0.0 0.0 0.0 0.0 0.0 0.0 0.0 0.0 0.0 0.0 0.0 0.0 0.0 1.0 0.0 0.0 0.0 0.0 0.0 0.0 0.0 0.0 0.0 0.0 0.0 0.0 0.0 0.0 0.0 0.0 0.0 0.0 0.0 0.0 0.0 0.0 0.0 0.0 0.0 0.0 0.0 0.0 0.0 0.0 0.0 0.0 0.0 0.0; 0.0 0.0 0.0 0.0 0.0 0.0 0.0 0.0 0.0 0.0 0.0 0.0 0.0 0.0 1.0 0.0 0.0 0.0 0.0 0.0 0.0 0.0 0.0 0.0 0.0 0.0 0.0 0.0 0.0 0.0 0.0 0.0 0.0 0.0 0.0 0.0 0.0 0.0 0.0 0.0 0.0 0.0 0.0 0.0 0.0 0.0 0.0 0.0; 0.0 0.0 0.0 0.0 0.0 0.0 0.0 0.0 0.0 0.0 0.0 0.0 0.0 0.0 0.0 1.0 0.0 0.0 0.0 0.0 0.0 0.0 0.0 0.0 0.0 0.0 0.0 0.0 0.0 0.0 0.0 0.0 0.0 0.0 0.0 0.0 0.0 0.0 0.0 0.0 0.0 0.0 0.0 0.0 0.0 0.0 0.0 0.0; 0.0 0.0 0.0 0.0 0.0 0.0 0.0 0.0 0.0 0.0 0.0 0.0 0.0 0.0 0.0 0.0 1.0 0.0 0.0 0.0 0.0 0.0 0.0 0.0 0.0 0.0 0.0 0.0 0.0 0.0 0.0 0.0 0.0 0.0 0.0 0.0 0.0 0.0 0.0 0.0 0.0 0.0 0.0 0.0 0.0 0.0 0.0 0.0; 0.0 0.0 0.0 0.0 0.0 0.0 0.0 0.0 0.0 0.0 0.0 0.0 0.0 0.0 0.0 0.0 0.0 1.0 0.0 0.0 0.0 0.0 0.0 0.0 0.0 0.0 0.0 0.0 0.0 0.0 0.0 0.0 0.0 0.0 0.0 0.0 0.0 0.0 0.0 0.0 0.0 0.0 0.0 0.0 0.0 0.0 0.0 0.0; 0.0 0.0 0.0 0.0 0.0 0.0 0.0 0.0 0.0 0.0 0.0 0.0 0.0 0.0 0.0 0.0 0.0 0.0 1.0 0.0 0.0 0.0 0.0 0.0 0.0 0.0 0.0 0.0 0.0 0.0 0.0 0.0 0.0 0.0 0.0 0.0 0.0 0.0 0.0 0.0 0.0 0.0 0.0 0.0 0.0 0.0 0.0 0.0; 0.0 0.0 0.0 0.0 0.0 0.0 0.0 0.0 0.0 0.0 0.0 0.0 0.0 0.0 0.0 0.0 0.0 0.0 0.0 1.0 0.0 0.0 0.0 0.0 0.0 0.0 0.0 0.0 0.0 0.0 0.0 0.0 0.0 0.0 0.0 0.0 0.0 0.0 0.0 0.0 0.0 0.0 0.0 0.0 0.0 0.0 0.0 0.0; 0.0 0.0 0.0 0.0 0.0 0.0 0.0 0.0 0.0 0.0 0.0 0.0 0.0 0.0 0.0 0.0 0.0 0.0 0.0 0.0 1.0 0.0 0.0 0.0 0.0 0.0 0.0 0.0 0.0 0.0 0.0 0.0 0.0 0.0 0.0 0.0 0.0 0.0 0.0 0.0 0.0 0.0 0.0 0.0 0.0 0.0 0.0 0.0; 0.0 0.0 0.0 0.0 0.0 0.0 0.0 0.0 0.0 0.0 0.0 0.0 0.0 0.0 0.0 0.0 0.0 0.0 0.0 0.0 0.0 1.0 0.0 0.0 0.0 0.0 0.0 0.0 0.0 0.0 0.0 0.0 0.0 0.0 0.0 0.0 0.0 0.0 0.0 0.0 0.0 0.0 0.0 0.0 0.0 0.0 0.0 0.0; 0.0 0.0 0.0 0.0 0.0 0.0 0.0 0.0 0.0 0.0 0.0 0.0 0.0 0.0 0.0 0.0 0.0 0.0 0.0 0.0 0.0 0.0 1.0 0.0 0.0 0.0 0.0 0.0 0.0 0.0 0.0 0.0 0.0 0.0 0.0 0.0 0.0 0.0 0.0 0.0 0.0 0.0 0.0 0.0 0.0 0.0 0.0 0.0; 0.0 0.0 0.0 0.0 0.0 0.0 0.0 0.0 0.0 0.0 0.0 0.0 0.0 0.0 0.0 0.0 0.0 0.0 0.0 0.0 0.0 0.0 0.0 1.0 0.0 0.0 0.0 0.0 0.0 0.0 0.0 0.0 0.0 0.0 0.0 0.0 0.0 0.0 0.0 0.0 0.0 0.0 0.0 0.0 0.0 0.0 0.0 0.0; 0.0 0.0 0.0 0.0 0.0 0.0 0.0 0.0 0.0 0.0 0.0 0.0 0.0 0.0 0.0 0.0 0.0 0.0 0.0 0.0 0.0 0.0 0.0 0.0 1.0 0.0 0.0 0.0 0.0 0.0 0.0 0.0 0.0 0.0 0.0 0.0 0.0 0.0 0.0 0.0 0.0 0.0 0.0 0.0 0.0 0.0 0.0 0.0; 0.0 0.0 0.0 0.0 0.0 0.0 0.0 0.0 0.0 0.0 0.0 0.0 0.0 0.0 0.0 0.0 0.0 0.0 0.0 0.0 0.0 0.0 0.0 0.0 0.0 1.0 0.0 0.0 0.0 0.0 0.0 0.0 0.0 0.0 0.0 0.0 0.0 0.0 0.0 0.0 0.0 0.0 0.0 0.0 0.0 0.0 0.0 0.0; 0.0 0.0 0.0 0.0 0.0 0.0 0.0 0.0 0.0 0.0 0.0 0.0 0.0 0.0 0.0 0.0 0.0 0.0 0.0 0.0 0.0 0.0 0.0 0.0 0.0 0.0 1.0 0.0 0.0 0.0 0.0 0.0 0.0 0.0 0.0 0.0 0.0 0.0 0.0 0.0 0.0 0.0 0.0 0.0 0.0 0.0 0.0 0.0; 0.0 0.0 0.0 0.0 0.0 0.0 0.0 0.0 0.0 0.0 0.0 0.0 0.0 0.0 0.0 0.0 0.0 0.0 0.0 0.0 0.0 0.0 0.0 0.0 0.0 0.0 0.0 1.0 0.0 0.0 0.0 0.0 0.0 0.0 0.0 0.0 0.0 0.0 0.0 0.0 0.0 0.0 0.0 0.0 0.0 0.0 0.0 0.0; 0.0 0.0 0.0 0.0 0.0 0.0 0.0 0.0 0.0 0.0 0.0 0.0 0.0 0.0 0.0 0.0 0.0 0.0 0.0 0.0 0.0 0.0 0.0 0.0 0.0 0.0 0.0 0.0 1.0 0.0 0.0 0.0 0.0 0.0 0.0 0.0 0.0 0.0 0.0 0.0 0.0 0.0 0.0 0.0 0.0 0.0 0.0 0.0; 0.0 0.0 0.0 0.0 0.0 0.0 0.0 0.0 0.0 0.0 0.0 0.0 0.0 0.0 0.0 0.0 0.0 0.0 0.0 0.0 0.0 0.0 0.0 0.0 0.0 0.0 0.0 0.0 0.0 1.0 0.0 0.0 0.0 0.0 0.0 0.0 0.0 0.0 0.0 0.0 0.0 0.0 0.0 0.0 0.0 0.0 0.0 0.0; 0.0 0.0 0.0 0.0 0.0 0.0 0.0 0.0 0.0 0.0 0.0 0.0 0.0 0.0 0.0 0.0 0.0 0.0 0.0 0.0 0.0 0.0 0.0 0.0 0.0 0.0 0.0 0.0 0.0 0.0 1.0 0.0 0.0 0.0 0.0 0.0 0.0 0.0 0.0 0.0 0.0 0.0 0.0 0.0 0.0 0.0 0.0 0.0; 0.0 0.0 0.0 0.0 0.0 0.0 0.0 0.0 0.0 0.0 0.0 0.0 0.0 0.0 0.0 0.0 0.0 0.0 0.0 0.0 0.0 0.0 0.0 0.0 0.0 0.0 0.0 0.0 0.0 0.0 0.0 1.0 0.0 0.0 0.0 0.0 0.0 0.0 0.0 0.0 0.0 0.0 0.0 0.0 0.0 0.0 0.0 0.0; 0.0 0.0 0.0 0.0 0.0 0.0 0.0 0.0 0.0 0.0 0.0 0.0 0.0 0.0 0.0 0.0 0.0 0.0 0.0 0.0 0.0 0.0 0.0 0.0 0.0 0.0 0.0 0.0 0.0 0.0 0.0 0.0 1.0 0.0 0.0 0.0 0.0 0.0 0.0 0.0 0.0 0.0 0.0 0.0 0.0 0.0 0.0 0.0; 0.0 0.0 0.0 0.0 0.0 0.0 0.0 0.0 0.0 0.0 0.0 0.0 0.0 0.0 0.0 0.0 0.0 0.0 0.0 0.0 0.0 0.0 0.0 0.0 0.0 0.0 0.0 0.0 0.0 0.0 0.0 0.0 0.0 1.0 0.0 0.0 0.0 0.0 0.0 0.0 0.0 0.0 0.0 0.0 0.0 0.0 0.0 0.0; 0.0 0.0 0.0 0.0 0.0 0.0 0.0 0.0 0.0 0.0 0.0 0.0 0.0 0.0 0.0 0.0 0.0 0.0 0.0 0.0 0.0 0.0 0.0 0.0 0.0 0.0 0.0 0.0 0.0 0.0 0.0 0.0 0.0 0.0 1.0 0.0 0.0 0.0 0.0 0.0 0.0 0.0 0.0 0.0 0.0 0.0 0.0 0.0; 0.0 0.0 0.0 0.0 0.0 0.0 0.0 0.0 0.0 0.0 0.0 0.0 0.0 0.0 0.0 0.0 0.0 0.0 0.0 0.0 0.0 0.0 0.0 0.0 0.0 0.0 0.0 0.0 0.0 0.0 0.0 0.0 0.0 0.0 0.0 1.0 0.0 0.0 0.0 0.0 0.0 0.0 0.0 0.0 0.0 0.0 0.0 0.0; 0.0 0.0 0.0 0.0 0.0 0.0 0.0 0.0 0.0 0.0 0.0 0.0 0.0 0.0 0.0 0.0 0.0 0.0 0.0 0.0 0.0 0.0 0.0 0.0 0.0 0.0 0.0 0.0 0.0 0.0 0.0 0.0 0.0 0.0 0.0 0.0 1.0 0.0 0.0 0.0 0.0 0.0 0.0 0.0 0.0 0.0 0.0 0.0; 0.0 0.0 0.0 0.0 0.0 0.0 0.0 0.0 0.0 0.0 0.0 0.0 0.0 0.0 0.0 0.0 0.0 0.0 0.0 0.0 0.0 0.0 0.0 0.0 0.0 0.0 0.0 0.0 0.0 0.0 0.0 0.0 0.0 0.0 0.0 0.0 0.0 1.0 0.0 0.0 0.0 0.0 0.0 0.0 0.0 0.0 0.0 0.0; 0.0 0.0 0.0 0.0 0.0 0.0 0.0 0.0 0.0 0.0 0.0 0.0 0.0 0.0 0.0 0.0 0.0 0.0 0.0 0.0 0.0 0.0 0.0 0.0 0.0 0.0 0.0 0.0 0.0 0.0 0.0 0.0 0.0 0.0 0.0 0.0 0.0 0.0 1.0 0.0 0.0 0.0 0.0 0.0 0.0 0.0 0.0 0.0; 0.0 0.0 0.0 0.0 0.0 0.0 0.0 0.0 0.0 0.0 0.0 0.0 0.0 0.0 0.0 0.0 0.0 0.0 0.0 0.0 0.0 0.0 0.0 0.0 0.0 0.0 0.0 0.0 0.0 0.0 0.0 0.0 0.0 0.0 0.0 0.0 0.0 0.0 0.0 1.0 0.0 0.0 0.0 0.0 0.0 0.0 0.0 0.0; 0.0 0.0 0.0 0.0 0.0 0.0 0.0 0.0 0.0 0.0 0.0 0.0 0.0 0.0 0.0 0.0 0.0 0.0 0.0 0.0 0.0 0.0 0.0 0.0 0.0 0.0 0.0 0.0 0.0 0.0 0.0 0.0 0.0 0.0 0.0 0.0 0.0 0.0 0.0 0.0 1.0 0.0 0.0 0.0 0.0 0.0 0.0 0.0; 0.0 0.0 0.0 0.0 0.0 0.0 0.0 0.0 0.0 0.0 0.0 0.0 0.0 0.0 0.0 0.0 0.0 0.0 0.0 0.0 0.0 0.0 0.0 0.0 0.0 0.0 0.0 0.0 0.0 0.0 0.0 0.0 0.0 0.0 0.0 0.0 0.0 0.0 0.0 0.0 0.0 1.0 0.0 0.0 0.0 0.0 0.0 0.0; 0.0 0.0 0.0 0.0 0.0 0.0 0.0 0.0 0.0 0.0 0.0 0.0 0.0 0.0 0.0 0.0 0.0 0.0 0.0 0.0 0.0 0.0 0.0 0.0 0.0 0.0 0.0 0.0 0.0 0.0 0.0 0.0 0.0 0.0 0.0 0.0 0.0 0.0 0.0 0.0 0.0 0.0 1.0 0.0 0.0 0.0 0.0 0.0; 0.0 0.0 0.0 0.0 0.0 0.0 0.0 0.0 0.0 0.0 0.0 0.0 0.0 0.0 0.0 0.0 0.0 0.0 0.0 0.0 0.0 0.0 0.0 0.0 0.0 0.0 0.0 0.0 0.0 0.0 0.0 0.0 0.0 0.0 0.0 0.0 0.0 0.0 0.0 0.0 0.0 0.0 0.0 1.0 0.0 0.0 0.0 0.0; 0.0 0.0 0.0 0.0 0.0 0.0 0.0 0.0 0.0 0.0 0.0 0.0 0.0 0.0 0.0 0.0 0.0 0.0 0.0 0.0 0.0 0.0 0.0 0.0 0.0 0.0 0.0 0.0 0.0 0.0 0.0 0.0 0.0 0.0 0.0 0.0 0.0 0.0 0.0 0.0 0.0 0.0 0.0 0.0 1.0 0.0 0.0 0.0; 0.0 0.0 0.0 0.0 0.0 0.0 0.0 0.0 0.0 0.0 0.0 0.0 0.0 0.0 0.0 0.0 0.0 0.0 0.0 0.0 0.0 0.0 0.0 0.0 0.0 0.0 0.0 0.0 0.0 0.0 0.0 0.0 0.0 0.0 0.0 0.0 0.0 0.0 0.0 0.0 0.0 0.0 0.0 0.0 0.0 1.0 0.0 0.0; 0.0 0.0 0.0 0.0 0.0 0.0 0.0 0.0 0.0 0.0 0.0 0.0 0.0 0.0 0.0 0.0 0.0 0.0 0.0 0.0 0.0 0.0 0.0 0.0 0.0 0.0 0.0 0.0 0.0 0.0 0.0 0.0 0.0 0.0 0.0 0.0 0.0 0.0 0.0 0.0 0.0 0.0 0.0 0.0 0.0 0.0 1.0 0.0; 0.0 0.0 0.0 0.0 0.0 0.0 0.0 0.0 0.0 0.0 0.0 0.0 0.0 0.0 0.0 0.0 0.0 0.0 0.0 0.0 0.0 0.0 0.0 0.0 0.0 0.0 0.0 0.0 0.0 0.0 0.0 0.0 0.0 0.0 0.0 0.0 0.0 0.0 0.0 0.0 0.0 0.0 0.0 0.0 0.0 0.0 0.0 1.0]\n",
      ")\n",
      ".\n",
      "\n",
      "    (this may be a bad choice because the POMCP Parameters are set to their defaults.)\n",
      "\n"
     ]
    }
   ],
   "source": [
    "b = initialstate_distribution(pomdp)\n",
    "a = action(planner, b)\n",
    "println(\"\"\"\n",
    "    POMCP Recommends action $a for belief $b.\n",
    "\n",
    "    (this may be a bad choice because the POMCP Parameters are set to their defaults.)\n",
    "\"\"\")"
   ]
  },
  {
   "cell_type": "code",
   "execution_count": 49,
   "metadata": {
    "collapsed": true
   },
   "outputs": [],
   "source": [
    "using POMDPModels\n",
    "using POMDPModelTools"
   ]
  },
  {
   "cell_type": "code",
   "execution_count": null,
   "metadata": {
    "collapsed": false
   },
   "outputs": [],
   "source": [
    "min_etime = Inf\n",
    "for i in 1:10\n",
    "    etime = @elapsed a, info = action_info(planner, initialstate_distribution(pomdp))\n",
    "    if etime < min_etime\n",
    "        min_etime = etime\n",
    "    end\n",
    "    #@show etime, a\n",
    "end\n",
    "\n",
    "println(min_etime)"
   ]
  },
  {
   "cell_type": "code",
   "execution_count": 50,
   "metadata": {
    "collapsed": true
   },
   "outputs": [],
   "source": [
    "using Plots\n",
    "using Printf"
   ]
  },
  {
   "cell_type": "code",
   "execution_count": 51,
   "metadata": {
    "collapsed": false
   },
   "outputs": [
    {
     "name": "stdout",
     "output_type": "stream",
     "text": [
      "initialstate_distribution\n",
      "(a, r, o) = (2, -67.08032671854626, [3, 98, 21, 3, 24, 34, 23, 6, 27, 131, 26, 1, 25, 52, 15, 2, 25, 173, 28, 2, 39, 166, 20, 6, 190, 44, -26, -7, 183, 189, -20, -9, 160, 154, -15, -7, 151, 39, -18, -1])\n",
      "Step 0 with action 2 reward -67.08\n",
      "rewards: eff=2.0 com=0.0 saf=-69.08032671854626\n",
      "(a, r, o) = (2, -69.49564079626794, [7, 100, 20, 2, 26, 35, 27, 2, 34, 131, 21, -2, 30, 50, 18, 5, 28, 173, 26, 4, 43, 169, 21, 5, 183, 44, -25, -7, 184, 189, -20, -6, 158, 149, -12, -5, 148, 37, -18, -5])\n",
      "Step 1 with action 2 reward -69.50\n",
      "rewards: eff=2.0 com=0.0 saf=-71.49564079626794\n",
      "(a, r, o) = (2, -71.85573827663306, [13, 98, 23, 3, 33, 37, 26, 5, 36, 132, 22, 0, 37, 54, 17, 1, 33, 173, 28, 3, 45, 171, 23, 4, 179, 44, -27, -8, 180, 186, -22, -7, 154, 149, -17, -8, 146, 35, -21, -3])\n",
      "Step 2 with action 2 reward -71.86\n",
      "rewards: eff=2.0 com=0.0 saf=-73.85573827663306\n",
      "(a, r, o) = (0, -75.85573827663302, [20, 99, 19, -2, 38, 40, 24, 6, 43, 133, 23, -1, 38, 54, 17, 2, 41, 171, 27, 2, 50, 172, 22, 6, 172, 42, -25, -3, 172, 186, -19, -6, 156, 146, -15, -7, 141, 36, -17, -2])\n",
      "Step 3 with action 0 reward -75.86\n",
      "rewards: eff=0.0 com=0.0 saf=-75.85573827663302\n",
      "(a, r, o) = (-2, -79.53563317317867, [19, 102, 23, -1, 41, 41, 26, 4, 50, 131, 22, 2, 41, 53, 17, 1, 45, 176, 26, 0, 55, 172, 21, 5, 171, 44, -26, -7, 167, 184, -22, -10, 150, 146, -11, -6, 139, 34, -17, -4])\n",
      "Step 4 with action -2 reward -79.54\n",
      "rewards: eff=-2.0 com=0.0 saf=-77.53563317317867\n",
      "(a, r, o) = (0, -79.5356331731787, [25, 96, 19, 2, 46, 39, 25, 6, 51, 134, 23, 0, 47, 54, 12, 1, 52, 175, 25, -1, 59, 176, 23, 8, 165, 40, -26, -7, 163, 182, -21, -8, 149, 146, -11, -6, 133, 33, -18, -4])\n",
      "Step 5 with action 0 reward -79.54\n",
      "rewards: eff=0.0 com=0.0 saf=-79.5356331731787\n",
      "(a, r, o) = (0, -81.53563317317867, [32, 101, 23, -2, 49, 37, 21, 4, 55, 133, 22, -2, 47, 55, 16, 4, 51, 175, 26, 0, 61, 173, 25, 3, 161, 39, -25, -6, 160, 183, -19, -6, 146, 145, -12, -10, 128, 34, -17, -5])\n",
      "Step 6 with action 0 reward -81.54\n",
      "rewards: eff=0.0 com=0.0 saf=-81.53563317317867\n",
      "(a, r, o) = (2, -81.79980934846094, [37, 98, 23, -1, 56, 41, 23, 2, 63, 130, 25, 0, 49, 56, 16, 3, 61, 176, 25, 1, 68, 175, 21, 5, 151, 40, -28, -5, 156, 179, -22, -8, 143, 143, -10, -7, 127, 33, -21, -6])\n",
      "Step 7 with action 2 reward -81.80\n",
      "rewards: eff=2.0 com=0.0 saf=-83.79980934846094\n",
      "(a, r, o) = (0, -85.79980934846093, [38, 101, 22, 3, 61, 42, 24, 5, 66, 132, 25, 2, 54, 56, 11, 3, 65, 177, 25, 0, 69, 176, 22, 7, 148, 38, -26, -10, 153, 180, -20, -11, 144, 140, -15, -3, 123, 33, -17, -3])\n",
      "Step 8 with action 0 reward -85.80\n",
      "rewards: eff=0.0 com=0.0 saf=-85.79980934846093\n",
      "(a, r, o) = (0, -87.79980934846094, [40, 101, 18, -1, 67, 40, 23, 3, 72, 131, 24, 2, 58, 55, 14, 0, 74, 177, 27, 0, 76, 178, 20, 5, 143, 32, -27, -5, 148, 176, -23, -7, 142, 140, -13, -5, 122, 34, -22, -3])\n",
      "Step 9 with action 0 reward -87.80\n",
      "rewards: eff=0.0 com=0.0 saf=-87.79980934846094\n",
      "(a, r, o) = (-4, -94.37777104712049, [48, 100, 25, -3, 72, 44, 27, 6, 76, 133, 27, -1, 59, 58, 13, 3, 75, 177, 27, 0, 81, 180, 22, 6, 137, 39, -26, -2, 144, 175, -20, -7, 134, 140, -13, -5, 117, 32, -19, -3])\n",
      "Step 10 with action -4 reward -94.38\n",
      "rewards: eff=-4.0 com=-1.0 saf=-89.37777104712049\n",
      "(a, r, o) = (-4, -95.94703242926036, [52, 100, 17, -1, 78, 44, 22, 3, 83, 131, 24, 0, 63, 58, 15, 0, 79, 174, 25, -1, 82, 178, 21, 4, 133, 35, -22, -6, 138, 173, -22, -5, 132, 138, -13, -8, 111, 30, -21, -2])\n",
      "Step 11 with action -4 reward -95.95\n",
      "rewards: eff=-4.0 com=-1.0 saf=-90.94703242926036\n",
      "(a, r, o) = (-4, -97.51157290569778, [59, 104, 20, 1, 80, 44, 22, 4, 85, 132, 26, -1, 63, 58, 15, 3, 87, 177, 26, 3, 89, 178, 22, 3, 127, 34, -29, -7, 135, 172, -22, -8, 130, 138, -15, -4, 103, 34, -20, -4])\n",
      "Step 12 with action -4 reward -97.51\n",
      "rewards: eff=-4.0 com=-1.0 saf=-92.51157290569778\n",
      "(a, r, o) = (-4, -99.07514684171139, [59, 97, 22, -1, 86, 43, 25, 4, 90, 129, 26, -1, 69, 60, 18, 3, 93, 179, 25, 2, 94, 183, 22, 4, 123, 32, -25, -4, 130, 171, -20, -2, 128, 137, -11, -5, 103, 30, -18, -3])\n",
      "Step 13 with action -4 reward -99.08\n",
      "rewards: eff=-4.0 com=-1.0 saf=-94.07514684171139\n",
      "(a, r, o) = (-4, -100.64155681644255, [65, 99, 21, 0, 87, 46, 23, 4, 92, 135, 23, -5, 68, 56, 15, 2, 100, 180, 27, 2, 95, 181, 23, 5, 116, 31, -27, -7, 129, 172, -21, -9, 129, 132, -13, -3, 99, 31, -21, -3])\n",
      "Step 14 with action -4 reward -100.64\n",
      "rewards: eff=-4.0 com=-1.0 saf=-95.64155681644255\n",
      "(a, r, o) = (-4, -102.21493529800212, [66, 98, 21, 0, 98, 46, 23, 4, 100, 132, 22, -2, 78, 57, 15, -2, 104, 180, 30, 3, 103, 183, 21, 4, 111, 27, -28, -4, 123, 168, -24, -8, 124, 134, -11, -6, 97, 32, -16, -3])\n",
      "Step 15 with action -4 reward -102.21\n",
      "rewards: eff=-4.0 com=-1.0 saf=-97.21493529800212\n",
      "(a, r, o) = (-2, -101.01434691542002, [72, 99, 23, 1, 100, 48, 26, 5, 107, 132, 22, -1, 78, 58, 16, 1, 110, 177, 27, 0, 106, 182, 24, 4, 107, 32, -28, -5, 117, 168, -22, -5, 122, 134, -12, -6, 94, 31, -16, -3])\n",
      "Step 16 with action -2 reward -101.01\n",
      "rewards: eff=-2.0 com=0.0 saf=-99.01434691542002\n",
      "(a, r, o) = (-4, -105.64645107639875, [75, 96, 20, -3, 105, 47, 22, 4, 110, 132, 24, 1, 84, 57, 16, 2, 113, 181, 23, 0, 112, 184, 18, 4, 100, 31, -25, -8, 117, 163, -21, -9, 122, 133, -17, -7, 90, 30, -21, -3])\n",
      "Step 17 with action -4 reward -105.65\n",
      "rewards: eff=-4.0 com=-1.0 saf=-100.64645107639875\n",
      "(a, r, o) = (-4, -107.30784487640392, [81, 99, 22, -1, 109, 51, 29, 4, 115, 129, 22, 1, 85, 60, 15, 4, 117, 179, 25, 3, 119, 182, 24, 4, 97, 27, -27, -3, 112, 162, -21, -7, 118, 128, -11, -6, 87, 28, -18, -1])\n",
      "Step 18 with action -4 reward -107.31\n",
      "rewards: eff=-4.0 com=-1.0 saf=-102.30784487640392\n",
      "(a, r, o) = (-4, -109.0089670242662, [85, 97, 25, 0, 118, 50, 27, 7, 118, 132, 25, -3, 86, 58, 15, 1, 126, 177, 26, 1, 118, 185, 27, 2, 92, 27, -23, -4, 108, 160, -19, -9, 110, 129, -12, -4, 83, 28, -16, -3])\n",
      "Step 19 with action -4 reward -109.01\n",
      "rewards: eff=-4.0 com=-1.0 saf=-104.0089670242662\n",
      "(a, r, o) = (-4, -110.76342839591895, [91, 100, 21, 2, 117, 51, 25, 2, 123, 132, 25, -2, 89, 63, 17, 2, 131, 182, 25, 1, 127, 187, 25, 5, 84, 26, -28, -8, 100, 161, -19, -7, 110, 125, -14, -2, 80, 27, -17, -5])\n",
      "Step 20 with action -4 reward -110.76\n",
      "rewards: eff=-4.0 com=-1.0 saf=-105.76342839591895\n",
      "(a, r, o) = (0, -107.76342839591894, [95, 102, 24, -3, 128, 54, 25, 4, 127, 131, 24, 0, 90, 61, 17, -1, 135, 178, 27, 2, 128, 189, 23, 7, 82, 22, -26, -7, 101, 162, -21, -7, 106, 127, -16, -5, 77, 28, -18, -2])\n",
      "Step 21 with action 0 reward -107.76\n",
      "rewards: eff=0.0 com=0.0 saf=-107.76342839591894\n",
      "(a, r, o) = (-2, -111.73137972082449, [99, 96, 21, 0, 127, 53, 24, 2, 133, 132, 24, 4, 95, 61, 14, 4, 141, 180, 28, 2, 135, 187, 24, 3, 71, 21, -24, -2, 92, 160, -22, -10, 107, 123, -12, -8, 71, 29, -19, -2])\n",
      "Step 22 with action -2 reward -111.73\n",
      "rewards: eff=-2.0 com=0.0 saf=-109.73137972082449\n",
      "(a, r, o) = (-2, -106.17290218779894, [102, 98, 22, 0, 135, 54, 25, 3, 137, 130, 23, -4, 99, 66, 14, 3, 143, 184, 26, -1, 135, 186, 23, 7, 71, 23, -27, -4, 90, 155, -21, -5, 103, 126, -12, -7, 66, 27, -17, -3])\n",
      "Step 23 with action -2 reward -106.17\n",
      "rewards: eff=-2.0 com=0.0 saf=-104.17290218779894\n",
      "(a, r, o) = (-2, -108.22386722458646, [103, 100, 21, -2, 136, 55, 22, 5, 143, 129, 24, 2, 103, 64, 14, 2, 150, 179, 25, 2, 142, 191, 22, 6, 67, 22, -23, -4, 85, 155, -23, -7, 102, 124, -15, -7, 64, 27, -17, 1])\n",
      "Step 24 with action -2 reward -108.22\n",
      "rewards: eff=-2.0 com=0.0 saf=-106.22386722458646\n",
      "(a, r, o) = (2, -106.19383013929632, [112, 97, 20, -1, 143, 57, 26, 6, 146, 131, 21, -2, 103, 60, 13, 2, 156, 180, 28, 1, 145, 189, 22, 8, 61, 19, -28, -6, 84, 154, -21, -5, 98, 123, -13, -5, 59, 26, -18, -5])\n",
      "Step 25 with action 2 reward -106.19\n",
      "rewards: eff=2.0 com=0.0 saf=-108.19383013929632\n",
      "(a, r, o) = (0, 0, [115, 101, 21, 1, 150, 56, 23, 4, 150, 132, 24, 0, 109, 63, 16, 3, 157, 183, 27, 3, 150, 190, 23, 6, 58, 21, -24, -6, 76, 154, -20, -9, 95, 122, -12, -6, 57, 23, -20, -6])\n",
      "Step 26 with action 0 reward 0.00\n",
      "rewards: eff=0.0 com=0.0 saf=0.0\n",
      "(a, r, o) = (2, 2, [121, 99, 20, 4, 154, 55, 23, 5, 155, 133, 23, 1, 109, 63, 18, 2, 166, 181, 23, 2, 154, 192, 21, 2, 52, 22, -26, -4, 72, 146, -21, -11, 92, 119, -13, -3, 53, 26, -17, -4])\n",
      "Step 27 with action 2 reward 2.00\n",
      "rewards: eff=2.0 com=0.0 saf=0.0\n",
      "(a, r, o) = (2, 2, [118, 97, 24, 0, 158, 60, 22, 3, 159, 131, 27, -2, 112, 64, 16, 1, 169, 179, 31, 3, 160, 199, 21, 2, 45, 15, -27, -5, 71, 149, -19, -9, 92, 118, -12, -6, 46, 23, -15, -1])\n",
      "Step 28 with action 2 reward 2.00\n",
      "rewards: eff=2.0 com=0.0 saf=0.0\n",
      "(a, r, o) = (2, 2, [126, 97, 21, 1, 160, 62, 24, 3, 166, 131, 25, -1, 115, 64, 13, 3, 177, 183, 27, 5, 160, 196, 23, 4, 37, 16, -26, -7, 66, 147, -21, -7, 89, 119, -13, -6, 49, 23, -21, -3])\n",
      "Step 29 with action 2 reward 2.00\n",
      "rewards: eff=2.0 com=0.0 saf=0.0\n",
      "(a, r, o) = (2, 2, [132, 101, 22, 1, 167, 61, 25, 4, 171, 132, 25, 3, 122, 66, 14, 3, 180, 180, 25, 1, 170, 195, 23, 5, 35, 16, -25, -4, 61, 145, -21, -6, 82, 114, -12, -6, 44, 23, -16, -1])\n",
      "Step 30 with action 2 reward 2.00\n",
      "rewards: eff=2.0 com=0.0 saf=0.0\n",
      "(a, r, o) = (2, 2, [136, 101, 24, 1, 173, 58, 20, 3, 176, 133, 26, 3, 122, 66, 16, 4, 188, 182, 26, 1, 172, 197, 20, 9, 31, 13, -27, -5, 56, 143, -19, -5, 83, 116, -13, -10, 40, 20, -17, -4])\n",
      "Step 31 with action 2 reward 2.00\n",
      "rewards: eff=2.0 com=0.0 saf=0.0\n",
      "(a, r, o) = (2, 2, [137, 101, 21, -1, 178, 62, 25, 5, 180, 130, 24, -1, 124, 66, 16, 3, 189, 183, 29, 2, 177, 200, 19, 6, 24, 12, -24, -6, 50, 143, -19, -5, 78, 114, -11, -10, 37, 24, -17, -1])\n",
      "Step 32 with action 2 reward 2.00\n",
      "rewards: eff=2.0 com=0.0 saf=0.0\n",
      "(a, r, o) = (2, 2, [144, 98, 21, 0, 182, 61, 24, 5, 186, 132, 23, 1, 131, 64, 15, 3, 200, 182, 29, -1, 182, 200, 18, 2, 20, 11, -23, -6, 47, 141, -19, -9, 76, 114, -15, -5, 34, 22, -17, 1])\n",
      "Step 33 with action 2 reward 2.00\n",
      "rewards: eff=2.0 com=0.0 saf=0.0\n",
      "(a, r, o) = (2, 2, [148, 97, 23, 0, 186, 62, 27, 3, 190, 127, 25, -2, 131, 63, 16, 5, 202, 183, 28, 0, 186, 200, 21, 6, 15, 10, -22, -8, 45, 143, -22, -2, 76, 111, -12, -5, 27, 21, -18, -2])\n",
      "Step 34 with action 2 reward 2.00\n",
      "rewards: eff=2.0 com=0.0 saf=0.0\n",
      "(a, r, o) = (2, 2, [154, 98, 23, 1, 193, 60, 25, 4, 193, 130, 27, 3, 135, 64, 13, 2, 208, 181, 27, -1, 191, 200, 21, 5, 10, 7, -26, -3, 39, 137, -22, -7, 69, 108, -10, -5, 26, 15, -18, 0])\n",
      "Step 35 with action 2 reward 2.00\n",
      "rewards: eff=2.0 com=0.0 saf=0.0\n",
      "(a, r, o) = (2, 2, [158, 100, 20, -1, 197, 63, 24, 2, 195, 129, 21, 2, 138, 67, 13, 0, 211, 183, 28, 0, 192, 201, 21, 2, 7, 10, -25, -6, 37, 140, -22, -5, 72, 107, -13, -4, 23, 20, -18, 0])\n",
      "Step 36 with action 2 reward 2.00\n",
      "rewards: eff=2.0 com=0.0 saf=0.0\n",
      "(a, r, o) = (2, 2, [160, 102, 20, 0, 201, 64, 21, 3, 203, 132, 21, 0, 140, 65, 12, 3, 216, 181, 24, 0, 201, 202, 19, 5, -1, 4, -25, -6, 30, 136, -20, -8, 64, 111, -14, -5, 19, 21, -16, -2])\n",
      "Step 37 with action 2 reward 2.00\n",
      "rewards: eff=2.0 com=0.0 saf=0.0\n",
      "(a, r, o) = (2, 2, [164, 101, 23, -1, 202, 68, 23, 5, 208, 130, 24, 0, 145, 71, 17, 2, 224, 190, 25, 3, 204, 202, 25, 6, -8, 5, -27, -2, 27, 132, -22, -9, 65, 107, -14, -4, 16, 21, -17, -4])\n",
      "Step 38 with action 2 reward 2.00\n",
      "rewards: eff=2.0 com=0.0 saf=0.0\n",
      "(a, r, o) = (2, 2, [171, 100, 22, 4, 209, 67, 24, 3, 214, 129, 22, -1, 147, 70, 13, 4, 229, 184, 26, 1, 209, 206, 24, 7, -12, 5, -25, -6, 27, 133, -20, -8, 63, 103, -11, 0, 14, 21, -19, -1])\n",
      "Step 39 with action 2 reward 2.00\n",
      "rewards: eff=2.0 com=0.0 saf=0.0\n",
      "(a, r, o) = (2, 2, [171, 100, 19, 0, 217, 69, 25, 3, 216, 130, 23, 1, 151, 68, 13, 2, 238, 186, 29, 4, 211, 207, 22, 4, -15, 6, -27, -6, 19, 132, -19, -6, 58, 104, -17, -6, 8, 16, -20, -4])\n",
      "Step 40 with action 2 reward 2.00\n",
      "rewards: eff=2.0 com=0.0 saf=0.0\n",
      "(a, r, o) = (2, 2, [180, 99, 22, 1, 217, 68, 22, 5, 224, 126, 28, -2, 154, 65, 12, 1, 239, 188, 26, 4, 217, 206, 22, 4, -23, 5, -26, -10, 17, 130, -21, -8, 58, 102, -12, -7, 8, 19, -18, 0])\n",
      "Step 41 with action 2 reward 2.00\n",
      "rewards: eff=2.0 com=0.0 saf=0.0\n",
      "(a, r, o) = (2, 2, [181, 100, 18, -2, 225, 71, 23, 8, 228, 132, 25, -2, 153, 70, 18, 1, 245, 188, 27, 2, 221, 205, 22, 3, -27, 2, -28, -5, 10, 129, -20, -10, 52, 101, -13, -6, 1, 15, -20, 0])\n",
      "Step 42 with action 2 reward 2.00\n",
      "rewards: eff=2.0 com=0.0 saf=0.0\n",
      "(a, r, o) = (2, 2, [183, 98, 25, 0, 230, 72, 25, 3, 232, 130, 20, 1, 158, 70, 16, 2, 251, 186, 24, 3, 225, 207, 25, 6, -30, 2, -25, -4, 9, 126, -21, -5, 52, 101, -13, -6, 2, 14, -17, -1])\n",
      "Step 43 with action 2 reward 2.00\n",
      "rewards: eff=2.0 com=0.0 saf=0.0\n",
      "(a, r, o) = (2, 2, [190, 102, 22, 1, 231, 73, 22, 3, 236, 130, 21, -1, 159, 68, 15, 4, 255, 185, 23, 1, 230, 209, 20, 4, -37, 2, -27, -8, 4, 126, -22, -8, 48, 100, -16, -8, -8, 14, -16, -3])\n",
      "Step 44 with action 2 reward 2.00\n",
      "rewards: eff=2.0 com=0.0 saf=0.0\n",
      "(a, r, o) = (2, 2, [195, 98, 20, 0, 241, 75, 23, 3, 241, 130, 21, 1, 168, 70, 15, 1, 264, 186, 24, 1, 237, 212, 22, 1, -41, -3, -23, -4, -1, 125, -22, -4, 47, 98, -12, -11, -10, 15, -18, -3])\n",
      "Step 45 with action 2 reward 2.00\n",
      "rewards: eff=2.0 com=0.0 saf=0.0\n",
      "(a, r, o) = (2, 2, [198, 99, 20, 1, 246, 76, 23, 3, 244, 128, 23, -3, 168, 73, 15, 2, 266, 187, 27, 1, 237, 208, 23, 6, -49, -4, -29, -4, -3, 123, -19, -9, 43, 97, -13, -2, -14, 15, -15, -4])\n",
      "Step 46 with action 2 reward 2.00\n",
      "rewards: eff=2.0 com=0.0 saf=0.0\n",
      "(a, r, o) = (2, 2, [201, 102, 20, 1, 251, 75, 24, 2, 247, 131, 22, -2, 172, 70, 12, 2, 271, 184, 26, -3, 244, 210, 22, 3, -55, -2, -26, -6, -9, 123, -20, -8, 40, 97, -13, -4, -17, 13, -21, 0])\n",
      "Step 47 with action 2 reward 2.00\n",
      "rewards: eff=2.0 com=0.0 saf=0.0\n",
      "(a, r, o) = (2, 2, [211, 100, 21, 1, 256, 77, 24, 3, 256, 133, 24, -1, 174, 75, 17, 4, 275, 184, 28, 2, 246, 211, 23, 5, -57, -1, -22, -8, -13, 117, -18, -8, 35, 96, -13, -8, -21, 15, -17, -6])\n",
      "Step 48 with action 2 reward 2.00\n",
      "rewards: eff=2.0 com=0.0 saf=0.0\n",
      "(a, r, o) = (2, 2, [210, 100, 21, 0, 258, 77, 23, 2, 261, 129, 24, -1, 175, 73, 17, 1, 282, 185, 22, 0, 253, 214, 24, 4, -63, -5, -26, -4, -17, 118, -20, -7, 38, 95, -13, -10, -23, 13, -19, -7])\n",
      "Step 49 with action 2 reward 2.00\n",
      "rewards: eff=2.0 com=0.0 saf=0.0\n",
      "(a, r, o) = (2, 2, [214, 98, 18, 2, 265, 79, 24, 5, 266, 127, 24, 0, 181, 74, 12, 1, 286, 186, 26, 3, 255, 214, 21, 3, -69, -4, -28, -8, -21, 120, -20, -9, 31, 89, -13, -5, -30, 17, -21, -5])\n",
      "Step 50 with action 2 reward 2.00\n",
      "rewards: eff=2.0 com=0.0 saf=0.0\n",
      "(a, r, o) = (2, 2, [223, 100, 21, 0, 269, 77, 22, 4, 268, 128, 24, -3, 181, 73, 13, 3, 292, 187, 29, 1, 263, 217, 23, 4, -75, -7, -26, -5, -29, 117, -19, -8, 32, 91, -12, -6, -31, 12, -17, -7])\n",
      "Step 51 with action 2 reward 2.00\n",
      "rewards: eff=2.0 com=0.0 saf=0.0\n",
      "(a, r, o) = (2, 2, [228, 103, 23, -1, 274, 77, 23, 0, 272, 132, 21, -2, 186, 73, 13, 4, 299, 189, 26, 2, 264, 217, 24, 5, -77, -10, -26, -4, -29, 113, -21, -9, 29, 92, -14, -5, -36, 11, -17, -3])\n",
      "Step 52 with action 2 reward 2.00\n",
      "rewards: eff=2.0 com=0.0 saf=0.0\n",
      "(a, r, o) = (2, 2, [230, 99, 20, -1, 280, 81, 25, 4, 276, 131, 21, 2, 186, 73, 17, 0, 301, 188, 30, 0, 267, 220, 24, 6, -85, -8, -26, -5, -34, 114, -23, -5, 26, 90, -13, -7, -36, 9, -20, -5])\n",
      "Step 53 with action 2 reward 2.00\n",
      "rewards: eff=2.0 com=0.0 saf=0.0\n",
      "(a, r, o) = (2, 2, [234, 103, 22, -1, 277, 79, 26, 2, 282, 132, 23, -1, 192, 76, 15, 2, 306, 186, 29, 4, 275, 219, 23, 5, -86, -12, -29, -7, -36, 111, -23, -7, 24, 86, -12, -6, -46, 12, -17, -2])\n",
      "Step 54 with action 2 reward 2.00\n",
      "rewards: eff=2.0 com=0.0 saf=0.0\n",
      "(a, r, o) = (2, 2, [237, 101, 22, -1, 286, 84, 24, 5, 288, 130, 22, 2, 194, 75, 13, 1, 312, 191, 28, 1, 276, 220, 18, 6, -96, -13, -26, -6, -43, 112, -19, -6, 18, 84, -12, -8, -45, 11, -16, -5])\n",
      "Step 55 with action 2 reward 2.00\n",
      "rewards: eff=2.0 com=0.0 saf=0.0\n",
      "(a, r, o) = (2, 2, [242, 100, 21, -1, 293, 80, 26, 6, 289, 127, 24, -2, 198, 75, 17, 0, 316, 191, 30, 2, 283, 222, 23, 4, -101, -12, -26, -7, -46, 107, -22, -8, 18, 88, -16, -4, -51, 7, -16, -6])\n",
      "Step 56 with action 2 reward 2.00\n",
      "rewards: eff=2.0 com=0.0 saf=0.0\n",
      "average rewards: eff=20.0 com=-10.0 saf=-2393.888232928067steps=57\n"
     ]
    }
   ],
   "source": [
    "plots = [] # for visu but please note that it slows down the steps\n",
    "steps = 0\n",
    "\n",
    "r_eff = r_com = r_saf = 0\n",
    "nsteps = 120\n",
    "\n",
    "for (s,a,r,sp,o) in stepthrough(pomdp, planner, up, \"sarspo\", max_steps=nsteps)\n",
    "    #@show (s,a,r,sp,o)\n",
    "    @show (a,r,o)\n",
    "    \n",
    "    string_label = @sprintf \"Step %d with action %d reward %.2f\" steps a r\n",
    "    \n",
    "    string_text1 = @sprintf \"R_com %.2f, R_eff %.2f, R_saf %.2f\" pomdp.r_comfort pomdp.r_efficiency pomdp.r_safety\n",
    "    string_text2 = @sprintf \"TTC %.2f seconds, D_min %.2f meters\" pomdp.smallest_TTC pomdp.dist_nearest_obj\n",
    "    println(string_label)\n",
    "    \n",
    "    plt = scatter([s[1]], [s[2]], color=:blue, markersize=3, xlim=(0,200), ylim=(0,200), label=string_label)\n",
    "    plot!(plt, [s[1], s[1]+s[3]], [s[2], s[2]+s[4]], arrow=true, color=:blue, label=\"\")\n",
    "    scatter!(plt, annotation=[ (50,185, string_text1, 8) ])\n",
    "    scatter!(plt, annotation=[ (50,175, string_text2, 8) ])\n",
    "    \n",
    "    v = sqrt(s[3]^2+s[4]^2)\n",
    "    string_v = @sprintf \"v=%.1f m.s-1\" v\n",
    "    scatter!(plt, annotation=[ (s[1]+15,s[2], string_v, 8) ])\n",
    "    \n",
    "    idx = 1\n",
    "    for n in 1:pomdp.n_obj\n",
    "        \n",
    "        if n == pomdp.smallest_TTC_obj\n",
    "            cobj = :red\n",
    "        else\n",
    "            cobj = :green\n",
    "        end\n",
    "        \n",
    "        # Plot TRUE STATE\n",
    "        scatter!(plt, [s[idx+4]], [s[idx+5]], color=cobj, markersize=3, xlim=(0,200), ylim=(0,200), label=\"\")\n",
    "        plot!(plt, [s[idx+4], s[idx+4]+s[idx+6]], [s[idx+5], s[idx+5]+s[idx+7]], arrow=true, color=cobj, label=\"\")\n",
    "        \n",
    "        v = sqrt(s[idx+6]^2+s[idx+7]^2)\n",
    "        string_v = @sprintf \"v=%.1f m.s-1\" v\n",
    "        scatter!(plt, annotation=[ (s[idx+4]+10,s[idx+5]+5, string_v, 8) ])\n",
    "        \n",
    "        # Plot OBSERVATION\n",
    "        scatter!(plt, [o[idx]], [o[idx+1]], color=cobj, marker=:xcross, markersize=5, xlim=(0,200), ylim=(0,200), label=\"\")\n",
    "        idx += 4\n",
    "    end\n",
    "    \n",
    "    #ox = o % 200\n",
    "    #oy = floor(o/200) + 1\n",
    "    #scatter!(plt, [ox], [oy], color=:red, marker=:xcross, markersize=5, xlim=(0,200), ylim=(0,200), label=\"\")\n",
    "    \n",
    "    r_eff += pomdp.r_efficiency\n",
    "    r_com += pomdp.r_comfort\n",
    "    r_saf += pomdp.r_safety\n",
    "    println(\"rewards: eff=\", pomdp.r_efficiency, \" com=\", pomdp.r_comfort, \" saf=\", pomdp.r_safety)\n",
    "    \n",
    "    push!(plots, plt)\n",
    "    steps += 1\n",
    "end\n",
    "\n",
    "\n",
    "println(\"average rewards: eff=\", r_eff, \" com=\", r_com, \" saf=\", r_saf, \"steps=\", steps)\n"
   ]
  },
  {
   "cell_type": "code",
   "execution_count": 53,
   "metadata": {
    "collapsed": false
   },
   "outputs": [
    {
     "data": {
      "image/svg+xml": [
       "<?xml version=\"1.0\" encoding=\"utf-8\"?>\n",
       "<svg xmlns=\"http://www.w3.org/2000/svg\" xmlns:xlink=\"http://www.w3.org/1999/xlink\" width=\"600\" height=\"400\" viewBox=\"0 0 2400 1600\">\n",
       "<defs>\n",
       "  <clipPath id=\"clip2400\">\n",
       "    <rect x=\"0\" y=\"0\" width=\"2000\" height=\"2000\"/>\n",
       "  </clipPath>\n",
       "</defs>\n",
       "<defs>\n",
       "  <clipPath id=\"clip2401\">\n",
       "    <rect x=\"0\" y=\"0\" width=\"2400\" height=\"1600\"/>\n",
       "  </clipPath>\n",
       "</defs>\n",
       "<polygon clip-path=\"url(#clip2401)\" points=\"\n",
       "0,1600 2400,1600 2400,0 0,0 \n",
       "  \" fill=\"#ffffff\" fill-rule=\"evenodd\" fill-opacity=\"1\"/>\n",
       "<defs>\n",
       "  <clipPath id=\"clip2402\">\n",
       "    <rect x=\"480\" y=\"0\" width=\"1681\" height=\"1600\"/>\n",
       "  </clipPath>\n",
       "</defs>\n",
       "<polygon clip-path=\"url(#clip2401)\" points=\"\n",
       "174.775,1503.47 2321.26,1503.47 2321.26,47.2441 174.775,47.2441 \n",
       "  \" fill=\"#ffffff\" fill-rule=\"evenodd\" fill-opacity=\"1\"/>\n",
       "<defs>\n",
       "  <clipPath id=\"clip2403\">\n",
       "    <rect x=\"174\" y=\"47\" width=\"2147\" height=\"1457\"/>\n",
       "  </clipPath>\n",
       "</defs>\n",
       "<polyline clip-path=\"url(#clip2403)\" style=\"stroke:#000000; stroke-width:2; stroke-opacity:0.1; fill:none\" points=\"\n",
       "  174.775,1503.47 174.775,47.2441 \n",
       "  \"/>\n",
       "<polyline clip-path=\"url(#clip2403)\" style=\"stroke:#000000; stroke-width:2; stroke-opacity:0.1; fill:none\" points=\"\n",
       "  711.396,1503.47 711.396,47.2441 \n",
       "  \"/>\n",
       "<polyline clip-path=\"url(#clip2403)\" style=\"stroke:#000000; stroke-width:2; stroke-opacity:0.1; fill:none\" points=\"\n",
       "  1248.02,1503.47 1248.02,47.2441 \n",
       "  \"/>\n",
       "<polyline clip-path=\"url(#clip2403)\" style=\"stroke:#000000; stroke-width:2; stroke-opacity:0.1; fill:none\" points=\"\n",
       "  1784.64,1503.47 1784.64,47.2441 \n",
       "  \"/>\n",
       "<polyline clip-path=\"url(#clip2403)\" style=\"stroke:#000000; stroke-width:2; stroke-opacity:0.1; fill:none\" points=\"\n",
       "  2321.26,1503.47 2321.26,47.2441 \n",
       "  \"/>\n",
       "<polyline clip-path=\"url(#clip2403)\" style=\"stroke:#000000; stroke-width:2; stroke-opacity:0.1; fill:none\" points=\"\n",
       "  174.775,1503.47 2321.26,1503.47 \n",
       "  \"/>\n",
       "<polyline clip-path=\"url(#clip2403)\" style=\"stroke:#000000; stroke-width:2; stroke-opacity:0.1; fill:none\" points=\"\n",
       "  174.775,1139.42 2321.26,1139.42 \n",
       "  \"/>\n",
       "<polyline clip-path=\"url(#clip2403)\" style=\"stroke:#000000; stroke-width:2; stroke-opacity:0.1; fill:none\" points=\"\n",
       "  174.775,775.359 2321.26,775.359 \n",
       "  \"/>\n",
       "<polyline clip-path=\"url(#clip2403)\" style=\"stroke:#000000; stroke-width:2; stroke-opacity:0.1; fill:none\" points=\"\n",
       "  174.775,411.302 2321.26,411.302 \n",
       "  \"/>\n",
       "<polyline clip-path=\"url(#clip2403)\" style=\"stroke:#000000; stroke-width:2; stroke-opacity:0.1; fill:none\" points=\"\n",
       "  174.775,47.2441 2321.26,47.2441 \n",
       "  \"/>\n",
       "<polyline clip-path=\"url(#clip2401)\" style=\"stroke:#000000; stroke-width:4; stroke-opacity:1; fill:none\" points=\"\n",
       "  174.775,1503.47 2321.26,1503.47 \n",
       "  \"/>\n",
       "<polyline clip-path=\"url(#clip2401)\" style=\"stroke:#000000; stroke-width:4; stroke-opacity:1; fill:none\" points=\"\n",
       "  174.775,1503.47 174.775,47.2441 \n",
       "  \"/>\n",
       "<polyline clip-path=\"url(#clip2401)\" style=\"stroke:#000000; stroke-width:4; stroke-opacity:1; fill:none\" points=\"\n",
       "  174.775,1503.47 174.775,1481.63 \n",
       "  \"/>\n",
       "<polyline clip-path=\"url(#clip2401)\" style=\"stroke:#000000; stroke-width:4; stroke-opacity:1; fill:none\" points=\"\n",
       "  711.396,1503.47 711.396,1481.63 \n",
       "  \"/>\n",
       "<polyline clip-path=\"url(#clip2401)\" style=\"stroke:#000000; stroke-width:4; stroke-opacity:1; fill:none\" points=\"\n",
       "  1248.02,1503.47 1248.02,1481.63 \n",
       "  \"/>\n",
       "<polyline clip-path=\"url(#clip2401)\" style=\"stroke:#000000; stroke-width:4; stroke-opacity:1; fill:none\" points=\"\n",
       "  1784.64,1503.47 1784.64,1481.63 \n",
       "  \"/>\n",
       "<polyline clip-path=\"url(#clip2401)\" style=\"stroke:#000000; stroke-width:4; stroke-opacity:1; fill:none\" points=\"\n",
       "  2321.26,1503.47 2321.26,1481.63 \n",
       "  \"/>\n",
       "<polyline clip-path=\"url(#clip2401)\" style=\"stroke:#000000; stroke-width:4; stroke-opacity:1; fill:none\" points=\"\n",
       "  174.775,1503.47 206.972,1503.47 \n",
       "  \"/>\n",
       "<polyline clip-path=\"url(#clip2401)\" style=\"stroke:#000000; stroke-width:4; stroke-opacity:1; fill:none\" points=\"\n",
       "  174.775,1139.42 206.972,1139.42 \n",
       "  \"/>\n",
       "<polyline clip-path=\"url(#clip2401)\" style=\"stroke:#000000; stroke-width:4; stroke-opacity:1; fill:none\" points=\"\n",
       "  174.775,775.359 206.972,775.359 \n",
       "  \"/>\n",
       "<polyline clip-path=\"url(#clip2401)\" style=\"stroke:#000000; stroke-width:4; stroke-opacity:1; fill:none\" points=\"\n",
       "  174.775,411.302 206.972,411.302 \n",
       "  \"/>\n",
       "<polyline clip-path=\"url(#clip2401)\" style=\"stroke:#000000; stroke-width:4; stroke-opacity:1; fill:none\" points=\"\n",
       "  174.775,47.2441 206.972,47.2441 \n",
       "  \"/>\n",
       "<g clip-path=\"url(#clip2401)\">\n",
       "<text style=\"fill:#000000; fill-opacity:1; font-family:Arial,Helvetica Neue,Helvetica,sans-serif; font-size:48px; text-anchor:middle;\" transform=\"rotate(0, 174.775, 1557.47)\" x=\"174.775\" y=\"1557.47\">0</text>\n",
       "</g>\n",
       "<g clip-path=\"url(#clip2401)\">\n",
       "<text style=\"fill:#000000; fill-opacity:1; font-family:Arial,Helvetica Neue,Helvetica,sans-serif; font-size:48px; text-anchor:middle;\" transform=\"rotate(0, 711.396, 1557.47)\" x=\"711.396\" y=\"1557.47\">50</text>\n",
       "</g>\n",
       "<g clip-path=\"url(#clip2401)\">\n",
       "<text style=\"fill:#000000; fill-opacity:1; font-family:Arial,Helvetica Neue,Helvetica,sans-serif; font-size:48px; text-anchor:middle;\" transform=\"rotate(0, 1248.02, 1557.47)\" x=\"1248.02\" y=\"1557.47\">100</text>\n",
       "</g>\n",
       "<g clip-path=\"url(#clip2401)\">\n",
       "<text style=\"fill:#000000; fill-opacity:1; font-family:Arial,Helvetica Neue,Helvetica,sans-serif; font-size:48px; text-anchor:middle;\" transform=\"rotate(0, 1784.64, 1557.47)\" x=\"1784.64\" y=\"1557.47\">150</text>\n",
       "</g>\n",
       "<g clip-path=\"url(#clip2401)\">\n",
       "<text style=\"fill:#000000; fill-opacity:1; font-family:Arial,Helvetica Neue,Helvetica,sans-serif; font-size:48px; text-anchor:middle;\" transform=\"rotate(0, 2321.26, 1557.47)\" x=\"2321.26\" y=\"1557.47\">200</text>\n",
       "</g>\n",
       "<g clip-path=\"url(#clip2401)\">\n",
       "<text style=\"fill:#000000; fill-opacity:1; font-family:Arial,Helvetica Neue,Helvetica,sans-serif; font-size:48px; text-anchor:end;\" transform=\"rotate(0, 150.775, 1520.97)\" x=\"150.775\" y=\"1520.97\">0</text>\n",
       "</g>\n",
       "<g clip-path=\"url(#clip2401)\">\n",
       "<text style=\"fill:#000000; fill-opacity:1; font-family:Arial,Helvetica Neue,Helvetica,sans-serif; font-size:48px; text-anchor:end;\" transform=\"rotate(0, 150.775, 1156.92)\" x=\"150.775\" y=\"1156.92\">50</text>\n",
       "</g>\n",
       "<g clip-path=\"url(#clip2401)\">\n",
       "<text style=\"fill:#000000; fill-opacity:1; font-family:Arial,Helvetica Neue,Helvetica,sans-serif; font-size:48px; text-anchor:end;\" transform=\"rotate(0, 150.775, 792.859)\" x=\"150.775\" y=\"792.859\">100</text>\n",
       "</g>\n",
       "<g clip-path=\"url(#clip2401)\">\n",
       "<text style=\"fill:#000000; fill-opacity:1; font-family:Arial,Helvetica Neue,Helvetica,sans-serif; font-size:48px; text-anchor:end;\" transform=\"rotate(0, 150.775, 428.802)\" x=\"150.775\" y=\"428.802\">150</text>\n",
       "</g>\n",
       "<g clip-path=\"url(#clip2401)\">\n",
       "<text style=\"fill:#000000; fill-opacity:1; font-family:Arial,Helvetica Neue,Helvetica,sans-serif; font-size:48px; text-anchor:end;\" transform=\"rotate(0, 150.775, 64.7441)\" x=\"150.775\" y=\"64.7441\">200</text>\n",
       "</g>\n",
       "<circle clip-path=\"url(#clip2403)\" style=\"fill:#000000; stroke:none; fill-opacity:1\" cx=\"1248.02\" cy=\"927.39\" r=\"14\"/>\n",
       "<circle clip-path=\"url(#clip2403)\" style=\"fill:#0000ff; stroke:none; fill-opacity:1\" cx=\"1248.02\" cy=\"927.39\" r=\"10\"/>\n",
       "<polyline clip-path=\"url(#clip2403)\" style=\"stroke:#0000ff; stroke-width:4; stroke-opacity:1; fill:none\" points=\"\n",
       "  1248.02,927.39 1248.02,834.191 \n",
       "  \"/>\n",
       "<polyline clip-path=\"url(#clip2403)\" style=\"stroke:#0000ff; stroke-width:4; stroke-opacity:1; fill:none\" points=\"\n",
       "  1230.02,870.191 1248.02,834.191 1266.02,870.191 \n",
       "  \"/>\n",
       "<polyline clip-path=\"url(#clip2403)\" style=\"stroke:#0000ff; stroke-width:4; stroke-opacity:1; fill:none\" points=\"\n",
       "  1248.02,834.191 1248.02,927.39 \n",
       "  \"/>\n",
       "<circle clip-path=\"url(#clip2403)\" style=\"fill:#000000; stroke:none; fill-opacity:1\" cx=\"1128.67\" cy=\"779.882\" r=\"14\"/>\n",
       "<circle clip-path=\"url(#clip2403)\" style=\"fill:#ff0000; stroke:none; fill-opacity:1\" cx=\"1128.67\" cy=\"779.882\" r=\"10\"/>\n",
       "<polyline clip-path=\"url(#clip2403)\" style=\"stroke:#ff0000; stroke-width:4; stroke-opacity:1; fill:none\" points=\"\n",
       "  1128.67,779.882 1355.26,779.79 \n",
       "  \"/>\n",
       "<polyline clip-path=\"url(#clip2403)\" style=\"stroke:#ff0000; stroke-width:4; stroke-opacity:1; fill:none\" points=\"\n",
       "  1319.25,761.805 1355.26,779.79 1319.26,797.805 \n",
       "  \"/>\n",
       "<polyline clip-path=\"url(#clip2403)\" style=\"stroke:#ff0000; stroke-width:4; stroke-opacity:1; fill:none\" points=\"\n",
       "  1355.26,779.79 1128.67,779.882 \n",
       "  \"/>\n",
       "<line clip-path=\"url(#clip2403)\" x1=\"1194.36\" y1=\"760.797\" x2=\"1170.36\" y2=\"784.797\" style=\"stroke:#000000; stroke-width:4; stroke-opacity:1\"/>\n",
       "<line clip-path=\"url(#clip2403)\" x1=\"1194.36\" y1=\"760.797\" x2=\"1170.36\" y2=\"736.797\" style=\"stroke:#000000; stroke-width:4; stroke-opacity:1\"/>\n",
       "<line clip-path=\"url(#clip2403)\" x1=\"1194.36\" y1=\"760.797\" x2=\"1218.36\" y2=\"736.797\" style=\"stroke:#000000; stroke-width:4; stroke-opacity:1\"/>\n",
       "<line clip-path=\"url(#clip2403)\" x1=\"1194.36\" y1=\"760.797\" x2=\"1218.36\" y2=\"784.797\" style=\"stroke:#000000; stroke-width:4; stroke-opacity:1\"/>\n",
       "<line clip-path=\"url(#clip2403)\" x1=\"1194.36\" y1=\"760.797\" x2=\"1174.36\" y2=\"780.797\" style=\"stroke:#ff0000; stroke-width:4; stroke-opacity:1\"/>\n",
       "<line clip-path=\"url(#clip2403)\" x1=\"1194.36\" y1=\"760.797\" x2=\"1174.36\" y2=\"740.797\" style=\"stroke:#ff0000; stroke-width:4; stroke-opacity:1\"/>\n",
       "<line clip-path=\"url(#clip2403)\" x1=\"1194.36\" y1=\"760.797\" x2=\"1214.36\" y2=\"740.797\" style=\"stroke:#ff0000; stroke-width:4; stroke-opacity:1\"/>\n",
       "<line clip-path=\"url(#clip2403)\" x1=\"1194.36\" y1=\"760.797\" x2=\"1214.36\" y2=\"780.797\" style=\"stroke:#ff0000; stroke-width:4; stroke-opacity:1\"/>\n",
       "<circle clip-path=\"url(#clip2403)\" style=\"fill:#000000; stroke:none; fill-opacity:1\" cx=\"1453.11\" cy=\"1131.06\" r=\"14\"/>\n",
       "<circle clip-path=\"url(#clip2403)\" style=\"fill:#008000; stroke:none; fill-opacity:1\" cx=\"1453.11\" cy=\"1131.06\" r=\"10\"/>\n",
       "<polyline clip-path=\"url(#clip2403)\" style=\"stroke:#008000; stroke-width:4; stroke-opacity:1; fill:none\" points=\"\n",
       "  1453.11,1131.06 1711.39,1099.7 \n",
       "  \"/>\n",
       "<polyline clip-path=\"url(#clip2403)\" style=\"stroke:#008000; stroke-width:4; stroke-opacity:1; fill:none\" points=\"\n",
       "  1673.48,1086.17 1711.39,1099.7 1677.82,1121.91 \n",
       "  \"/>\n",
       "<polyline clip-path=\"url(#clip2403)\" style=\"stroke:#008000; stroke-width:4; stroke-opacity:1; fill:none\" points=\"\n",
       "  1711.39,1099.7 1453.11,1131.06 \n",
       "  \"/>\n",
       "<line clip-path=\"url(#clip2403)\" x1=\"1548.53\" y1=\"1110.29\" x2=\"1524.53\" y2=\"1134.29\" style=\"stroke:#000000; stroke-width:4; stroke-opacity:1\"/>\n",
       "<line clip-path=\"url(#clip2403)\" x1=\"1548.53\" y1=\"1110.29\" x2=\"1524.53\" y2=\"1086.29\" style=\"stroke:#000000; stroke-width:4; stroke-opacity:1\"/>\n",
       "<line clip-path=\"url(#clip2403)\" x1=\"1548.53\" y1=\"1110.29\" x2=\"1572.53\" y2=\"1086.29\" style=\"stroke:#000000; stroke-width:4; stroke-opacity:1\"/>\n",
       "<line clip-path=\"url(#clip2403)\" x1=\"1548.53\" y1=\"1110.29\" x2=\"1572.53\" y2=\"1134.29\" style=\"stroke:#000000; stroke-width:4; stroke-opacity:1\"/>\n",
       "<line clip-path=\"url(#clip2403)\" x1=\"1548.53\" y1=\"1110.29\" x2=\"1528.53\" y2=\"1130.29\" style=\"stroke:#008000; stroke-width:4; stroke-opacity:1\"/>\n",
       "<line clip-path=\"url(#clip2403)\" x1=\"1548.53\" y1=\"1110.29\" x2=\"1528.53\" y2=\"1090.29\" style=\"stroke:#008000; stroke-width:4; stroke-opacity:1\"/>\n",
       "<line clip-path=\"url(#clip2403)\" x1=\"1548.53\" y1=\"1110.29\" x2=\"1568.53\" y2=\"1090.29\" style=\"stroke:#008000; stroke-width:4; stroke-opacity:1\"/>\n",
       "<line clip-path=\"url(#clip2403)\" x1=\"1548.53\" y1=\"1110.29\" x2=\"1568.53\" y2=\"1130.29\" style=\"stroke:#008000; stroke-width:4; stroke-opacity:1\"/>\n",
       "<circle clip-path=\"url(#clip2403)\" style=\"fill:#000000; stroke:none; fill-opacity:1\" cx=\"1487.84\" cy=\"546.229\" r=\"14\"/>\n",
       "<circle clip-path=\"url(#clip2403)\" style=\"fill:#008000; stroke:none; fill-opacity:1\" cx=\"1487.84\" cy=\"546.229\" r=\"10\"/>\n",
       "<polyline clip-path=\"url(#clip2403)\" style=\"stroke:#008000; stroke-width:4; stroke-opacity:1; fill:none\" points=\"\n",
       "  1487.84,546.229 1742.06,548.174 \n",
       "  \"/>\n",
       "<polyline clip-path=\"url(#clip2403)\" style=\"stroke:#008000; stroke-width:4; stroke-opacity:1; fill:none\" points=\"\n",
       "  1706.2,529.899 1742.06,548.174 1705.92,565.898 \n",
       "  \"/>\n",
       "<polyline clip-path=\"url(#clip2403)\" style=\"stroke:#008000; stroke-width:4; stroke-opacity:1; fill:none\" points=\"\n",
       "  1742.06,548.174 1487.84,546.229 \n",
       "  \"/>\n",
       "<line clip-path=\"url(#clip2403)\" x1=\"1537.79\" y1=\"549.644\" x2=\"1513.79\" y2=\"573.644\" style=\"stroke:#000000; stroke-width:4; stroke-opacity:1\"/>\n",
       "<line clip-path=\"url(#clip2403)\" x1=\"1537.79\" y1=\"549.644\" x2=\"1513.79\" y2=\"525.644\" style=\"stroke:#000000; stroke-width:4; stroke-opacity:1\"/>\n",
       "<line clip-path=\"url(#clip2403)\" x1=\"1537.79\" y1=\"549.644\" x2=\"1561.79\" y2=\"525.644\" style=\"stroke:#000000; stroke-width:4; stroke-opacity:1\"/>\n",
       "<line clip-path=\"url(#clip2403)\" x1=\"1537.79\" y1=\"549.644\" x2=\"1561.79\" y2=\"573.644\" style=\"stroke:#000000; stroke-width:4; stroke-opacity:1\"/>\n",
       "<line clip-path=\"url(#clip2403)\" x1=\"1537.79\" y1=\"549.644\" x2=\"1517.79\" y2=\"569.644\" style=\"stroke:#008000; stroke-width:4; stroke-opacity:1\"/>\n",
       "<line clip-path=\"url(#clip2403)\" x1=\"1537.79\" y1=\"549.644\" x2=\"1517.79\" y2=\"529.644\" style=\"stroke:#008000; stroke-width:4; stroke-opacity:1\"/>\n",
       "<line clip-path=\"url(#clip2403)\" x1=\"1537.79\" y1=\"549.644\" x2=\"1557.79\" y2=\"529.644\" style=\"stroke:#008000; stroke-width:4; stroke-opacity:1\"/>\n",
       "<line clip-path=\"url(#clip2403)\" x1=\"1537.79\" y1=\"549.644\" x2=\"1557.79\" y2=\"569.644\" style=\"stroke:#008000; stroke-width:4; stroke-opacity:1\"/>\n",
       "<circle clip-path=\"url(#clip2403)\" style=\"fill:#000000; stroke:none; fill-opacity:1\" cx=\"1135.78\" cy=\"1064.23\" r=\"14\"/>\n",
       "<circle clip-path=\"url(#clip2403)\" style=\"fill:#008000; stroke:none; fill-opacity:1\" cx=\"1135.78\" cy=\"1064.23\" r=\"10\"/>\n",
       "<polyline clip-path=\"url(#clip2403)\" style=\"stroke:#008000; stroke-width:4; stroke-opacity:1; fill:none\" points=\"\n",
       "  1135.78,1064.23 1297.22,1049.23 \n",
       "  \"/>\n",
       "<polyline clip-path=\"url(#clip2403)\" style=\"stroke:#008000; stroke-width:4; stroke-opacity:1; fill:none\" points=\"\n",
       "  1259.71,1034.64 1297.22,1049.23 1263.04,1070.49 \n",
       "  \"/>\n",
       "<polyline clip-path=\"url(#clip2403)\" style=\"stroke:#008000; stroke-width:4; stroke-opacity:1; fill:none\" points=\"\n",
       "  1297.22,1049.23 1135.78,1064.23 \n",
       "  \"/>\n",
       "<line clip-path=\"url(#clip2403)\" x1=\"1140.69\" y1=\"1059.32\" x2=\"1116.69\" y2=\"1083.32\" style=\"stroke:#000000; stroke-width:4; stroke-opacity:1\"/>\n",
       "<line clip-path=\"url(#clip2403)\" x1=\"1140.69\" y1=\"1059.32\" x2=\"1116.69\" y2=\"1035.32\" style=\"stroke:#000000; stroke-width:4; stroke-opacity:1\"/>\n",
       "<line clip-path=\"url(#clip2403)\" x1=\"1140.69\" y1=\"1059.32\" x2=\"1164.69\" y2=\"1035.32\" style=\"stroke:#000000; stroke-width:4; stroke-opacity:1\"/>\n",
       "<line clip-path=\"url(#clip2403)\" x1=\"1140.69\" y1=\"1059.32\" x2=\"1164.69\" y2=\"1083.32\" style=\"stroke:#000000; stroke-width:4; stroke-opacity:1\"/>\n",
       "<line clip-path=\"url(#clip2403)\" x1=\"1140.69\" y1=\"1059.32\" x2=\"1120.69\" y2=\"1079.32\" style=\"stroke:#008000; stroke-width:4; stroke-opacity:1\"/>\n",
       "<line clip-path=\"url(#clip2403)\" x1=\"1140.69\" y1=\"1059.32\" x2=\"1120.69\" y2=\"1039.32\" style=\"stroke:#008000; stroke-width:4; stroke-opacity:1\"/>\n",
       "<line clip-path=\"url(#clip2403)\" x1=\"1140.69\" y1=\"1059.32\" x2=\"1160.69\" y2=\"1039.32\" style=\"stroke:#008000; stroke-width:4; stroke-opacity:1\"/>\n",
       "<line clip-path=\"url(#clip2403)\" x1=\"1140.69\" y1=\"1059.32\" x2=\"1160.69\" y2=\"1079.32\" style=\"stroke:#008000; stroke-width:4; stroke-opacity:1\"/>\n",
       "<circle clip-path=\"url(#clip2403)\" style=\"fill:#000000; stroke:none; fill-opacity:1\" cx=\"1561.51\" cy=\"197.313\" r=\"14\"/>\n",
       "<circle clip-path=\"url(#clip2403)\" style=\"fill:#008000; stroke:none; fill-opacity:1\" cx=\"1561.51\" cy=\"197.313\" r=\"10\"/>\n",
       "<polyline clip-path=\"url(#clip2403)\" style=\"stroke:#008000; stroke-width:4; stroke-opacity:1; fill:none\" points=\"\n",
       "  1561.51,197.313 1843.15,187.128 \n",
       "  \"/>\n",
       "<polyline clip-path=\"url(#clip2403)\" style=\"stroke:#008000; stroke-width:4; stroke-opacity:1; fill:none\" points=\"\n",
       "  1806.53,170.441 1843.15,187.128 1807.83,206.417 \n",
       "  \"/>\n",
       "<polyline clip-path=\"url(#clip2403)\" style=\"stroke:#008000; stroke-width:4; stroke-opacity:1; fill:none\" points=\"\n",
       "  1843.15,187.128 1561.51,197.313 \n",
       "  \"/>\n",
       "<line clip-path=\"url(#clip2403)\" x1=\"1623.65\" y1=\"207.429\" x2=\"1599.65\" y2=\"231.429\" style=\"stroke:#000000; stroke-width:4; stroke-opacity:1\"/>\n",
       "<line clip-path=\"url(#clip2403)\" x1=\"1623.65\" y1=\"207.429\" x2=\"1599.65\" y2=\"183.429\" style=\"stroke:#000000; stroke-width:4; stroke-opacity:1\"/>\n",
       "<line clip-path=\"url(#clip2403)\" x1=\"1623.65\" y1=\"207.429\" x2=\"1647.65\" y2=\"183.429\" style=\"stroke:#000000; stroke-width:4; stroke-opacity:1\"/>\n",
       "<line clip-path=\"url(#clip2403)\" x1=\"1623.65\" y1=\"207.429\" x2=\"1647.65\" y2=\"231.429\" style=\"stroke:#000000; stroke-width:4; stroke-opacity:1\"/>\n",
       "<line clip-path=\"url(#clip2403)\" x1=\"1623.65\" y1=\"207.429\" x2=\"1603.65\" y2=\"227.429\" style=\"stroke:#008000; stroke-width:4; stroke-opacity:1\"/>\n",
       "<line clip-path=\"url(#clip2403)\" x1=\"1623.65\" y1=\"207.429\" x2=\"1603.65\" y2=\"187.429\" style=\"stroke:#008000; stroke-width:4; stroke-opacity:1\"/>\n",
       "<line clip-path=\"url(#clip2403)\" x1=\"1623.65\" y1=\"207.429\" x2=\"1643.65\" y2=\"187.429\" style=\"stroke:#008000; stroke-width:4; stroke-opacity:1\"/>\n",
       "<line clip-path=\"url(#clip2403)\" x1=\"1623.65\" y1=\"207.429\" x2=\"1643.65\" y2=\"227.429\" style=\"stroke:#008000; stroke-width:4; stroke-opacity:1\"/>\n",
       "<circle clip-path=\"url(#clip2403)\" style=\"fill:#000000; stroke:none; fill-opacity:1\" cx=\"1514.75\" cy=\"144.246\" r=\"14\"/>\n",
       "<circle clip-path=\"url(#clip2403)\" style=\"fill:#008000; stroke:none; fill-opacity:1\" cx=\"1514.75\" cy=\"144.246\" r=\"10\"/>\n",
       "<polyline clip-path=\"url(#clip2403)\" style=\"stroke:#008000; stroke-width:4; stroke-opacity:1; fill:none\" points=\"\n",
       "  1514.75,144.246 1750.02,110.435 \n",
       "  \"/>\n",
       "<polyline clip-path=\"url(#clip2403)\" style=\"stroke:#008000; stroke-width:4; stroke-opacity:1; fill:none\" points=\"\n",
       "  1711.83,97.7387 1750.02,110.435 1716.95,133.373 \n",
       "  \"/>\n",
       "<polyline clip-path=\"url(#clip2403)\" style=\"stroke:#008000; stroke-width:4; stroke-opacity:1; fill:none\" points=\"\n",
       "  1750.02,110.435 1514.75,144.246 \n",
       "  \"/>\n",
       "<line clip-path=\"url(#clip2403)\" x1=\"1548.53\" y1=\"127.337\" x2=\"1524.53\" y2=\"151.337\" style=\"stroke:#000000; stroke-width:4; stroke-opacity:1\"/>\n",
       "<line clip-path=\"url(#clip2403)\" x1=\"1548.53\" y1=\"127.337\" x2=\"1524.53\" y2=\"103.337\" style=\"stroke:#000000; stroke-width:4; stroke-opacity:1\"/>\n",
       "<line clip-path=\"url(#clip2403)\" x1=\"1548.53\" y1=\"127.337\" x2=\"1572.53\" y2=\"103.337\" style=\"stroke:#000000; stroke-width:4; stroke-opacity:1\"/>\n",
       "<line clip-path=\"url(#clip2403)\" x1=\"1548.53\" y1=\"127.337\" x2=\"1572.53\" y2=\"151.337\" style=\"stroke:#000000; stroke-width:4; stroke-opacity:1\"/>\n",
       "<line clip-path=\"url(#clip2403)\" x1=\"1548.53\" y1=\"127.337\" x2=\"1528.53\" y2=\"147.337\" style=\"stroke:#008000; stroke-width:4; stroke-opacity:1\"/>\n",
       "<line clip-path=\"url(#clip2403)\" x1=\"1548.53\" y1=\"127.337\" x2=\"1528.53\" y2=\"107.337\" style=\"stroke:#008000; stroke-width:4; stroke-opacity:1\"/>\n",
       "<line clip-path=\"url(#clip2403)\" x1=\"1548.53\" y1=\"127.337\" x2=\"1568.53\" y2=\"107.337\" style=\"stroke:#008000; stroke-width:4; stroke-opacity:1\"/>\n",
       "<line clip-path=\"url(#clip2403)\" x1=\"1548.53\" y1=\"127.337\" x2=\"1568.53\" y2=\"147.337\" style=\"stroke:#008000; stroke-width:4; stroke-opacity:1\"/>\n",
       "<circle clip-path=\"url(#clip2403)\" style=\"fill:#000000; stroke:none; fill-opacity:1\" cx=\"1100.18\" cy=\"1319.47\" r=\"14\"/>\n",
       "<circle clip-path=\"url(#clip2403)\" style=\"fill:#008000; stroke:none; fill-opacity:1\" cx=\"1100.18\" cy=\"1319.47\" r=\"10\"/>\n",
       "<polyline clip-path=\"url(#clip2403)\" style=\"stroke:#008000; stroke-width:4; stroke-opacity:1; fill:none\" points=\"\n",
       "  1100.18,1319.47 824.509,1357.71 \n",
       "  \"/>\n",
       "<polyline clip-path=\"url(#clip2403)\" style=\"stroke:#008000; stroke-width:4; stroke-opacity:1; fill:none\" points=\"\n",
       "  862.641,1370.59 824.509,1357.71 857.694,1334.94 \n",
       "  \"/>\n",
       "<polyline clip-path=\"url(#clip2403)\" style=\"stroke:#008000; stroke-width:4; stroke-opacity:1; fill:none\" points=\"\n",
       "  824.509,1357.71 1100.18,1319.47 \n",
       "  \"/>\n",
       "<line clip-path=\"url(#clip2403)\" x1=\"1054.83\" y1=\"1343.29\" x2=\"1030.83\" y2=\"1367.29\" style=\"stroke:#000000; stroke-width:4; stroke-opacity:1\"/>\n",
       "<line clip-path=\"url(#clip2403)\" x1=\"1054.83\" y1=\"1343.29\" x2=\"1030.83\" y2=\"1319.29\" style=\"stroke:#000000; stroke-width:4; stroke-opacity:1\"/>\n",
       "<line clip-path=\"url(#clip2403)\" x1=\"1054.83\" y1=\"1343.29\" x2=\"1078.83\" y2=\"1319.29\" style=\"stroke:#000000; stroke-width:4; stroke-opacity:1\"/>\n",
       "<line clip-path=\"url(#clip2403)\" x1=\"1054.83\" y1=\"1343.29\" x2=\"1078.83\" y2=\"1367.29\" style=\"stroke:#000000; stroke-width:4; stroke-opacity:1\"/>\n",
       "<line clip-path=\"url(#clip2403)\" x1=\"1054.83\" y1=\"1343.29\" x2=\"1034.83\" y2=\"1363.29\" style=\"stroke:#008000; stroke-width:4; stroke-opacity:1\"/>\n",
       "<line clip-path=\"url(#clip2403)\" x1=\"1054.83\" y1=\"1343.29\" x2=\"1034.83\" y2=\"1323.29\" style=\"stroke:#008000; stroke-width:4; stroke-opacity:1\"/>\n",
       "<line clip-path=\"url(#clip2403)\" x1=\"1054.83\" y1=\"1343.29\" x2=\"1074.83\" y2=\"1323.29\" style=\"stroke:#008000; stroke-width:4; stroke-opacity:1\"/>\n",
       "<line clip-path=\"url(#clip2403)\" x1=\"1054.83\" y1=\"1343.29\" x2=\"1074.83\" y2=\"1363.29\" style=\"stroke:#008000; stroke-width:4; stroke-opacity:1\"/>\n",
       "<circle clip-path=\"url(#clip2403)\" style=\"fill:#000000; stroke:none; fill-opacity:1\" cx=\"1273.01\" cy=\"334.403\" r=\"14\"/>\n",
       "<circle clip-path=\"url(#clip2403)\" style=\"fill:#008000; stroke:none; fill-opacity:1\" cx=\"1273.01\" cy=\"334.403\" r=\"10\"/>\n",
       "<polyline clip-path=\"url(#clip2403)\" style=\"stroke:#008000; stroke-width:4; stroke-opacity:1; fill:none\" points=\"\n",
       "  1273.01,334.403 1052.6,386.059 \n",
       "  \"/>\n",
       "<polyline clip-path=\"url(#clip2403)\" style=\"stroke:#008000; stroke-width:4; stroke-opacity:1; fill:none\" points=\"\n",
       "  1091.75,395.37 1052.6,386.059 1083.54,360.319 \n",
       "  \"/>\n",
       "<polyline clip-path=\"url(#clip2403)\" style=\"stroke:#008000; stroke-width:4; stroke-opacity:1; fill:none\" points=\"\n",
       "  1052.6,386.059 1273.01,334.403 \n",
       "  \"/>\n",
       "<line clip-path=\"url(#clip2403)\" x1=\"1258.75\" y1=\"323.928\" x2=\"1234.75\" y2=\"347.928\" style=\"stroke:#000000; stroke-width:4; stroke-opacity:1\"/>\n",
       "<line clip-path=\"url(#clip2403)\" x1=\"1258.75\" y1=\"323.928\" x2=\"1234.75\" y2=\"299.928\" style=\"stroke:#000000; stroke-width:4; stroke-opacity:1\"/>\n",
       "<line clip-path=\"url(#clip2403)\" x1=\"1258.75\" y1=\"323.928\" x2=\"1282.75\" y2=\"299.928\" style=\"stroke:#000000; stroke-width:4; stroke-opacity:1\"/>\n",
       "<line clip-path=\"url(#clip2403)\" x1=\"1258.75\" y1=\"323.928\" x2=\"1282.75\" y2=\"347.928\" style=\"stroke:#000000; stroke-width:4; stroke-opacity:1\"/>\n",
       "<line clip-path=\"url(#clip2403)\" x1=\"1258.75\" y1=\"323.928\" x2=\"1238.75\" y2=\"343.928\" style=\"stroke:#008000; stroke-width:4; stroke-opacity:1\"/>\n",
       "<line clip-path=\"url(#clip2403)\" x1=\"1258.75\" y1=\"323.928\" x2=\"1238.75\" y2=\"303.928\" style=\"stroke:#008000; stroke-width:4; stroke-opacity:1\"/>\n",
       "<line clip-path=\"url(#clip2403)\" x1=\"1258.75\" y1=\"323.928\" x2=\"1278.75\" y2=\"303.928\" style=\"stroke:#008000; stroke-width:4; stroke-opacity:1\"/>\n",
       "<line clip-path=\"url(#clip2403)\" x1=\"1258.75\" y1=\"323.928\" x2=\"1278.75\" y2=\"343.928\" style=\"stroke:#008000; stroke-width:4; stroke-opacity:1\"/>\n",
       "<circle clip-path=\"url(#clip2403)\" style=\"fill:#000000; stroke:none; fill-opacity:1\" cx=\"1362.76\" cy=\"569.302\" r=\"14\"/>\n",
       "<circle clip-path=\"url(#clip2403)\" style=\"fill:#008000; stroke:none; fill-opacity:1\" cx=\"1362.76\" cy=\"569.302\" r=\"10\"/>\n",
       "<polyline clip-path=\"url(#clip2403)\" style=\"stroke:#008000; stroke-width:4; stroke-opacity:1; fill:none\" points=\"\n",
       "  1362.76,569.302 1224.72,612.083 \n",
       "  \"/>\n",
       "<polyline clip-path=\"url(#clip2403)\" style=\"stroke:#008000; stroke-width:4; stroke-opacity:1; fill:none\" points=\"\n",
       "  1264.44,618.62 1224.72,612.083 1253.78,584.233 \n",
       "  \"/>\n",
       "<polyline clip-path=\"url(#clip2403)\" style=\"stroke:#008000; stroke-width:4; stroke-opacity:1; fill:none\" points=\"\n",
       "  1224.72,612.083 1362.76,569.302 \n",
       "  \"/>\n",
       "<line clip-path=\"url(#clip2403)\" x1=\"1312.41\" y1=\"578.768\" x2=\"1288.41\" y2=\"602.768\" style=\"stroke:#000000; stroke-width:4; stroke-opacity:1\"/>\n",
       "<line clip-path=\"url(#clip2403)\" x1=\"1312.41\" y1=\"578.768\" x2=\"1288.41\" y2=\"554.768\" style=\"stroke:#000000; stroke-width:4; stroke-opacity:1\"/>\n",
       "<line clip-path=\"url(#clip2403)\" x1=\"1312.41\" y1=\"578.768\" x2=\"1336.41\" y2=\"554.768\" style=\"stroke:#000000; stroke-width:4; stroke-opacity:1\"/>\n",
       "<line clip-path=\"url(#clip2403)\" x1=\"1312.41\" y1=\"578.768\" x2=\"1336.41\" y2=\"602.768\" style=\"stroke:#000000; stroke-width:4; stroke-opacity:1\"/>\n",
       "<line clip-path=\"url(#clip2403)\" x1=\"1312.41\" y1=\"578.768\" x2=\"1292.41\" y2=\"598.768\" style=\"stroke:#008000; stroke-width:4; stroke-opacity:1\"/>\n",
       "<line clip-path=\"url(#clip2403)\" x1=\"1312.41\" y1=\"578.768\" x2=\"1292.41\" y2=\"558.768\" style=\"stroke:#008000; stroke-width:4; stroke-opacity:1\"/>\n",
       "<line clip-path=\"url(#clip2403)\" x1=\"1312.41\" y1=\"578.768\" x2=\"1332.41\" y2=\"558.768\" style=\"stroke:#008000; stroke-width:4; stroke-opacity:1\"/>\n",
       "<line clip-path=\"url(#clip2403)\" x1=\"1312.41\" y1=\"578.768\" x2=\"1332.41\" y2=\"598.768\" style=\"stroke:#008000; stroke-width:4; stroke-opacity:1\"/>\n",
       "<circle clip-path=\"url(#clip2403)\" style=\"fill:#000000; stroke:none; fill-opacity:1\" cx=\"1024.64\" cy=\"1303.51\" r=\"14\"/>\n",
       "<circle clip-path=\"url(#clip2403)\" style=\"fill:#008000; stroke:none; fill-opacity:1\" cx=\"1024.64\" cy=\"1303.51\" r=\"10\"/>\n",
       "<polyline clip-path=\"url(#clip2403)\" style=\"stroke:#008000; stroke-width:4; stroke-opacity:1; fill:none\" points=\"\n",
       "  1024.64,1303.51 833.259,1322.31 \n",
       "  \"/>\n",
       "<polyline clip-path=\"url(#clip2403)\" style=\"stroke:#008000; stroke-width:4; stroke-opacity:1; fill:none\" points=\"\n",
       "  870.846,1336.7 833.259,1322.31 867.328,1300.88 \n",
       "  \"/>\n",
       "<polyline clip-path=\"url(#clip2403)\" style=\"stroke:#008000; stroke-width:4; stroke-opacity:1; fill:none\" points=\"\n",
       "  833.259,1322.31 1024.64,1303.51 \n",
       "  \"/>\n",
       "<line clip-path=\"url(#clip2403)\" x1=\"1001.17\" y1=\"1299.6\" x2=\"977.172\" y2=\"1323.6\" style=\"stroke:#000000; stroke-width:4; stroke-opacity:1\"/>\n",
       "<line clip-path=\"url(#clip2403)\" x1=\"1001.17\" y1=\"1299.6\" x2=\"977.172\" y2=\"1275.6\" style=\"stroke:#000000; stroke-width:4; stroke-opacity:1\"/>\n",
       "<line clip-path=\"url(#clip2403)\" x1=\"1001.17\" y1=\"1299.6\" x2=\"1025.17\" y2=\"1275.6\" style=\"stroke:#000000; stroke-width:4; stroke-opacity:1\"/>\n",
       "<line clip-path=\"url(#clip2403)\" x1=\"1001.17\" y1=\"1299.6\" x2=\"1025.17\" y2=\"1323.6\" style=\"stroke:#000000; stroke-width:4; stroke-opacity:1\"/>\n",
       "<line clip-path=\"url(#clip2403)\" x1=\"1001.17\" y1=\"1299.6\" x2=\"981.172\" y2=\"1319.6\" style=\"stroke:#008000; stroke-width:4; stroke-opacity:1\"/>\n",
       "<line clip-path=\"url(#clip2403)\" x1=\"1001.17\" y1=\"1299.6\" x2=\"981.172\" y2=\"1279.6\" style=\"stroke:#008000; stroke-width:4; stroke-opacity:1\"/>\n",
       "<line clip-path=\"url(#clip2403)\" x1=\"1001.17\" y1=\"1299.6\" x2=\"1021.17\" y2=\"1279.6\" style=\"stroke:#008000; stroke-width:4; stroke-opacity:1\"/>\n",
       "<line clip-path=\"url(#clip2403)\" x1=\"1001.17\" y1=\"1299.6\" x2=\"1021.17\" y2=\"1319.6\" style=\"stroke:#008000; stroke-width:4; stroke-opacity:1\"/>\n",
       "<polygon clip-path=\"url(#clip2401)\" points=\"\n",
       "1213.27,251.724 2249.26,251.724 2249.26,130.764 1213.27,130.764 \n",
       "  \" fill=\"#ffffff\" fill-rule=\"evenodd\" fill-opacity=\"1\"/>\n",
       "<polyline clip-path=\"url(#clip2401)\" style=\"stroke:#000000; stroke-width:4; stroke-opacity:1; fill:none\" points=\"\n",
       "  1213.27,251.724 2249.26,251.724 2249.26,130.764 1213.27,130.764 1213.27,251.724 \n",
       "  \"/>\n",
       "<circle clip-path=\"url(#clip2401)\" style=\"fill:#000000; stroke:none; fill-opacity:1\" cx=\"1321.27\" cy=\"191.244\" r=\"25\"/>\n",
       "<circle clip-path=\"url(#clip2401)\" style=\"fill:#0000ff; stroke:none; fill-opacity:1\" cx=\"1321.27\" cy=\"191.244\" r=\"21\"/>\n",
       "<g clip-path=\"url(#clip2401)\">\n",
       "<text style=\"fill:#000000; fill-opacity:1; font-family:Arial,Helvetica Neue,Helvetica,sans-serif; font-size:48px; text-anchor:start;\" transform=\"rotate(0, 1405.27, 208.744)\" x=\"1405.27\" y=\"208.744\">Step 21 with action 0 reward -107.76</text>\n",
       "</g>\n",
       "<g clip-path=\"url(#clip2401)\">\n",
       "<text style=\"fill:#000000; fill-opacity:1; font-family:Arial,Helvetica Neue,Helvetica,sans-serif; font-size:48px; text-anchor:middle;\" transform=\"rotate(0, 711.396, 173.961)\" x=\"711.396\" y=\"173.961\">R_com 0.00, R_eff 0.00, R_saf -107.76</text>\n",
       "</g>\n",
       "<g clip-path=\"url(#clip2401)\">\n",
       "<text style=\"fill:#000000; fill-opacity:1; font-family:Arial,Helvetica Neue,Helvetica,sans-serif; font-size:48px; text-anchor:middle;\" transform=\"rotate(0, 711.396, 246.773)\" x=\"711.396\" y=\"246.773\">TTC 0.22 seconds, D_min 19.00 meters</text>\n",
       "</g>\n",
       "<g clip-path=\"url(#clip2401)\">\n",
       "<text style=\"fill:#000000; fill-opacity:1; font-family:Arial,Helvetica Neue,Helvetica,sans-serif; font-size:48px; text-anchor:middle;\" transform=\"rotate(0, 1409, 944.89)\" x=\"1409\" y=\"944.89\">v=12.8 m.s-1</text>\n",
       "</g>\n",
       "<g clip-path=\"url(#clip2401)\">\n",
       "<text style=\"fill:#000000; fill-opacity:1; font-family:Arial,Helvetica Neue,Helvetica,sans-serif; font-size:48px; text-anchor:middle;\" transform=\"rotate(0, 1235.99, 760.976)\" x=\"1235.99\" y=\"760.976\">v=21.1 m.s-1</text>\n",
       "</g>\n",
       "<g clip-path=\"url(#clip2401)\">\n",
       "<text style=\"fill:#000000; fill-opacity:1; font-family:Arial,Helvetica Neue,Helvetica,sans-serif; font-size:48px; text-anchor:middle;\" transform=\"rotate(0, 1560.43, 1112.15)\" x=\"1560.43\" y=\"1112.15\">v=24.4 m.s-1</text>\n",
       "</g>\n",
       "<g clip-path=\"url(#clip2401)\">\n",
       "<text style=\"fill:#000000; fill-opacity:1; font-family:Arial,Helvetica Neue,Helvetica,sans-serif; font-size:48px; text-anchor:middle;\" transform=\"rotate(0, 1595.17, 527.323)\" x=\"1595.17\" y=\"527.323\">v=23.7 m.s-1</text>\n",
       "</g>\n",
       "<g clip-path=\"url(#clip2401)\">\n",
       "<text style=\"fill:#000000; fill-opacity:1; font-family:Arial,Helvetica Neue,Helvetica,sans-serif; font-size:48px; text-anchor:middle;\" transform=\"rotate(0, 1243.1, 1045.33)\" x=\"1243.1\" y=\"1045.33\">v=15.2 m.s-1</text>\n",
       "</g>\n",
       "<g clip-path=\"url(#clip2401)\">\n",
       "<text style=\"fill:#000000; fill-opacity:1; font-family:Arial,Helvetica Neue,Helvetica,sans-serif; font-size:48px; text-anchor:middle;\" transform=\"rotate(0, 1668.83, 178.407)\" x=\"1668.83\" y=\"178.407\">v=26.3 m.s-1</text>\n",
       "</g>\n",
       "<g clip-path=\"url(#clip2401)\">\n",
       "<text style=\"fill:#000000; fill-opacity:1; font-family:Arial,Helvetica Neue,Helvetica,sans-serif; font-size:48px; text-anchor:middle;\" transform=\"rotate(0, 1622.07, 125.34)\" x=\"1622.07\" y=\"125.34\">v=22.4 m.s-1</text>\n",
       "</g>\n",
       "<g clip-path=\"url(#clip2401)\">\n",
       "<text style=\"fill:#000000; fill-opacity:1; font-family:Arial,Helvetica Neue,Helvetica,sans-serif; font-size:48px; text-anchor:middle;\" transform=\"rotate(0, 1207.5, 1300.56)\" x=\"1207.5\" y=\"1300.56\">v=26.2 m.s-1</text>\n",
       "</g>\n",
       "<g clip-path=\"url(#clip2401)\">\n",
       "<text style=\"fill:#000000; fill-opacity:1; font-family:Arial,Helvetica Neue,Helvetica,sans-serif; font-size:48px; text-anchor:middle;\" transform=\"rotate(0, 1380.33, 315.497)\" x=\"1380.33\" y=\"315.497\">v=21.7 m.s-1</text>\n",
       "</g>\n",
       "<g clip-path=\"url(#clip2401)\">\n",
       "<text style=\"fill:#000000; fill-opacity:1; font-family:Arial,Helvetica Neue,Helvetica,sans-serif; font-size:48px; text-anchor:middle;\" transform=\"rotate(0, 1470.08, 550.397)\" x=\"1470.08\" y=\"550.397\">v=14.1 m.s-1</text>\n",
       "</g>\n",
       "<g clip-path=\"url(#clip2401)\">\n",
       "<text style=\"fill:#000000; fill-opacity:1; font-family:Arial,Helvetica Neue,Helvetica,sans-serif; font-size:48px; text-anchor:middle;\" transform=\"rotate(0, 1131.96, 1284.61)\" x=\"1131.96\" y=\"1284.61\">v=18.0 m.s-1</text>\n",
       "</g>\n",
       "</svg>\n"
      ]
     },
     "execution_count": 53,
     "metadata": {},
     "output_type": "execute_result"
    }
   ],
   "source": [
    "plots[22]"
   ]
  },
  {
   "cell_type": "markdown",
   "metadata": {},
   "source": [
    "## Visualization\n",
    "The results of this simulation can be visualized as a gif animation.  \n",
    "  "
   ]
  },
  {
   "cell_type": "code",
   "execution_count": 54,
   "metadata": {
    "collapsed": true
   },
   "outputs": [],
   "source": [
    "using Reel"
   ]
  },
  {
   "cell_type": "code",
   "execution_count": 55,
   "metadata": {
    "collapsed": false
   },
   "outputs": [
    {
     "name": "stdout",
     "output_type": "stream",
     "text": [
      "........................................................."
     ]
    },
    {
     "data": {
      "text/plain": [
       "\"img/visu10objs.gif\""
      ]
     },
     "execution_count": 55,
     "metadata": {},
     "output_type": "execute_result"
    }
   ],
   "source": [
    "frames = Frames(MIME(\"image/png\"), fps=5)\n",
    "for plt in plots\n",
    "    print(\".\")\n",
    "    push!(frames, plt)\n",
    "end\n",
    "write(\"img/visu10objs.gif\", frames)"
   ]
  },
  {
   "cell_type": "code",
   "execution_count": 56,
   "metadata": {
    "collapsed": false
   },
   "outputs": [
    {
     "data": {
      "text/html": [
       "<img src=\"img/visu10objs.gif\"/>"
      ],
      "text/plain": [
       "HTML{String}(\"<img src=\\\"img/visu10objs.gif\\\"/>\")"
      ]
     },
     "execution_count": 56,
     "metadata": {},
     "output_type": "execute_result"
    }
   ],
   "source": [
    "HTML(\"\"\"<img src=\"img/visu10objs.gif\"/>\"\"\")"
   ]
  },
  {
   "cell_type": "code",
   "execution_count": null,
   "metadata": {
    "collapsed": false
   },
   "outputs": [],
   "source": [
    "?POMCPSolver"
   ]
  },
  {
   "cell_type": "markdown",
   "metadata": {},
   "source": [
    "## Tree Visualization"
   ]
  },
  {
   "cell_type": "code",
   "execution_count": null,
   "metadata": {
    "collapsed": false
   },
   "outputs": [],
   "source": [
    "using POMDPModels\n",
    "using POMDPModelTools\n",
    "using D3Trees"
   ]
  },
  {
   "cell_type": "markdown",
   "metadata": {},
   "source": [
    "The search tree can be visualized with D3Trees.jl after running the action_info() as in the example below. Note: tree_in_info must be set to true either as a solver option or as a keyword argument to action_info() for this to work (it is disabled by default because it can use a lot of memory)."
   ]
  },
  {
   "cell_type": "code",
   "execution_count": null,
   "metadata": {
    "collapsed": false
   },
   "outputs": [],
   "source": [
    "pomdp = TrajPOMDP()\n",
    "\n",
    "#solver = POMCPSolver(tree_queries=1000, c=10)\n",
    "solver = POMCPSolver(tree_queries=500, c=10, tree_in_info=true, experimental_ttc1=true)\n",
    "#solver = POMCPSolver(tree_queries=500, c=10)\n",
    "\n",
    "planner = solve(solver, pomdp);\n",
    "a, info = action_info(planner, initialstate_distribution(pomdp), tree_in_info=true);"
   ]
  },
  {
   "cell_type": "code",
   "execution_count": null,
   "metadata": {
    "collapsed": false
   },
   "outputs": [],
   "source": [
    "inchrome(D3Tree(info[:tree], init_expand=6))"
   ]
  },
  {
   "cell_type": "markdown",
   "metadata": {
    "collapsed": true
   },
   "source": [
    "Testing how to aggregate observations in the tree"
   ]
  },
  {
   "cell_type": "markdown",
   "metadata": {},
   "source": []
  },
  {
   "cell_type": "markdown",
   "metadata": {},
   "source": [
    "## Exact solution   \n",
    "\n",
    "We have linear-Gaussian dynamics delaing with $[x,y,v_x,v_y]$ vectors  \n",
    "If we can make the reward quadratic, then we could derive an exact solution as per DMU 6.4.6 and DMU 6.2.2  \n",
    "Let's try at least to think about it and make a quadratic reward proposal ...  \n",
    "  \n",
    "** This is something that is potentially very interesting to investigate**"
   ]
  },
  {
   "cell_type": "code",
   "execution_count": null,
   "metadata": {
    "collapsed": true
   },
   "outputs": [],
   "source": []
  }
 ],
 "metadata": {
  "anaconda-cloud": {},
  "kernelspec": {
   "display_name": "Julia 1.0.0",
   "language": "julia",
   "name": "julia-1.0"
  },
  "language_info": {
   "file_extension": ".jl",
   "mimetype": "application/julia",
   "name": "julia",
   "version": "1.0.0"
  }
 },
 "nbformat": 4,
 "nbformat_minor": 1
}
